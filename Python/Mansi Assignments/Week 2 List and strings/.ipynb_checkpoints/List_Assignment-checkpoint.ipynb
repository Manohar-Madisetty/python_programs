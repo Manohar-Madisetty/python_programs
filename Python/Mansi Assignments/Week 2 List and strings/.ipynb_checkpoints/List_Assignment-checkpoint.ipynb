{
 "cells": [
  {
   "cell_type": "code",
   "execution_count": 19,
   "metadata": {
    "id": "gtlAv2oq9yzd"
   },
   "outputs": [
    {
     "name": "stdout",
     "output_type": "stream",
     "text": [
      "100\n"
     ]
    }
   ],
   "source": [
    "#Write a Python program to find the sum of all elements in a list using loop.\n",
    "#Input:- [10,20,30,40]\n",
    "#Output:- 100\n",
    "\n",
    "list1 = [10,20,30,40]\n",
    "\n",
    "total = 0  \n",
    "\n",
    "for i in range(len(list1)):\n",
    "    \n",
    "         total += list1[i]\n",
    "        \n",
    "print(total)"
   ]
  },
  {
   "cell_type": "code",
   "execution_count": 18,
   "metadata": {
    "id": "gTbA8psa93Y_"
   },
   "outputs": [
    {
     "name": "stdout",
     "output_type": "stream",
     "text": [
      "240000\n"
     ]
    }
   ],
   "source": [
    "#Write a Python program to find the multiplication of all elements in a list using loop.\n",
    "#Input:- [10,20,30,40]\n",
    "#Output:- 240000\n",
    "\n",
    "list1 = [10,20,30,40]\n",
    "\n",
    "Product = 1  \n",
    "\n",
    "for i in range(len(list1)):\n",
    "         Product *= list1[i]\n",
    "        \n",
    "print(Product)\n"
   ]
  },
  {
   "cell_type": "code",
   "execution_count": 28,
   "metadata": {
    "id": "XBCrEtLN94Lj"
   },
   "outputs": [
    {
     "name": "stdout",
     "output_type": "stream",
     "text": [
      "largest number is :  2321\n"
     ]
    }
   ],
   "source": [
    "#Write a Python program to find the largest number from a list using loop.\n",
    "#Input:- [10,100,2321, 1,200,2]\n",
    "#Output:- 2321\n",
    "\n",
    "#Method 1\n",
    "\n",
    "list2 = [10,100,2321, 1,200,2]\n",
    "\n",
    "max_num = list2[0]\n",
    "\n",
    "for i in list2:\n",
    "    if i > max_num:\n",
    "        max_num = i\n",
    "print(\"largest number is : \", max_num)\n",
    "   \n",
    "    \n",
    "#Method 2\n",
    "lst = [10,100,2321, 1,200,2]\n",
    "max_num = lst[0]\n",
    "for ind in range(len(lst)):\n",
    "  if lst[ind] > max_num:\n",
    "    max_num = lst[ind]"
   ]
  },
  {
   "cell_type": "code",
   "execution_count": 9,
   "metadata": {
    "id": "l3paUtbH94Vw"
   },
   "outputs": [
    {
     "name": "stdout",
     "output_type": "stream",
     "text": [
      "Smallest number is:  1\n"
     ]
    }
   ],
   "source": [
    "#Write a Python program to find the smallest number from a list using loop.\n",
    "#Input:- [10,100,2321, 1,200,2]\n",
    "#Output:- 1\n",
    "\n",
    "list1 = [10,100,2321, 1,200,2]\n",
    "\n",
    "min_num = list1[0]\n",
    "\n",
    "for i in list1:\n",
    "    if i<min_num:\n",
    "        min_num=i\n",
    "        \n",
    "print(\"Smallest number is: \", min_num)"
   ]
  },
  {
   "cell_type": "code",
   "execution_count": 22,
   "metadata": {
    "id": "JTVgy5VD94cE"
   },
   "outputs": [
    {
     "name": "stdout",
     "output_type": "stream",
     "text": [
      "Palindrome having more than 2 string values are:  2\n"
     ]
    }
   ],
   "source": [
    "#Write a Python program to count the number of strings having length more than 2 and are palindrome in a list using loop.\n",
    "#Input:- ['ab', 'abc', 'aba', 'xyz', '1991']\n",
    "#Output:- 2\n",
    "\n",
    "list1 = ['ab', 'abc', 'aba', 'xyz', '1991']\n",
    "\n",
    "n = 0\n",
    "\n",
    "for i in range(len(list1)):\n",
    "    if list1[i] == list1[i][::-1] and len(list1[i])>2:\n",
    "        n+=1\n",
    "        \n",
    "print(\"Palindrome having more than 2 string values are: \", n)"
   ]
  },
  {
   "cell_type": "code",
   "execution_count": 26,
   "metadata": {
    "id": "xs-ZGJbJ94gr"
   },
   "outputs": [
    {
     "name": "stdout",
     "output_type": "stream",
     "text": [
      "Ascending order of numbers are:  [1, 2, 9, 10, 65, 80, 100, 298, 483, 9213, 49876]\n"
     ]
    }
   ],
   "source": [
    "#Write a Python program to sort a list in ascending order using loop.\n",
    "#Input:- [100,10,1,298,65,483,49876,2,80,9,9213]\n",
    "#Output:- [1,2,9,10,65,80,100,298,483,9213,49876]\n",
    "\n",
    "a_list = [100,10,1,298,65,483,49876,2,80,9,9213]\n",
    "\n",
    "\n",
    "\n",
    "for i in range(len(a_list)):\n",
    "    for j in range(len(a_list)-i-1):\n",
    "        if a_list[j] > a_list[j+1]:\n",
    "            a_list[j], a_list[j+1] = a_list[j+1], a_list[j]\n",
    "        \n",
    "print(\"Ascending order of numbers are: \", a_list)"
   ]
  },
  {
   "cell_type": "code",
   "execution_count": 31,
   "metadata": {
    "id": "VhKQJizZ94kg"
   },
   "outputs": [
    {
     "name": "stdout",
     "output_type": "stream",
     "text": [
      "The sorted list is [(9, 1), (2, 3), (5, 4), (5, 5), (7, 6), (5, 9)]\n"
     ]
    }
   ],
   "source": [
    "#Write a Python program to get a sorted list in increasing order of last element in each tuple in a given list using loop.\n",
    "#Input:- [(5,4),(9,1),(2,3),(5,9),(7,6),(5,5)]\n",
    "#output:- [(9,1),(2,3),(5,4),(5,5),(7,6),(5,9)]\n",
    "\n",
    "tup = ([(5,4),(9,1),(2,3),(5,9),(7,6),(5,5)])\n",
    "\n",
    "for i in range(len(tup)):\n",
    "    for j in range(len(tup)-i-1):\n",
    "        if tup[j][-1]>tup[j+1][-1]:\n",
    "            tup[j],tup[j+1] =tup[j+1],tup[j]\n",
    "            \n",
    "print(\"The sorted list is\", tup)\n"
   ]
  },
  {
   "cell_type": "code",
   "execution_count": 32,
   "metadata": {
    "id": "YJrCLYp694n_"
   },
   "outputs": [
    {
     "name": "stdout",
     "output_type": "stream",
     "text": [
      "List after removing duplicate value:  [10, 1, 11, 29, 876, 768, 92]\n"
     ]
    }
   ],
   "source": [
    "#Write a Python program to remove duplicate element from a list using loop.\n",
    "#Input:- [10,1,11,1,29,876,768,10,11,1,92,29,876]\n",
    "#Output:- [10,1,11,29,876,768,92]\n",
    "\n",
    "list1 = [10,1,11,1,29,876,768,10,11,1,92,29,876]\n",
    "\n",
    "new_list = []\n",
    "\n",
    "for i in range(len(list1)):\n",
    "    if list1[i] not in new_list:\n",
    "        new_list.append(list1[i])\n",
    "        \n",
    "print(\"List after removing duplicate value: \", new_list)\n",
    "        \n"
   ]
  },
  {
   "cell_type": "code",
   "execution_count": 37,
   "metadata": {
    "id": "koYe4YCu94rh"
   },
   "outputs": [
    {
     "name": "stdout",
     "output_type": "stream",
     "text": [
      "List is empty []\n",
      "enter list element: 10,20,30\n",
      "List is not Empty\n"
     ]
    }
   ],
   "source": [
    "#Write a Python program to check a list is empty or not?\n",
    "#Input:- []\n",
    "#Output:- List is empty\n",
    "#Input:- [10,20,30]\n",
    "#Output:- List is not empty\n",
    "\n",
    "\n",
    "lista = eval(input(\"enter list element: \"))\n",
    "\n",
    "if len(lista) == 0:\n",
    "    print(\"List is Empty\")\n",
    "    \n",
    "else:\n",
    "    print(\"List is not Empty\")\n",
    "    "
   ]
  },
  {
   "cell_type": "code",
   "execution_count": 45,
   "metadata": {
    "id": "mES1WANa94u5"
   },
   "outputs": [
    {
     "name": "stdout",
     "output_type": "stream",
     "text": [
      "[[10], [10.2], [(10+20j)], ['Python'], [[10, 20]], [(10, 20)]]\n"
     ]
    }
   ],
   "source": [
    "#Write a Python program to copy a list using loop.\n",
    "#inp_lst = [10,10.20,10+20j, 'Python', [10,20], (10,20)]\n",
    "#out_lst = [10,10.20,10+20j, 'Python', [10,20], (10,20)]\n",
    "\n",
    "list2 = [10,10.20,10+20j, 'Python', [10,20], (10,20)]\n",
    "\n",
    "new = []\n",
    "\n",
    "for i in list2:\n",
    "    new.append([i])\n",
    "print(new)\n"
   ]
  },
  {
   "cell_type": "code",
   "execution_count": 99,
   "metadata": {
    "id": "CpBh31WO94yi"
   },
   "outputs": [
    {
     "name": "stdout",
     "output_type": "stream",
     "text": [
      "['much', 'wood', 'would', 'woodchuck', 'chuck', 'could']\n"
     ]
    }
   ],
   "source": [
    "#Write a Python program to find the list of words that are longer than or equal to 4 from a given string.\n",
    "#Input:- 'How much wood would a woodchuck chuck if a woodchuck could chuck wood'\n",
    "#Output:- ['much', 'wood', 'would', 'woodchuck', 'chuck', 'could']\n",
    "#Note:- Duplicate should be avoided.\n",
    "\n",
    "# list1 = ['How much wood would a woodchuck chuck if a woodchuck could chuck wood']\n",
    "\n",
    "# emp_list = []\n",
    "# s = ''\n",
    "\n",
    "# for i in range(len(list1)):\n",
    "#   if list1[i] == '':\n",
    "#      if s not in emp_list[i] and len(s)>=4:\n",
    "#          emp_list.append(s)\n",
    "#             s= ''\n",
    "#     else:\n",
    "#      s= ''\n",
    "            \n",
    "#   elif i == len(list1):\n",
    "#         s += list1[i]\n",
    "#         emp_list.append(s)\n",
    "#         s = ''\n",
    "    \n",
    "#   else:\n",
    "#         s+= list1[i]\n",
    "            \n",
    "# print(emp_list)\n",
    "\n",
    "inp_str = 'How much wood would a woodchuck chuck if a woodchuck could chuck wood'\n",
    "out_lst = []\n",
    "out_str = ''\n",
    "for i in range(len(inp_str)):\n",
    "  if inp_str[i] == ' ':\n",
    "    if (out_str not in out_lst) and (len(out_str) >= 4):\n",
    "      out_lst.append(out_str)\n",
    "      out_str = ''\n",
    "    else:\n",
    "      out_str = ''\n",
    "  elif i == len(inp_str):\n",
    "    out_str += inp_str[i]\n",
    "    out_lst.append(out_str)\n",
    "    out_str = ''\n",
    "  else:\n",
    "    out_str += inp_str[i]\n",
    "print(out_lst)\n",
    "    "
   ]
  },
  {
   "cell_type": "code",
   "execution_count": 1,
   "metadata": {
    "colab": {
     "base_uri": "https://localhost:8080/"
    },
    "executionInfo": {
     "elapsed": 19,
     "status": "ok",
     "timestamp": 1647752819268,
     "user": {
      "displayName": "21st february",
      "photoUrl": "https://lh3.googleusercontent.com/a/default-user=s64",
      "userId": "16987346641192385828"
     },
     "user_tz": -330
    },
    "id": "YVfj0fgZ9416",
    "outputId": "36fb5b20-6727-45ae-ad09-d3559fc30aad"
   },
   "outputs": [
    {
     "name": "stdout",
     "output_type": "stream",
     "text": [
      "True\n"
     ]
    }
   ],
   "source": [
    "#Write a Python program which takes two list as input and returns True if they have at least 3 common elements.\n",
    "#inp_lst1 = [10,20,'Python', 10.20, 10+20j, [10,20,30], (10,20,30)]\n",
    "#inp_lst2 = [(10,20,30),1,20+3j,100.2, 10+20j, [10,20,30],'Python']\n",
    "#Output:- True\n",
    "\n",
    "\n",
    "\n"
   ]
  },
  {
   "cell_type": "code",
   "execution_count": null,
   "metadata": {
    "id": "7vwc3pjR945O"
   },
   "outputs": [],
   "source": [
    "#Write a Python program to create a 4X4 2D matrix with below elements using loop and list comprehension both.\n",
    "#Output:- [[0,0,0,0],[0,1,2,3],[0,2,4,6],[0,3,6,9]]\n",
    "\n",
    "\n"
   ]
  },
  {
   "cell_type": "code",
   "execution_count": null,
   "metadata": {
    "id": "Pxafor84948b"
   },
   "outputs": [],
   "source": [
    "#Write a Python program to create a 3X4X6 3D matrix wiith below elements using loop\n",
    "#Output:- \n",
    "# [\n",
    "#     [[0,0,0,0,0,0],[0,0,0,0,0,0],[0,0,0,0,0,0],[0,0,0,0,0,0]],\n",
    "#     [[0,0,0,0,0,0],[1,1,1,1,1,1],[2,2,2,2,2,2],[3,3,3,3,3,3]],\n",
    "#     [[0,0,0,0,0,0],[2,2,2,2,2,2],[4,4,4,4,4,4],[6,6,6,6,6,6]]\n",
    "# ]\n",
    "\n",
    "\n"
   ]
  },
  {
   "cell_type": "code",
   "execution_count": null,
   "metadata": {
    "id": "lYNv8gk794_p"
   },
   "outputs": [],
   "source": [
    "#Write a Python program which takes a list of numbers as input and prints a new list after removing even numbers from it.\n",
    "#Input:- [10,21,22,98,87,45,33,1,2,100]\n",
    "#Output:- [21,87,45,33,1]\n",
    "\n",
    "\n"
   ]
  },
  {
   "cell_type": "code",
   "execution_count": null,
   "metadata": {
    "id": "3BaCb-rB95B7"
   },
   "outputs": [],
   "source": [
    "\n",
    "\n",
    "\n"
   ]
  }
 ],
 "metadata": {
  "colab": {
   "name": "List_Assignment.ipynb",
   "provenance": []
  },
  "kernelspec": {
   "display_name": "Python 3 (ipykernel)",
   "language": "python",
   "name": "python3"
  },
  "language_info": {
   "codemirror_mode": {
    "name": "ipython",
    "version": 3
   },
   "file_extension": ".py",
   "mimetype": "text/x-python",
   "name": "python",
   "nbconvert_exporter": "python",
   "pygments_lexer": "ipython3",
   "version": "3.9.7"
  }
 },
 "nbformat": 4,
 "nbformat_minor": 1
}
