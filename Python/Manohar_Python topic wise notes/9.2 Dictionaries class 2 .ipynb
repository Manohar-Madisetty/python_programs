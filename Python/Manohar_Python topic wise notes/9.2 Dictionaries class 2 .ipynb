{
 "cells": [
  {
   "cell_type": "markdown",
   "id": "208c780d",
   "metadata": {},
   "source": [
    "## Dictionary Comprehension"
   ]
  },
  {
   "cell_type": "code",
   "execution_count": 1,
   "id": "80155738",
   "metadata": {},
   "outputs": [
    {
     "data": {
      "text/plain": [
       "{0: 0, 1: 2, 2: 4, 3: 6, 4: 8, 5: 10, 6: 12, 7: 14, 8: 16, 9: 18}"
      ]
     },
     "execution_count": 1,
     "metadata": {},
     "output_type": "execute_result"
    }
   ],
   "source": [
    "#To double the \"Value\" part in the Dictionary.\n",
    "\n",
    "dit = {i:i*2 for i in range (10)}\n",
    "\n",
    "dit\n"
   ]
  },
  {
   "cell_type": "code",
   "execution_count": 2,
   "id": "9d4ec8fa",
   "metadata": {},
   "outputs": [
    {
     "data": {
      "text/plain": [
       "{0: 0, 1: 1, 2: 4, 3: 9, 4: 16, 5: 25, 6: 36, 7: 49, 8: 64, 9: 81}"
      ]
     },
     "execution_count": 2,
     "metadata": {},
     "output_type": "execute_result"
    }
   ],
   "source": [
    "#To Square the \"Value\" part in the Dictionary.\n",
    "\n",
    "dit = {i:i**2 for i in range (10)}\n",
    "\n",
    "dit"
   ]
  },
  {
   "cell_type": "code",
   "execution_count": 3,
   "id": "fd3132d4",
   "metadata": {},
   "outputs": [
    {
     "data": {
      "text/plain": [
       "{'one': 1, 'two': 2, 'three': 3, 'four': 4, 'five': 5}"
      ]
     },
     "execution_count": 3,
     "metadata": {},
     "output_type": "execute_result"
    }
   ],
   "source": [
    "#Creating a dictionary comprehension using Dictionary\n",
    "\n",
    "key = ['one', 'two', 'three', 'four', 'five']\n",
    "value = [1,2,3,4,5,]\n",
    "\n",
    "my_dict = { k:v for (k,v) in zip(key,value) }\n",
    "\n",
    "my_dict"
   ]
  },
  {
   "cell_type": "code",
   "execution_count": 10,
   "id": "a9818514",
   "metadata": {},
   "outputs": [
    {
     "data": {
      "text/plain": [
       "{'one': 1.0, 'two': 2.0, 'three': 3.0, 'four': 4.0}"
      ]
     },
     "execution_count": 10,
     "metadata": {},
     "output_type": "execute_result"
    }
   ],
   "source": [
    "#Divide the \"Value\" by 10.\n",
    "\n",
    "dit1 = {'one':10, 'two':20, 'three':30, 'four':40}\n",
    "dit1 = {k:v/10 for k,v in dit1.items()}\n",
    "dit1"
   ]
  },
  {
   "cell_type": "code",
   "execution_count": null,
   "id": "aed1392f",
   "metadata": {},
   "outputs": [],
   "source": [
    "#Multiply the \"Value\" by 5.\n",
    "\n",
    "dit1 = {'one':10, 'two':20, 'three':30, 'four':40}\n",
    "dit1 = {k:v*5 for k,v in dit1.items()}\n",
    "dit1\n"
   ]
  },
  {
   "cell_type": "markdown",
   "id": "c1ba30f3",
   "metadata": {},
   "source": [
    "## Enumerate"
   ]
  },
  {
   "cell_type": "code",
   "execution_count": 11,
   "id": "1dd80a17",
   "metadata": {},
   "outputs": [
    {
     "data": {
      "text/plain": [
       "{0: 'P',\n",
       " 1: 'l',\n",
       " 2: 'a',\n",
       " 3: 'y',\n",
       " 4: 'i',\n",
       " 5: 'n',\n",
       " 6: 'g',\n",
       " 7: ' ',\n",
       " 8: 'b',\n",
       " 9: 'a',\n",
       " 10: 's',\n",
       " 11: 'k',\n",
       " 12: 'e',\n",
       " 13: 't',\n",
       " 14: 'b',\n",
       " 15: 'a',\n",
       " 16: 'l',\n",
       " 17: 'l',\n",
       " 18: ' ',\n",
       " 19: 'i',\n",
       " 20: 's',\n",
       " 21: ' ',\n",
       " 22: 'm',\n",
       " 23: 'y',\n",
       " 24: ' ',\n",
       " 25: 'h',\n",
       " 26: 'o',\n",
       " 27: 'b',\n",
       " 28: 'b',\n",
       " 29: 'y'}"
      ]
     },
     "execution_count": 11,
     "metadata": {},
     "output_type": "execute_result"
    }
   ],
   "source": [
    "#Enumerate in Dictionary\n",
    "\n",
    "str1 = \"Playing basketball is my hobby\"\n",
    "\n",
    "dit = {k:v for (k,v) in enumerate(str1)}\n",
    "\n",
    "dit"
   ]
  },
  {
   "cell_type": "markdown",
   "id": "114ce849",
   "metadata": {},
   "source": [
    "## Convert the dictionary to Upper()"
   ]
  },
  {
   "cell_type": "code",
   "execution_count": 14,
   "id": "cf6e1999",
   "metadata": {},
   "outputs": [
    {
     "data": {
      "text/plain": [
       "{'P': 'P',\n",
       " 'l': 'L',\n",
       " 'a': 'A',\n",
       " 'y': 'Y',\n",
       " 'i': 'I',\n",
       " 'n': 'N',\n",
       " 'g': 'G',\n",
       " ' ': ' ',\n",
       " 'b': 'B',\n",
       " 's': 'S',\n",
       " 'k': 'K',\n",
       " 'e': 'E',\n",
       " 't': 'T',\n",
       " 'm': 'M',\n",
       " 'h': 'H',\n",
       " 'o': 'O'}"
      ]
     },
     "execution_count": 14,
     "metadata": {},
     "output_type": "execute_result"
    }
   ],
   "source": [
    "str1 = \"Playing basketball is my hobby\"\n",
    "\n",
    "dit = {i:i.upper() for i in str1}\n",
    "\n",
    "dit"
   ]
  },
  {
   "cell_type": "markdown",
   "id": "278fedd7",
   "metadata": {},
   "source": [
    "## Sorting the Dictionary items\n",
    "\n",
    "Only same data type are possible to sort."
   ]
  },
  {
   "cell_type": "code",
   "execution_count": 21,
   "id": "3fc53b03",
   "metadata": {},
   "outputs": [
    {
     "data": {
      "text/plain": [
       "[('c', 13), ('a', 41), ('d', 52), ('b', 62)]"
      ]
     },
     "execution_count": 21,
     "metadata": {},
     "output_type": "execute_result"
    }
   ],
   "source": [
    "#Sorting the dictionary with index[1] i.e, here \"integers\"-41,62,13,52.\n",
    "\n",
    "dit = {'a':41, 'b':62, 'c':13, 'd':52}\n",
    "\n",
    "new = sorted(dit.items(),key=lambda x:x[1])\n",
    "\n",
    "new"
   ]
  },
  {
   "cell_type": "code",
   "execution_count": 22,
   "id": "d41ce54e",
   "metadata": {},
   "outputs": [
    {
     "data": {
      "text/plain": [
       "[('a', 52), ('b', 41), ('c', 13), ('d', 62)]"
      ]
     },
     "execution_count": 22,
     "metadata": {},
     "output_type": "execute_result"
    }
   ],
   "source": [
    "#Sorting the dictionary with index[0] i.e, here \"characters\"-b,d,c,a.\n",
    "\n",
    "dit = {'b':41, 'd':62, 'c':13, 'a':52}\n",
    "\n",
    "new = sorted(dit.items(), key = lambda x:x[0])\n",
    "\n",
    "new"
   ]
  },
  {
   "cell_type": "code",
   "execution_count": 84,
   "id": "d4af0896",
   "metadata": {},
   "outputs": [
    {
     "name": "stdout",
     "output_type": "stream",
     "text": [
      "[('Dept', 'Finance'), ('Category', 'Senior'), ('Organization', 'Wipro')]\n"
     ]
    }
   ],
   "source": [
    "# Sort the dictionary with Value using for loop and if statement and store the string value in new dictionary.\n",
    "\n",
    "dict1 = {\"Id\":401, \"Date\":2110, \"Category\":\"Senior\", \"Age\":24, \"Dept\":\"Finance\", \"Organization\":\"Wipro\"}\n",
    "\n",
    "new_d = {}\n",
    "\n",
    "for i in dict1:\n",
    "    if type(dict1[i])==str:\n",
    "        new_d[i] = dict1[i]\n",
    "    \n",
    "    \n",
    "new_dsort = sorted(new_d.items(),key=lambda x:x[1])\n",
    "\n",
    "print(new_dsort)"
   ]
  },
  {
   "cell_type": "markdown",
   "id": "af128bfc",
   "metadata": {},
   "source": [
    "## Convert List to Dictionary"
   ]
  },
  {
   "cell_type": "code",
   "execution_count": 27,
   "id": "49a92fd4",
   "metadata": {},
   "outputs": [
    {
     "name": "stdout",
     "output_type": "stream",
     "text": [
      "{'Punjab': 'Chandigarh', 'Maharashtra': 'Mumbai', 'orrisa': 'Bhuvaneshwar', 'Kerala': 'Thirvananthapuram', 'Assam': 'Dispur'}\n"
     ]
    }
   ],
   "source": [
    "# Example 1\n",
    "\n",
    "state = [\"Punjab\",\"Maharashtra\",\"orrisa\",\"Kerala\",\"Assam\"]\n",
    "capital = [\"Chandigarh\",\"Mumbai\",\"Bhuvaneshwar\",\"Thirvananthapuram\", \"Dispur\"]\n",
    "\n",
    "z = zip(state,capital)\n",
    "\n",
    "d = dict(z)\n",
    "\n",
    "print(d)"
   ]
  },
  {
   "cell_type": "code",
   "execution_count": 56,
   "id": "7acfe4a3",
   "metadata": {},
   "outputs": [
    {
     "name": "stdout",
     "output_type": "stream",
     "text": [
      "{'Punjab': 'Chandigarh', 'Maharashtra': 'Mumbai', 'orrisa': 'Bhuvaneshwar', 'Kerala': 'Thirvananthapuram', 'Assam': 'Dispur'}\n",
      "State is ['Punjab', 'Maharashtra', 'orrisa', 'Kerala', 'Assam'] and Capital is ['Chandigarh', 'Mumbai', 'Bhuvaneshwar', 'Thirvananthapuram', 'Dispur']\n",
      "Punjab Chandigarh\n",
      "Maharashtra Mumbai\n",
      "orrisa Bhuvaneshwar\n",
      "Kerala Thirvananthapuram\n",
      "Assam Dispur\n"
     ]
    }
   ],
   "source": [
    "# Example 2\n",
    "\n",
    "state = [\"Punjab\",\"Maharashtra\",\"orrisa\",\"Kerala\",\"Assam\"]\n",
    "capital = [\"Chandigarh\",\"Mumbai\",\"Bhuvaneshwar\",\"Thirvananthapuram\", \"Dispur\"]\n",
    "\n",
    "z = zip(state,capital)\n",
    "\n",
    "d = dict(z)\n",
    "\n",
    "print(d)\n",
    "\n",
    "print(\"State is {} and Capital is {}\".format(state,capital))\n",
    "\n",
    "for k in d:\n",
    "    \n",
    "    print(k,d[k])"
   ]
  },
  {
   "cell_type": "markdown",
   "id": "15769152",
   "metadata": {},
   "source": [
    "## Seperate string items and put it into new dictionary"
   ]
  },
  {
   "cell_type": "code",
   "execution_count": 72,
   "id": "2c37aab7",
   "metadata": {},
   "outputs": [
    {
     "name": "stdout",
     "output_type": "stream",
     "text": [
      "{'Manohar': 25, ' sudhir': 23, ' Manoj': 24, ' Dhama': 26}\n"
     ]
    }
   ],
   "source": [
    "str1 = \"Manohar=25, sudhir=23, Manoj=24, Dhama=26\"\n",
    "\n",
    "lis=[]\n",
    "\n",
    "for x in str1.split(\",\"):\n",
    "    y=x.split(\"=\")\n",
    "    lis.append(y)\n",
    "\n",
    "d=dict(lis)\n",
    "\n",
    "\n",
    "emp_dic={}\n",
    "\n",
    "for k,v in d.items():\n",
    "    emp_dic[k]=int(v)\n",
    "    \n",
    "print(emp_dic)\n"
   ]
  },
  {
   "cell_type": "markdown",
   "id": "058bf1fd",
   "metadata": {},
   "source": [
    "## print Nested Values by using key"
   ]
  },
  {
   "cell_type": "code",
   "execution_count": 98,
   "id": "d166cbaa",
   "metadata": {},
   "outputs": [
    {
     "name": "stdout",
     "output_type": "stream",
     "text": [
      " value of key B is {'C': 'D'}\n"
     ]
    }
   ],
   "source": [
    "# Dictionary = {A:{B:{C:D}}}\n",
    "# if i give input as A then it should print - B:{C:D}\n",
    "#input - B\n",
    "#output -{C:D}\n",
    "\n",
    "def getdata(present_dict,key):\n",
    "    \n",
    "    for k,v in present_dict.items():\n",
    "        if k == key:\n",
    "            value=present_dict.get(key)\n",
    "            print(f\" value of key {k} is {value}\")\n",
    "        else:    \n",
    "            getdata(v,key)\n",
    "                  \n",
    "key=\"B\"\n",
    "new_dict = {\"A\":{\"B\":{\"C\":\"D\"}}}\n",
    "getinfo(new_dict,key)"
   ]
  },
  {
   "cell_type": "code",
   "execution_count": null,
   "id": "dce60a9e",
   "metadata": {},
   "outputs": [],
   "source": []
  },
  {
   "cell_type": "code",
   "execution_count": null,
   "id": "087afdce",
   "metadata": {},
   "outputs": [],
   "source": []
  }
 ],
 "metadata": {
  "kernelspec": {
   "display_name": "Python 3 (ipykernel)",
   "language": "python",
   "name": "python3"
  },
  "language_info": {
   "codemirror_mode": {
    "name": "ipython",
    "version": 3
   },
   "file_extension": ".py",
   "mimetype": "text/x-python",
   "name": "python",
   "nbconvert_exporter": "python",
   "pygments_lexer": "ipython3",
   "version": "3.9.7"
  }
 },
 "nbformat": 4,
 "nbformat_minor": 5
}
