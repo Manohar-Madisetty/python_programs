{
 "cells": [
  {
   "cell_type": "markdown",
   "id": "14aefa52",
   "metadata": {},
   "source": [
    "## List"
   ]
  },
  {
   "cell_type": "code",
   "execution_count": 29,
   "id": "48afddc1",
   "metadata": {},
   "outputs": [
    {
     "data": {
      "text/plain": [
       "[10.2, 52.3, 41.5, 22.3, 49.7]"
      ]
     },
     "execution_count": 29,
     "metadata": {},
     "output_type": "execute_result"
    }
   ],
   "source": [
    "# Types of list\n",
    "#List of float numbers\n",
    "\n",
    "list1=[10.2, 52.3, 41.5, 22.3, 49.7]\n",
    "list1"
   ]
  },
  {
   "cell_type": "markdown",
   "id": "4050c1e7",
   "metadata": {},
   "source": [
    "## List of Strings"
   ]
  },
  {
   "cell_type": "code",
   "execution_count": 30,
   "id": "97bf8622",
   "metadata": {},
   "outputs": [
    {
     "data": {
      "text/plain": [
       "['Manohar', 'Sudhir', 'Prem', 'Shiva', 'Manoj']"
      ]
     },
     "execution_count": 30,
     "metadata": {},
     "output_type": "execute_result"
    }
   ],
   "source": [
    "#List of Strings\n",
    "\n",
    "list2 = [\"Manohar\", \"Sudhir\", \"Prem\", \"Shiva\", \"Manoj\"]\n",
    "list2"
   ]
  },
  {
   "cell_type": "markdown",
   "id": "40cdab9d",
   "metadata": {},
   "source": [
    "## Nested List"
   ]
  },
  {
   "cell_type": "code",
   "execution_count": 31,
   "id": "84ec0d99",
   "metadata": {},
   "outputs": [
    {
     "data": {
      "text/plain": [
       "['Games', 70, [25, 46], [57, 74]]"
      ]
     },
     "execution_count": 31,
     "metadata": {},
     "output_type": "execute_result"
    }
   ],
   "source": [
    "#Nested List\n",
    "\n",
    "list3 = [\"Games\", 70, [25,46], [57,74]]\n",
    "list3"
   ]
  },
  {
   "cell_type": "markdown",
   "id": "4345001c",
   "metadata": {},
   "source": [
    "## List of mixed data type"
   ]
  },
  {
   "cell_type": "code",
   "execution_count": 36,
   "id": "73a4eb57",
   "metadata": {},
   "outputs": [
    {
     "data": {
      "text/plain": [
       "['Name', 25, 42.3, [78, 45.3], {'One', 'Two'}]"
      ]
     },
     "execution_count": 36,
     "metadata": {},
     "output_type": "execute_result"
    }
   ],
   "source": [
    "#list of mixed data type (String, Float, Intiger , set of integers, set of Strings)\n",
    "\n",
    "list4 = [\"Name\", 25, 42.3, [78, 45.3], {\"One\", \"Two\"} ]\n",
    "list4"
   ]
  },
  {
   "cell_type": "markdown",
   "id": "5eb6fc09",
   "metadata": {},
   "source": [
    "## To access particular the elements in the list"
   ]
  },
  {
   "cell_type": "code",
   "execution_count": 9,
   "id": "b7a023a0",
   "metadata": {},
   "outputs": [
    {
     "data": {
      "text/plain": [
       "70"
      ]
     },
     "execution_count": 9,
     "metadata": {},
     "output_type": "execute_result"
    }
   ],
   "source": [
    "#In order to access the elements in the list we just need to do:\n",
    "\n",
    "list3 = [\"Games\", 70, [25,46], [57,74]]\n",
    "list3[1]\n",
    "\n",
    "#It is accessing the 1st index value in the list. List starts from 0,1,2,..n"
   ]
  },
  {
   "cell_type": "markdown",
   "id": "bc2908ff",
   "metadata": {},
   "source": [
    "## To access Nested the elements in the list"
   ]
  },
  {
   "cell_type": "code",
   "execution_count": 40,
   "id": "9ead596e",
   "metadata": {},
   "outputs": [
    {
     "data": {
      "text/plain": [
       "'Play'"
      ]
     },
     "execution_count": 40,
     "metadata": {},
     "output_type": "execute_result"
    }
   ],
   "source": [
    "#In order to access the elements in the nested list we just need to do:\n",
    "\n",
    "list3 = [\"Games\",70,[25,46], [57,74],[\"Play\",58]]\n",
    "list3[4][0]\n",
    "\n",
    "#It is accessing the 2nd index element, in that it is accessing 1st character i.e (0th index Value)."
   ]
  },
  {
   "cell_type": "code",
   "execution_count": 13,
   "id": "3b0059f2",
   "metadata": {},
   "outputs": [
    {
     "data": {
      "text/plain": [
       "74"
      ]
     },
     "execution_count": 13,
     "metadata": {},
     "output_type": "execute_result"
    }
   ],
   "source": [
    "#it is accesing the last element, in that it is accessing the 2nd Character(1st index Value).\n",
    "\n",
    "list3 = [\"Games\",70,[25,46], [57,74]]\n",
    "list3[-1][1]\n"
   ]
  },
  {
   "cell_type": "markdown",
   "id": "908535c3",
   "metadata": {},
   "source": [
    "## List Slicing"
   ]
  },
  {
   "cell_type": "code",
   "execution_count": 18,
   "id": "e76ecfd8",
   "metadata": {},
   "outputs": [
    {
     "data": {
      "text/plain": [
       "['apple', 'mango', 'banana']"
      ]
     },
     "execution_count": 18,
     "metadata": {},
     "output_type": "execute_result"
    }
   ],
   "source": [
    "mylist = [\"apple\", \"mango\", \"banana\", \"grapes\", \"berries\", \"oranges\"]\n",
    "\n",
    "mylist[0:3] #it will print every element from 0th index position till 3rd index postion\n"
   ]
  },
  {
   "cell_type": "code",
   "execution_count": 25,
   "id": "0d7a0127",
   "metadata": {},
   "outputs": [
    {
     "data": {
      "text/plain": [
       "'grapes'"
      ]
     },
     "execution_count": 25,
     "metadata": {},
     "output_type": "execute_result"
    }
   ],
   "source": [
    "mylist[3]  #print the 3rd element in the list"
   ]
  },
  {
   "cell_type": "code",
   "execution_count": 16,
   "id": "4ba01885",
   "metadata": {},
   "outputs": [
    {
     "data": {
      "text/plain": [
       "['apple', 'banana', 'berries']"
      ]
     },
     "execution_count": 16,
     "metadata": {},
     "output_type": "execute_result"
    }
   ],
   "source": [
    "mylist[0:5:2] #it will jump every second element"
   ]
  },
  {
   "cell_type": "code",
   "execution_count": 26,
   "id": "411cd61e",
   "metadata": {},
   "outputs": [
    {
     "data": {
      "text/plain": [
       "['apple', 'mango', 'banana', 'grapes', 'berries', 'oranges']"
      ]
     },
     "execution_count": 26,
     "metadata": {},
     "output_type": "execute_result"
    }
   ],
   "source": [
    "mylist[:6] #it will print every element from starting bcz we haven't given the starting index value."
   ]
  },
  {
   "cell_type": "code",
   "execution_count": 19,
   "id": "310022bc",
   "metadata": {},
   "outputs": [
    {
     "data": {
      "text/plain": [
       "['banana', 'grapes', 'berries', 'oranges']"
      ]
     },
     "execution_count": 19,
     "metadata": {},
     "output_type": "execute_result"
    }
   ],
   "source": [
    "mylist[2:]  #it will print every element from starting 2nd element till last element in the list "
   ]
  },
  {
   "cell_type": "code",
   "execution_count": 20,
   "id": "cfce9456",
   "metadata": {},
   "outputs": [
    {
     "data": {
      "text/plain": [
       "['apple', 'mango', 'banana', 'grapes', 'berries', 'oranges']"
      ]
     },
     "execution_count": 20,
     "metadata": {},
     "output_type": "execute_result"
    }
   ],
   "source": [
    "mylist[::] #prints all the elements of the list in Forward direction."
   ]
  },
  {
   "cell_type": "code",
   "execution_count": 24,
   "id": "6ccf5d22",
   "metadata": {},
   "outputs": [
    {
     "data": {
      "text/plain": [
       "['oranges', 'berries', 'grapes', 'banana', 'mango', 'apple']"
      ]
     },
     "execution_count": 24,
     "metadata": {},
     "output_type": "execute_result"
    }
   ],
   "source": [
    "mylist[::-1] #prints all the elements of the list in Reverse direction."
   ]
  },
  {
   "cell_type": "code",
   "execution_count": 21,
   "id": "37cf2541",
   "metadata": {},
   "outputs": [
    {
     "data": {
      "text/plain": [
       "['apple', 'banana', 'berries']"
      ]
     },
     "execution_count": 21,
     "metadata": {},
     "output_type": "execute_result"
    }
   ],
   "source": [
    "mylist[::2] #jump to every 2nd element in the list"
   ]
  },
  {
   "cell_type": "code",
   "execution_count": 22,
   "id": "2d388faa",
   "metadata": {},
   "outputs": [
    {
     "data": {
      "text/plain": [
       "['grapes', 'berries', 'oranges']"
      ]
     },
     "execution_count": 22,
     "metadata": {},
     "output_type": "execute_result"
    }
   ],
   "source": [
    "mylist = [\"apple\", \"mango\", \"banana\", \"grapes\", \"berries\", \"oranges\"]\n",
    "mylist[-3:] \n",
    "\n",
    "#it will print in reverse direction from -3 till end of the list"
   ]
  },
  {
   "cell_type": "code",
   "execution_count": 23,
   "id": "7b77306a",
   "metadata": {},
   "outputs": [
    {
     "data": {
      "text/plain": [
       "['apple', 'mango', 'banana']"
      ]
     },
     "execution_count": 23,
     "metadata": {},
     "output_type": "execute_result"
    }
   ],
   "source": [
    "mylist = [\"apple\", \"mango\", \"banana\", \"grapes\", \"berries\", \"oranges\"]\n",
    "mylist[:-3] \n",
    "\n",
    "#it will print the elements from -3 till starting of the list"
   ]
  },
  {
   "cell_type": "markdown",
   "id": "21eec680",
   "metadata": {},
   "source": [
    "## Range() in List"
   ]
  },
  {
   "cell_type": "code",
   "execution_count": 41,
   "id": "d7f34784",
   "metadata": {},
   "outputs": [
    {
     "name": "stdout",
     "output_type": "stream",
     "text": [
      "3\n",
      "4\n",
      "5\n",
      "6\n",
      "7\n",
      "8\n",
      "9\n"
     ]
    }
   ],
   "source": [
    "for i in range(3,10):\n",
    "    print(i)"
   ]
  },
  {
   "cell_type": "code",
   "execution_count": 42,
   "id": "7fde1746",
   "metadata": {},
   "outputs": [
    {
     "name": "stdout",
     "output_type": "stream",
     "text": [
      "3\n",
      "5\n",
      "7\n",
      "9\n"
     ]
    }
   ],
   "source": [
    "#jump to every 2nd element\n",
    "for i in range(3,10,2):\n",
    "    print(i)"
   ]
  },
  {
   "cell_type": "code",
   "execution_count": 43,
   "id": "ded6abd6",
   "metadata": {},
   "outputs": [
    {
     "name": "stdout",
     "output_type": "stream",
     "text": [
      "[7, 9, 11, 13, 15]\n"
     ]
    }
   ],
   "source": [
    "#To print a list using range()\n",
    "\n",
    "New = list(range(7,16,2))\n",
    "print(New)"
   ]
  },
  {
   "cell_type": "markdown",
   "id": "f67c0602",
   "metadata": {},
   "source": [
    "## List using For loop and range function"
   ]
  },
  {
   "cell_type": "code",
   "execution_count": 52,
   "id": "0afcb331",
   "metadata": {},
   "outputs": [
    {
     "name": "stdout",
     "output_type": "stream",
     "text": [
      "0 , 1 , 2 , 3 , 4 , 5 , 6 , 7 , 8 , 9 , 10 , 11 , "
     ]
    }
   ],
   "source": [
    "# list using For loop and range function\n",
    "\n",
    "list1 = range(12)\n",
    "\n",
    "for i in list1:\n",
    "        print(i,\",\", end=\" \")"
   ]
  },
  {
   "cell_type": "code",
   "execution_count": 56,
   "id": "0f8f6831",
   "metadata": {},
   "outputs": [
    {
     "name": "stdout",
     "output_type": "stream",
     "text": [
      "3 , 4 , 5 , 6 , 7 , 8 , "
     ]
    }
   ],
   "source": [
    "#to print in particular range\n",
    "\n",
    "list2 = range(3,9)\n",
    "\n",
    "for i in list2:\n",
    "        print(i,\",\", end=\" \")"
   ]
  },
  {
   "cell_type": "code",
   "execution_count": 57,
   "id": "aa8cc13b",
   "metadata": {},
   "outputs": [
    {
     "name": "stdout",
     "output_type": "stream",
     "text": [
      "3 , 5 , 7 , 9 , 11 , 13 , "
     ]
    }
   ],
   "source": [
    "#to print in particular range and jump to every 2nd element.\n",
    "\n",
    "list3 = range(3,15,2)\n",
    "\n",
    "for i in list3:\n",
    "        print(i,\",\", end=\" \")"
   ]
  },
  {
   "cell_type": "markdown",
   "id": "1e7cb14f",
   "metadata": {},
   "source": [
    "## Add, Remove and Change the elements in the list"
   ]
  },
  {
   "cell_type": "markdown",
   "id": "5757bd20",
   "metadata": {},
   "source": [
    "## Add"
   ]
  },
  {
   "cell_type": "code",
   "execution_count": 65,
   "id": "8f6d8220",
   "metadata": {},
   "outputs": [
    {
     "name": "stdout",
     "output_type": "stream",
     "text": [
      "['bottle', 'Car', 'John', 'Peter', 'Michael', 'Ross']\n"
     ]
    }
   ],
   "source": [
    "list2 = [\"bottle\",\"Car\", \"John\", \"Peter\", \"Michael\"]\n",
    "\n",
    "list2.append(\"Ross\") #append adds the new element at the end of the list.\n",
    "\n",
    "print(list2)"
   ]
  },
  {
   "cell_type": "markdown",
   "id": "ea0d950d",
   "metadata": {},
   "source": [
    "## Insert"
   ]
  },
  {
   "cell_type": "code",
   "execution_count": null,
   "id": "4eeef869",
   "metadata": {},
   "outputs": [],
   "source": [
    "\n",
    "#If I want to print the element anywhere in the middle of list then we define index then the list element\n",
    "#here I have inserted the \"Apple\" at 2nd Index\n",
    "\n",
    "list2 = [\"bottle\",\"Car\", \"John\", \"Peter\", \"Michael\", \"Ross\"]\n",
    "list2.insert(2,\"Apple\")\n",
    "\n",
    "list2"
   ]
  },
  {
   "cell_type": "markdown",
   "id": "9ac6c4f7",
   "metadata": {},
   "source": [
    "## Remove"
   ]
  },
  {
   "cell_type": "code",
   "execution_count": 69,
   "id": "47fa604d",
   "metadata": {},
   "outputs": [
    {
     "data": {
      "text/plain": [
       "['Apple', 'bottle', 'John', 'Peter', 'Michael', 'Ross']"
      ]
     },
     "execution_count": 69,
     "metadata": {},
     "output_type": "execute_result"
    }
   ],
   "source": [
    "#It will remove the element that is already present in the list.\n",
    "#Removed the \"Car\" from the list.\n",
    "\n",
    "list2 = [\"Apple\", \"bottle\",\"Car\", \"John\", \"Peter\", \"Michael\", \"Ross\"]\n",
    "list2.remove(\"Car\")\n",
    "\n",
    "list2"
   ]
  },
  {
   "cell_type": "markdown",
   "id": "907e1448",
   "metadata": {},
   "source": [
    "## Pop"
   ]
  },
  {
   "cell_type": "code",
   "execution_count": 71,
   "id": "2f88d0b9",
   "metadata": {},
   "outputs": [
    {
     "data": {
      "text/plain": [
       "['bottle', 'Car', 'John', 'Peter', 'Michael']"
      ]
     },
     "execution_count": 71,
     "metadata": {},
     "output_type": "execute_result"
    }
   ],
   "source": [
    "# Pop removed the last element present in the list\n",
    "\n",
    "list2 = [\"bottle\",\"Car\", \"John\", \"Peter\", \"Michael\", \"Ross\"]\n",
    "list2.pop()\n",
    "\n",
    "list2"
   ]
  },
  {
   "cell_type": "markdown",
   "id": "66989298",
   "metadata": {},
   "source": [
    "## Change the value of String"
   ]
  },
  {
   "cell_type": "code",
   "execution_count": 74,
   "id": "f1bc3921",
   "metadata": {},
   "outputs": [
    {
     "data": {
      "text/plain": [
       "['Jack', 'Car', 'Sam', 'Peter', 'Michael', 'Ross']"
      ]
     },
     "execution_count": 74,
     "metadata": {},
     "output_type": "execute_result"
    }
   ],
   "source": [
    "# Changed the element value at 0th and 2nd index from bottle to Jack & John to Sam.\n",
    "\n",
    "mylist = [\"bottle\",\"Car\", \"John\", \"Peter\", \"Michael\", \"Ross\"]\n",
    "\n",
    "mylist[2] = \"Sam\"\n",
    "mylist[0] = \"Jack\"\n",
    "mylist\n"
   ]
  },
  {
   "cell_type": "markdown",
   "id": "d2519ab8",
   "metadata": {},
   "source": [
    "## Clear\n"
   ]
  },
  {
   "cell_type": "code",
   "execution_count": 75,
   "id": "1bb3fd0c",
   "metadata": {},
   "outputs": [
    {
     "data": {
      "text/plain": [
       "[]"
      ]
     },
     "execution_count": 75,
     "metadata": {},
     "output_type": "execute_result"
    }
   ],
   "source": [
    "#Deletes all the elements from the list.\n",
    "\n",
    "mylist = [\"bottle\",\"Car\", \"John\", \"Peter\", \"Michael\", \"Ross\"]\n",
    "mylist.clear()\n",
    "\n",
    "mylist"
   ]
  },
  {
   "cell_type": "markdown",
   "id": "b76bb92c",
   "metadata": {},
   "source": [
    "## Concatinating and Join the Lists"
   ]
  },
  {
   "cell_type": "code",
   "execution_count": 53,
   "id": "7e5eb800",
   "metadata": {},
   "outputs": [
    {
     "data": {
      "text/plain": [
       "('one', 'two', 'three', 'four', 'five', 'six', 'seven', 'eight')"
      ]
     },
     "execution_count": 53,
     "metadata": {},
     "output_type": "execute_result"
    }
   ],
   "source": [
    "#Method 1 - To join the different list\n",
    "\n",
    "list1 = ('one', 'two', 'three', 'four')\n",
    "list2 = ('five', 'six', 'seven', 'eight')\n",
    "list3 = list1 + list2 \n",
    "\n",
    "list3"
   ]
  },
  {
   "cell_type": "code",
   "execution_count": 65,
   "id": "b1f1a4bb",
   "metadata": {},
   "outputs": [
    {
     "ename": "AttributeError",
     "evalue": "'tuple' object has no attribute 'extend'",
     "output_type": "error",
     "traceback": [
      "\u001b[1;31m---------------------------------------------------------------------------\u001b[0m",
      "\u001b[1;31mAttributeError\u001b[0m                            Traceback (most recent call last)",
      "\u001b[1;32mC:\\Users\\SUDHIR~1\\AppData\\Local\\Temp/ipykernel_11376/2989155444.py\u001b[0m in \u001b[0;36m<module>\u001b[1;34m\u001b[0m\n\u001b[0;32m      4\u001b[0m \u001b[0mlist2\u001b[0m \u001b[1;33m=\u001b[0m \u001b[1;33m(\u001b[0m\u001b[1;34m'five'\u001b[0m\u001b[1;33m,\u001b[0m \u001b[1;34m'six'\u001b[0m\u001b[1;33m,\u001b[0m \u001b[1;34m'seven'\u001b[0m\u001b[1;33m,\u001b[0m \u001b[1;34m'eight'\u001b[0m\u001b[1;33m)\u001b[0m\u001b[1;33m\u001b[0m\u001b[1;33m\u001b[0m\u001b[0m\n\u001b[0;32m      5\u001b[0m \u001b[1;33m\u001b[0m\u001b[0m\n\u001b[1;32m----> 6\u001b[1;33m \u001b[0mlist1\u001b[0m\u001b[1;33m.\u001b[0m\u001b[0mextend\u001b[0m\u001b[1;33m(\u001b[0m\u001b[0mlist2\u001b[0m\u001b[1;33m)\u001b[0m\u001b[1;33m\u001b[0m\u001b[1;33m\u001b[0m\u001b[0m\n\u001b[0m",
      "\u001b[1;31mAttributeError\u001b[0m: 'tuple' object has no attribute 'extend'"
     ]
    }
   ],
   "source": [
    "#Method 2 - To join the different list - (Joining list2 with list1.0)\n",
    "\n",
    "list1 = ('one', 'two', 'three', 'four')\n",
    "list2 = ('five', 'six', 'seven', 'eight')\n",
    "\n",
    "list1.extend(list2)\n"
   ]
  },
  {
   "cell_type": "code",
   "execution_count": 24,
   "id": "78cf057b",
   "metadata": {},
   "outputs": [
    {
     "name": "stdout",
     "output_type": "stream",
     "text": [
      "Basketball-Table Tennis-Cricket-Football-Volleyball\n"
     ]
    }
   ],
   "source": [
    "#Join method to convert the list into string.\n",
    "\n",
    "new_str = [\"Basketball\", \"Table Tennis\", \"Cricket\", \"Football\",\"Volleyball\"]\n",
    "\n",
    "new = \"-\".join(new_str)\n",
    "\n",
    "print(new)"
   ]
  },
  {
   "cell_type": "markdown",
   "id": "d57e70b0",
   "metadata": {},
   "source": [
    "## List Membership - To find whether elements are present in the list."
   ]
  },
  {
   "cell_type": "code",
   "execution_count": 26,
   "id": "f582ac08",
   "metadata": {},
   "outputs": [
    {
     "data": {
      "text/plain": [
       "True"
      ]
     },
     "execution_count": 26,
     "metadata": {},
     "output_type": "execute_result"
    }
   ],
   "source": [
    "newlist = [\"Basketball\", \"Table Tennis\", \"Cricket\", \"Football\",\"Volleyball\"]\n",
    "\n",
    "\"Cricket\" in newlist\n"
   ]
  },
  {
   "cell_type": "code",
   "execution_count": 27,
   "id": "2d56e53e",
   "metadata": {},
   "outputs": [
    {
     "data": {
      "text/plain": [
       "False"
      ]
     },
     "execution_count": 27,
     "metadata": {},
     "output_type": "execute_result"
    }
   ],
   "source": [
    "newlist = [\"Basketball\", \"Table Tennis\", \"Cricket\", \"Football\",\"Volleyball\"]\n",
    "\n",
    "\"Soccer\" in newlist"
   ]
  },
  {
   "cell_type": "markdown",
   "id": "d45b6f83",
   "metadata": {},
   "source": [
    "## List membership using If conditon"
   ]
  },
  {
   "cell_type": "code",
   "execution_count": 28,
   "id": "157d31f7",
   "metadata": {},
   "outputs": [
    {
     "name": "stdout",
     "output_type": "stream",
     "text": [
      "Element is present in the list\n"
     ]
    }
   ],
   "source": [
    "# List membership using If conditon\n",
    "\n",
    "newlist = [\"Basketball\", \"Table Tennis\", \"Cricket\", \"Football\",\"Volleyball\"]\n",
    "\n",
    "if \"Basketball\" in newlist:\n",
    "    print(\"Element is present in the list\")\n",
    "    \n",
    "else:\n",
    "    print(\"Element is not present in the list\")\n"
   ]
  },
  {
   "cell_type": "markdown",
   "id": "6e4079df",
   "metadata": {},
   "source": [
    "## Reverse in list "
   ]
  },
  {
   "cell_type": "code",
   "execution_count": 30,
   "id": "9eea579c",
   "metadata": {},
   "outputs": [
    {
     "name": "stdout",
     "output_type": "stream",
     "text": [
      "[21, 13, 7, 23, 47, 69, 4, 52]\n"
     ]
    }
   ],
   "source": [
    "#Arrange the list elements in reverse order (last to first)\n",
    "\n",
    "num_list = [52,4,69,47,23,7,13,21]\n",
    "\n",
    "num_list.reverse()\n",
    "\n",
    "print(num_list)"
   ]
  },
  {
   "cell_type": "code",
   "execution_count": 32,
   "id": "695d6489",
   "metadata": {},
   "outputs": [
    {
     "data": {
      "text/plain": [
       "[21, 13, 7, 23, 47, 69, 4, 52]"
      ]
     },
     "execution_count": 32,
     "metadata": {},
     "output_type": "execute_result"
    }
   ],
   "source": [
    "#Method2\n",
    "num_list = [52,4,69,47,23,7,13,21]\n",
    "\n",
    "num_list[::-1]"
   ]
  },
  {
   "cell_type": "markdown",
   "id": "91e8b5cf",
   "metadata": {},
   "source": [
    "## Sort the list"
   ]
  },
  {
   "cell_type": "markdown",
   "id": "42c13245",
   "metadata": {},
   "source": [
    "## Sort() - Arrange the elements in Ascending order"
   ]
  },
  {
   "cell_type": "code",
   "execution_count": 33,
   "id": "593f8983",
   "metadata": {},
   "outputs": [
    {
     "data": {
      "text/plain": [
       "[4, 7, 13, 21, 23, 47, 52, 69]"
      ]
     },
     "execution_count": 33,
     "metadata": {},
     "output_type": "execute_result"
    }
   ],
   "source": [
    "#By default sort function will arrange the elements in ascending order.\n",
    "\n",
    "num_list = [52,4,69,47,23,7,13,21]\n",
    "\n",
    "num_list.sort()\n",
    "\n",
    "num_list"
   ]
  },
  {
   "cell_type": "markdown",
   "id": "bd68aa6b",
   "metadata": {},
   "source": [
    "## Reverse sort - Arrange in Descending order."
   ]
  },
  {
   "cell_type": "code",
   "execution_count": 34,
   "id": "fe2088a6",
   "metadata": {},
   "outputs": [
    {
     "data": {
      "text/plain": [
       "[69, 52, 47, 23, 21, 13, 7, 4]"
      ]
     },
     "execution_count": 34,
     "metadata": {},
     "output_type": "execute_result"
    }
   ],
   "source": [
    "# Reverse sort - Arrange in Descending order.\n",
    "\n",
    "num_list = [52,4,69,47,23,7,13,21]\n",
    "\n",
    "num_list.sort(reverse=True)\n",
    "\n",
    "num_list"
   ]
  },
  {
   "cell_type": "markdown",
   "id": "e7891b74",
   "metadata": {},
   "source": [
    "## Sorted"
   ]
  },
  {
   "cell_type": "code",
   "execution_count": 37,
   "id": "3d3afdb2",
   "metadata": {},
   "outputs": [
    {
     "data": {
      "text/plain": [
       "[2, 4, 7, 13, 22, 23, 47, 69]"
      ]
     },
     "execution_count": 37,
     "metadata": {},
     "output_type": "execute_result"
    }
   ],
   "source": [
    "#using \"Sorted\" - It will arrange the elements in Ascending order\n",
    "\n",
    "num_list1 = [2,4,69,47,23,7,13,22]\n",
    "\n",
    "sorted(num_list1)"
   ]
  },
  {
   "cell_type": "markdown",
   "id": "6a06e3d7",
   "metadata": {},
   "source": [
    "## Loop through list"
   ]
  },
  {
   "cell_type": "code",
   "execution_count": 38,
   "id": "04f5ab24",
   "metadata": {},
   "outputs": [
    {
     "name": "stdout",
     "output_type": "stream",
     "text": [
      "Eight\n",
      "Forty\n",
      "one\n",
      "two\n",
      "Seven\n",
      "Fourteen\n"
     ]
    }
   ],
   "source": [
    "list1 = [\"Eight\", \"Forty\",\"one\", \"two\", \"Seven\", \"Fourteen\"]\n",
    "\n",
    "for i in list1:\n",
    "    print(i)"
   ]
  },
  {
   "cell_type": "markdown",
   "id": "70d94851",
   "metadata": {},
   "source": [
    "## Enumerate"
   ]
  },
  {
   "cell_type": "code",
   "execution_count": 41,
   "id": "18375968",
   "metadata": {},
   "outputs": [
    {
     "name": "stdout",
     "output_type": "stream",
     "text": [
      "(0, 'Eight')\n",
      "(1, 'Forty')\n",
      "(2, 'one')\n",
      "(3, 'two')\n",
      "(4, 'Seven')\n",
      "(5, 'Fourteen')\n"
     ]
    }
   ],
   "source": [
    "#Enumerate is used to show the index value of the elements.\n",
    "\n",
    "list1 = [\"Eight\", \"Forty\",\"one\", \"two\", \"Seven\", \"Fourteen\"]\n",
    "\n",
    "for i in enumerate(list1):\n",
    "    print(i)"
   ]
  },
  {
   "cell_type": "markdown",
   "id": "236c98c6",
   "metadata": {},
   "source": [
    "## Count\n",
    "Count is used to find the number of times the particular element occured in the list"
   ]
  },
  {
   "cell_type": "code",
   "execution_count": 43,
   "id": "334031d3",
   "metadata": {},
   "outputs": [
    {
     "name": "stdout",
     "output_type": "stream",
     "text": [
      "3\n"
     ]
    }
   ],
   "source": [
    "list2 = [\"Eight\", \"one\", \"Forty\",\"one\", \"two\", \"Seven\",\"one\", \"Fourteen\",\"two\"]\n",
    "\n",
    "print(list2.count(\"one\"))\n",
    "\n",
    "# \"one\" occurred 3 times in the list."
   ]
  },
  {
   "cell_type": "markdown",
   "id": "e9662cb1",
   "metadata": {},
   "source": [
    "## Count using For loop"
   ]
  },
  {
   "cell_type": "code",
   "execution_count": 71,
   "id": "9359edf0",
   "metadata": {},
   "outputs": [
    {
     "name": "stdout",
     "output_type": "stream",
     "text": [
      "one is present 3 times in the lista.\n"
     ]
    }
   ],
   "source": [
    "lista = [\"Eight\", \"one\", \"Forty\",\"one\", \"two\", \"Seven\",\"one\", \"Fourteen\",\"two\"]\n",
    "\n",
    "c=0\n",
    "for i in lista:\n",
    "    if (\"one\"==i):\n",
    "        c+=1\n",
    "print(\"{} is present {} times in the lista.\".format(\"one\",c))\n"
   ]
  },
  {
   "cell_type": "code",
   "execution_count": 79,
   "id": "7bae7241",
   "metadata": {},
   "outputs": [
    {
     "name": "stdout",
     "output_type": "stream",
     "text": [
      "2\n"
     ]
    }
   ],
   "source": [
    "lista = [\"Eight\", \"one\", \"Forty\",\"one\", \"two\", \"Seven\",\"one\", \"Fourteen\",\"two\"]\n",
    "print(lista.count(\"two\"))\n",
    "\n",
    "# \"two\" occurred 2 times in the list."
   ]
  },
  {
   "cell_type": "code",
   "execution_count": 81,
   "id": "6ab35a54",
   "metadata": {},
   "outputs": [
    {
     "name": "stdout",
     "output_type": "stream",
     "text": [
      "1\n"
     ]
    }
   ],
   "source": [
    "lista = [\"Eight\", \"one\", \"Forty\",\"one\", \"two\", \"Seven\",\"one\", \"Fourteen\",\"two\"]\n",
    "print(lista.count(\"Seven\"))"
   ]
  },
  {
   "cell_type": "markdown",
   "id": "61afe560",
   "metadata": {},
   "source": [
    "## Common elements present in two different list"
   ]
  },
  {
   "cell_type": "code",
   "execution_count": 77,
   "id": "e2efd498",
   "metadata": {},
   "outputs": [
    {
     "name": "stdout",
     "output_type": "stream",
     "text": [
      "{40, 88, 36, 70}\n"
     ]
    }
   ],
   "source": [
    "#Example in Integer type. (First we need to convert \"List\" into \"Set\")\n",
    "\n",
    "list1= [36,25,40,50,70,88]\n",
    "list2= [23,36,70,33,40,88]\n",
    "\n",
    "new1 = set(list1)\n",
    "new2 = set(list2)\n",
    "\n",
    "new_list = new1.intersection(new2)\n",
    "print(new_list)\n",
    "\n",
    "#Note - List are order (can be arranged in sequence)\n",
    "#Set cannot be arranged in sequence - it gives output unordered. \n",
    "# Below elements are present common in the list"
   ]
  },
  {
   "cell_type": "code",
   "execution_count": 78,
   "id": "927b1c7d",
   "metadata": {},
   "outputs": [
    {
     "name": "stdout",
     "output_type": "stream",
     "text": [
      "{'Five', 'One', 'Seven', 'two'}\n"
     ]
    }
   ],
   "source": [
    "#Example in String type.\n",
    "\n",
    "list1= [\"Eight\", \"Forty\",\"One\", \"two\", \"Seven\", \"Five\"]\n",
    "list2= [\"Nine\", \"two\",\"One\", \"Five\", \"Seven\", \"Fourteen\"]\n",
    "\n",
    "new1 = set(list1)\n",
    "new2 = set(list2)\n",
    "\n",
    "new_list = new1.intersection(new2)\n",
    "print(new_list)\n",
    "\n",
    "#Note - List are order (can be arranged in sequence)\n",
    "#Set cannot be arranged in sequence - it gives output unordered.\n",
    "# Below are present common elements present in the list"
   ]
  },
  {
   "cell_type": "markdown",
   "id": "f061e14b",
   "metadata": {},
   "source": [
    "## Index \n",
    "Gives the index value of the mentioned element in the brackets"
   ]
  },
  {
   "cell_type": "code",
   "execution_count": 68,
   "id": "08bf65a0",
   "metadata": {},
   "outputs": [
    {
     "data": {
      "text/plain": [
       "2"
      ]
     },
     "execution_count": 68,
     "metadata": {},
     "output_type": "execute_result"
    }
   ],
   "source": [
    "list1 = [\"Eight\", \"Forty\",\"one\", \"two\", \"Seven\", \"Fourteen\"]\n",
    "\n",
    "list1.index(\"one\")"
   ]
  },
  {
   "cell_type": "markdown",
   "id": "11d17a75",
   "metadata": {},
   "source": [
    "## List Comprehensions"
   ]
  },
  {
   "cell_type": "markdown",
   "id": "3a2ddc1b",
   "metadata": {},
   "source": [
    "## To print Even number from 1-20."
   ]
  },
  {
   "cell_type": "code",
   "execution_count": 108,
   "id": "55d41e3b",
   "metadata": {},
   "outputs": [
    {
     "data": {
      "text/plain": [
       "[2, 4, 6, 8, 10, 12, 14, 16, 18]"
      ]
     },
     "execution_count": 108,
     "metadata": {},
     "output_type": "execute_result"
    }
   ],
   "source": [
    "#syntax - Variable = [ item loop condition]\n",
    "\n",
    "# To print Even number from 1-20.\n",
    "\n",
    "Even_list= [i  for i in range (1,20) if i % 2 == 0]\n",
    "Even_list"
   ]
  },
  {
   "cell_type": "markdown",
   "id": "8e1b1d7c",
   "metadata": {},
   "source": [
    "## To print Odd number from 1-20."
   ]
  },
  {
   "cell_type": "code",
   "execution_count": 109,
   "id": "904a66a1",
   "metadata": {},
   "outputs": [
    {
     "data": {
      "text/plain": [
       "[1, 3, 5, 7, 9, 11, 13, 15, 17, 19]"
      ]
     },
     "execution_count": 109,
     "metadata": {},
     "output_type": "execute_result"
    }
   ],
   "source": [
    "# To print Odd number from 1-20.\n",
    "\n",
    "odd_list= [i  for i in range (1,20) if i % 2 == 1]\n",
    "odd_list\n"
   ]
  },
  {
   "cell_type": "markdown",
   "id": "c18fd5db",
   "metadata": {},
   "source": [
    "## Calculate the sqaure of 1-10 numbers."
   ]
  },
  {
   "cell_type": "code",
   "execution_count": 110,
   "id": "d6447be7",
   "metadata": {},
   "outputs": [
    {
     "data": {
      "text/plain": [
       "[0, 1, 4, 9, 16, 25, 36, 49, 64, 81]"
      ]
     },
     "execution_count": 110,
     "metadata": {},
     "output_type": "execute_result"
    }
   ],
   "source": [
    "sq_list = [i**2 for i in range(10)]\n",
    "sq_list"
   ]
  },
  {
   "cell_type": "markdown",
   "id": "6a539a93",
   "metadata": {},
   "source": [
    "## Using list comprehension - Multiply whole list by a certain number"
   ]
  },
  {
   "cell_type": "code",
   "execution_count": 112,
   "id": "506bccac",
   "metadata": {},
   "outputs": [
    {
     "data": {
      "text/plain": [
       "[10, 20, 30, 50, 40, 60, 70, 90, 30]"
      ]
     },
     "execution_count": 112,
     "metadata": {},
     "output_type": "execute_result"
    }
   ],
   "source": [
    "list1 = [1,2,3,5,4,6,7,9,3]\n",
    "list1 = [i*10 for i in list1]\n",
    "list1"
   ]
  },
  {
   "cell_type": "markdown",
   "id": "af97dbe7",
   "metadata": {},
   "source": [
    "## List all the number btw 1-200 which are divisible by 3, 6, 9, and 12"
   ]
  },
  {
   "cell_type": "code",
   "execution_count": 116,
   "id": "6ee5280a",
   "metadata": {},
   "outputs": [
    {
     "name": "stdout",
     "output_type": "stream",
     "text": [
      "[0, 36, 72, 108, 144, 180]\n"
     ]
    }
   ],
   "source": [
    "list_new = [i for i in range(200) if i % 3==0 if i % 6==0 if i % 9==0 if i % 12==0]\n",
    "\n",
    "print(list_new)"
   ]
  },
  {
   "cell_type": "markdown",
   "id": "251ff146",
   "metadata": {},
   "source": [
    "## Print ODD and Even number in the range of 10"
   ]
  },
  {
   "cell_type": "code",
   "execution_count": 121,
   "id": "a23ce259",
   "metadata": {},
   "outputs": [
    {
     "name": "stdout",
     "output_type": "stream",
     "text": [
      "0 is Even number \n",
      "1 is Odd number \n",
      "2 is Even number \n",
      "3 is Odd number \n",
      "4 is Even number \n",
      "5 is Odd number \n",
      "6 is Even number \n",
      "7 is Odd number \n",
      "8 is Even number \n",
      "9 is Odd number \n"
     ]
    },
    {
     "data": {
      "text/plain": [
       "[None, None, None, None, None, None, None, None, None, None]"
      ]
     },
     "execution_count": 121,
     "metadata": {},
     "output_type": "execute_result"
    }
   ],
   "source": [
    "o_list = [print(\"{} is Even number \".format(i)) if i % 2==0 else print(\"{} is Odd number \".format(i)) for i in range(10)]\n",
    "o_list"
   ]
  },
  {
   "cell_type": "markdown",
   "id": "24299b7e",
   "metadata": {},
   "source": [
    "## Extract number from the string."
   ]
  },
  {
   "cell_type": "code",
   "execution_count": 123,
   "id": "ef231272",
   "metadata": {},
   "outputs": [
    {
     "name": "stdout",
     "output_type": "stream",
     "text": [
      "['1', '2', '6', '7', '9', '9', '7']\n"
     ]
    }
   ],
   "source": [
    "# Example - 1\n",
    "\n",
    "o_str = \"Hello 1 my 2 name 6 is 7 Manohar 99 I am Happy to learn 7 Python\"\n",
    "\n",
    "o_str = [i for i in o_str if i.isdigit()]\n",
    "\n",
    "print(o_str)"
   ]
  },
  {
   "cell_type": "code",
   "execution_count": 137,
   "id": "1093a343",
   "metadata": {},
   "outputs": [
    {
     "name": "stdout",
     "output_type": "stream",
     "text": [
      "4\n",
      "5\n",
      "6\n",
      "8\n",
      "9\n",
      "True\n"
     ]
    }
   ],
   "source": [
    "# Example - 2\n",
    "\n",
    "age = \"45689\"\n",
    "for i in age:\n",
    "    print(i)\n",
    "    \n",
    "print(age.isdigit())"
   ]
  },
  {
   "cell_type": "markdown",
   "id": "26c05a28",
   "metadata": {},
   "source": [
    "## Extract Letters from String."
   ]
  },
  {
   "cell_type": "code",
   "execution_count": 3,
   "id": "fdfca413",
   "metadata": {},
   "outputs": [
    {
     "name": "stdout",
     "output_type": "stream",
     "text": [
      "['M', 'y', 'n', 'a', 'm', 'e', 'i', 's', 'J', 'o', 'h', 'n']\n"
     ]
    }
   ],
   "source": [
    "str1 = \"My name is John\"\n",
    "\n",
    "str1 = [i for i in str1 if i.isalpha()]\n",
    "print(str1)"
   ]
  },
  {
   "cell_type": "markdown",
   "id": "629a66b0",
   "metadata": {},
   "source": [
    "## All function in List"
   ]
  },
  {
   "cell_type": "code",
   "execution_count": 2,
   "id": "90496d17",
   "metadata": {},
   "outputs": [
    {
     "data": {
      "text/plain": [
       "True"
      ]
     },
     "execution_count": 2,
     "metadata": {},
     "output_type": "execute_result"
    }
   ],
   "source": [
    "# if all the elements in the list are \"True\" then all function prints - True in \"any()\"\n",
    "\n",
    "all([True,True,True])\n"
   ]
  },
  {
   "cell_type": "code",
   "execution_count": 143,
   "id": "2379693a",
   "metadata": {},
   "outputs": [
    {
     "data": {
      "text/plain": [
       "False"
      ]
     },
     "execution_count": 143,
     "metadata": {},
     "output_type": "execute_result"
    }
   ],
   "source": [
    "# # if any one of the elements in the list is \"False\" then it prints - False in \"any()\"\n",
    "\n",
    "all([True,True,False])"
   ]
  },
  {
   "cell_type": "markdown",
   "id": "9954688a",
   "metadata": {},
   "source": [
    "## Example of All()"
   ]
  },
  {
   "cell_type": "code",
   "execution_count": 146,
   "id": "23711207",
   "metadata": {},
   "outputs": [
    {
     "data": {
      "text/plain": [
       "True"
      ]
     },
     "execution_count": 146,
     "metadata": {},
     "output_type": "execute_result"
    }
   ],
   "source": [
    "list1 = [11,11,11,11,11]\n",
    "\n",
    "all([list1])"
   ]
  },
  {
   "cell_type": "markdown",
   "id": "345cb108",
   "metadata": {},
   "source": [
    "## Any Function in List"
   ]
  },
  {
   "cell_type": "code",
   "execution_count": 144,
   "id": "ec812c72",
   "metadata": {},
   "outputs": [
    {
     "data": {
      "text/plain": [
       "True"
      ]
     },
     "execution_count": 144,
     "metadata": {},
     "output_type": "execute_result"
    }
   ],
   "source": [
    "# if any one the elements in the list is \"True\" then it prints - True\n",
    "\n",
    "any([True,True,False])"
   ]
  },
  {
   "cell_type": "markdown",
   "id": "6ca9b833",
   "metadata": {},
   "source": [
    "## Example of Any()"
   ]
  },
  {
   "cell_type": "code",
   "execution_count": 1,
   "id": "a10d2ec0",
   "metadata": {},
   "outputs": [
    {
     "data": {
      "text/plain": [
       "True"
      ]
     },
     "execution_count": 1,
     "metadata": {},
     "output_type": "execute_result"
    }
   ],
   "source": [
    "list1 = [11,12,11,13,11,14,11]\n",
    "\n",
    "any([list1])"
   ]
  },
  {
   "cell_type": "markdown",
   "id": "11882e37",
   "metadata": {},
   "source": [
    "## Write a program to move all zeros to end of the list"
   ]
  },
  {
   "cell_type": "code",
   "execution_count": 32,
   "id": "f187093f",
   "metadata": {},
   "outputs": [
    {
     "name": "stdout",
     "output_type": "stream",
     "text": [
      "[5, 40, 69, 47, 23, 7, 13, 22, 0, 0, 0, 0]\n"
     ]
    }
   ],
   "source": [
    "\n",
    "list1 = [5,0,40,69,0,47,23,0,7,13,0,22]\n",
    "\n",
    "k = 0\n",
    "for i in list1:\n",
    "    if i:\n",
    "        list1[k] = i\n",
    "        k=k+1\n",
    "for i in range(k, len(list1)):\n",
    "        list1[i] = 0\n",
    "\n",
    "print(list1)"
   ]
  },
  {
   "cell_type": "code",
   "execution_count": null,
   "id": "d11aa369",
   "metadata": {},
   "outputs": [],
   "source": []
  }
 ],
 "metadata": {
  "kernelspec": {
   "display_name": "Python 3 (ipykernel)",
   "language": "python",
   "name": "python3"
  },
  "language_info": {
   "codemirror_mode": {
    "name": "ipython",
    "version": 3
   },
   "file_extension": ".py",
   "mimetype": "text/x-python",
   "name": "python",
   "nbconvert_exporter": "python",
   "pygments_lexer": "ipython3",
   "version": "3.9.7"
  }
 },
 "nbformat": 4,
 "nbformat_minor": 5
}
