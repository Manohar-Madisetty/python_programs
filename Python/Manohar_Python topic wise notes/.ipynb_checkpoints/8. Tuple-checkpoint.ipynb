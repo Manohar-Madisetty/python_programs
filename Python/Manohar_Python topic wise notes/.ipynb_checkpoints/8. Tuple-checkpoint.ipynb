{
 "cells": [
  {
   "cell_type": "markdown",
   "id": "37f9a969",
   "metadata": {},
   "source": [
    "## Tuple()\n",
    "\n",
    "Tuples are similar to lists but the main difference is tuples are immutable whereas lists are mutable.\n",
    "\n",
    "Once we create a tuple we cannot modify its elements.\n",
    "\n",
    "we cannot perform operations like append(), extend(), insert(), remove(), pop() arid clear() on tuples."
   ]
  },
  {
   "cell_type": "code",
   "execution_count": 1,
   "id": "aceb86cc",
   "metadata": {},
   "outputs": [
    {
     "name": "stdout",
     "output_type": "stream",
     "text": [
      "(1, 2, 3, 5, 78)\n"
     ]
    }
   ],
   "source": [
    "tupl = (1,2,3,5,78)\n",
    "print(tupl)"
   ]
  },
  {
   "cell_type": "code",
   "execution_count": 2,
   "id": "d8150fcf",
   "metadata": {},
   "outputs": [
    {
     "data": {
      "text/plain": [
       "(10.2, 52.3, 41.5, 22.3, 49.7)"
      ]
     },
     "execution_count": 2,
     "metadata": {},
     "output_type": "execute_result"
    }
   ],
   "source": [
    "#Tuple of float numbers\n",
    "\n",
    "tup=(10.2, 52.3, 41.5, 22.3, 49.7)\n",
    "tup"
   ]
  },
  {
   "cell_type": "code",
   "execution_count": 3,
   "id": "d1f7f331",
   "metadata": {},
   "outputs": [
    {
     "data": {
      "text/plain": [
       "['Manohar', 'Sudhir', 'Prem', 'Shiva', 'Manoj']"
      ]
     },
     "execution_count": 3,
     "metadata": {},
     "output_type": "execute_result"
    }
   ],
   "source": [
    "#Tuple of Strings\n",
    "\n",
    "tup1 = [\"Manohar\", \"Sudhir\", \"Prem\", \"Shiva\", \"Manoj\"]\n",
    "tup1"
   ]
  },
  {
   "cell_type": "code",
   "execution_count": 4,
   "id": "f8a2da37",
   "metadata": {},
   "outputs": [
    {
     "data": {
      "text/plain": [
       "('Games', 70, [25, 46], [57, 74])"
      ]
     },
     "execution_count": 4,
     "metadata": {},
     "output_type": "execute_result"
    }
   ],
   "source": [
    "#Nested List\n",
    "\n",
    "tup2 = (\"Games\", 70, [25,46], [57,74])\n",
    "tup2"
   ]
  },
  {
   "cell_type": "markdown",
   "id": "225c233c",
   "metadata": {},
   "source": [
    "## Tuple of mixed data type"
   ]
  },
  {
   "cell_type": "code",
   "execution_count": 6,
   "id": "8d6c2552",
   "metadata": {},
   "outputs": [
    {
     "data": {
      "text/plain": [
       "('Name', 25, 42.3, [78, 45.3], {'One', 'Two'})"
      ]
     },
     "execution_count": 6,
     "metadata": {},
     "output_type": "execute_result"
    }
   ],
   "source": [
    "#Tuple of mixed data type (String, Float, Intiger , set of integers, set of Strings)\n",
    "\n",
    "tup3 = (\"Name\", 25, 42.3, [78, 45.3], {\"One\", \"Two\"} )\n",
    "tup3"
   ]
  },
  {
   "cell_type": "markdown",
   "id": "b809a1bd",
   "metadata": {},
   "source": [
    "## To find length of Tuple"
   ]
  },
  {
   "cell_type": "code",
   "execution_count": 7,
   "id": "ea385591",
   "metadata": {},
   "outputs": [
    {
     "data": {
      "text/plain": [
       "5"
      ]
     },
     "execution_count": 7,
     "metadata": {},
     "output_type": "execute_result"
    }
   ],
   "source": [
    "tup3 = (\"Name\", 25, 42.3, [78, 45.3], {\"One\", \"Two\"} )\n",
    "\n",
    "len(tup3)"
   ]
  },
  {
   "cell_type": "markdown",
   "id": "7d0ff4b1",
   "metadata": {},
   "source": [
    "## To access Nested the elements in the Tuple"
   ]
  },
  {
   "cell_type": "code",
   "execution_count": 8,
   "id": "4468522d",
   "metadata": {},
   "outputs": [
    {
     "data": {
      "text/plain": [
       "'Play'"
      ]
     },
     "execution_count": 8,
     "metadata": {},
     "output_type": "execute_result"
    }
   ],
   "source": [
    "#In order to access the elements in the nested Tuple we just need to do:\n",
    "\n",
    "tup4 = (\"Games\",70,[25,46], [57,74],[\"Play\",58])\n",
    "tup4[4][0]\n",
    "\n",
    "#It is accessing the 2nd index element, in that it is accessing 1st character i.e (0th index Value)."
   ]
  },
  {
   "cell_type": "markdown",
   "id": "6adda562",
   "metadata": {},
   "source": [
    "## Tuple Slicing"
   ]
  },
  {
   "cell_type": "code",
   "execution_count": 9,
   "id": "f53e6bf1",
   "metadata": {},
   "outputs": [
    {
     "data": {
      "text/plain": [
       "('apple', 'mango', 'banana')"
      ]
     },
     "execution_count": 9,
     "metadata": {},
     "output_type": "execute_result"
    }
   ],
   "source": [
    "mytup = (\"apple\", \"mango\", \"banana\", \"grapes\", \"berries\", \"oranges\")\n",
    "\n",
    "mytup[0:3] #it will print every element from 0th index position till 3rd index postion"
   ]
  },
  {
   "cell_type": "code",
   "execution_count": 10,
   "id": "4b9e264c",
   "metadata": {},
   "outputs": [
    {
     "data": {
      "text/plain": [
       "'grapes'"
      ]
     },
     "execution_count": 10,
     "metadata": {},
     "output_type": "execute_result"
    }
   ],
   "source": [
    "mytup[3] #print the 3rd element in the tuple"
   ]
  },
  {
   "cell_type": "code",
   "execution_count": 11,
   "id": "d791316c",
   "metadata": {},
   "outputs": [
    {
     "data": {
      "text/plain": [
       "('apple', 'banana', 'berries')"
      ]
     },
     "execution_count": 11,
     "metadata": {},
     "output_type": "execute_result"
    }
   ],
   "source": [
    "mytup[0:5:2] #it will jump every second element"
   ]
  },
  {
   "cell_type": "code",
   "execution_count": 12,
   "id": "df4606a2",
   "metadata": {},
   "outputs": [
    {
     "data": {
      "text/plain": [
       "('apple', 'mango', 'banana', 'grapes', 'berries', 'oranges')"
      ]
     },
     "execution_count": 12,
     "metadata": {},
     "output_type": "execute_result"
    }
   ],
   "source": [
    "mytup[:6] #it will print every element from starting bcz we haven't given the starting index value."
   ]
  },
  {
   "cell_type": "code",
   "execution_count": 13,
   "id": "f98ed357",
   "metadata": {},
   "outputs": [
    {
     "data": {
      "text/plain": [
       "('banana', 'grapes', 'berries', 'oranges')"
      ]
     },
     "execution_count": 13,
     "metadata": {},
     "output_type": "execute_result"
    }
   ],
   "source": [
    "mytup[2:]  #it will print every element from starting 2nd element till last element in the tuple "
   ]
  },
  {
   "cell_type": "code",
   "execution_count": 14,
   "id": "10003521",
   "metadata": {},
   "outputs": [
    {
     "data": {
      "text/plain": [
       "('apple', 'mango', 'banana', 'grapes', 'berries', 'oranges')"
      ]
     },
     "execution_count": 14,
     "metadata": {},
     "output_type": "execute_result"
    }
   ],
   "source": [
    "mytup[::] #prints all the elements of the tuple in Forward direction."
   ]
  },
  {
   "cell_type": "code",
   "execution_count": 15,
   "id": "b104f04f",
   "metadata": {},
   "outputs": [
    {
     "data": {
      "text/plain": [
       "('oranges', 'berries', 'grapes', 'banana', 'mango', 'apple')"
      ]
     },
     "execution_count": 15,
     "metadata": {},
     "output_type": "execute_result"
    }
   ],
   "source": [
    "mytup[::-1] #prints all the elements of the tuple in Reverse direction."
   ]
  },
  {
   "cell_type": "code",
   "execution_count": 16,
   "id": "5122af0f",
   "metadata": {},
   "outputs": [
    {
     "data": {
      "text/plain": [
       "('apple', 'banana', 'berries')"
      ]
     },
     "execution_count": 16,
     "metadata": {},
     "output_type": "execute_result"
    }
   ],
   "source": [
    "mytup[::2] #jump to every 2nd element in the tuple"
   ]
  },
  {
   "cell_type": "code",
   "execution_count": 17,
   "id": "979dc8b3",
   "metadata": {},
   "outputs": [
    {
     "data": {
      "text/plain": [
       "['grapes', 'berries', 'oranges']"
      ]
     },
     "execution_count": 17,
     "metadata": {},
     "output_type": "execute_result"
    }
   ],
   "source": [
    "mytup = [\"apple\", \"mango\", \"banana\", \"grapes\", \"berries\", \"oranges\"]\n",
    "mytup[-3:] \n",
    "\n",
    "#it will print in reverse direction from -3 till end of the tuple"
   ]
  },
  {
   "cell_type": "code",
   "execution_count": 18,
   "id": "9a696c21",
   "metadata": {},
   "outputs": [
    {
     "data": {
      "text/plain": [
       "['apple', 'mango', 'banana']"
      ]
     },
     "execution_count": 18,
     "metadata": {},
     "output_type": "execute_result"
    }
   ],
   "source": [
    "mytup = [\"apple\", \"mango\", \"banana\", \"grapes\", \"berries\", \"oranges\"]\n",
    "mytup[:-3] \n",
    "\n",
    "#it will print the elements from -3 till starting of the tuple"
   ]
  },
  {
   "cell_type": "markdown",
   "id": "1c935a02",
   "metadata": {},
   "source": [
    "## Tuple Count"
   ]
  },
  {
   "cell_type": "code",
   "execution_count": 23,
   "id": "c999075b",
   "metadata": {},
   "outputs": [
    {
     "name": "stdout",
     "output_type": "stream",
     "text": [
      "3\n"
     ]
    }
   ],
   "source": [
    "tuple1 = (\"Eight\", \"one\", \"Forty\",\"one\", \"two\", \"Seven\",\"one\", \"Fourteen\",\"two\")\n",
    "\n",
    "print(tuple1.count(\"one\"))\n",
    "\n",
    "# \"one\" occurred 3 times in the tuple."
   ]
  },
  {
   "cell_type": "code",
   "execution_count": 24,
   "id": "72c245e1",
   "metadata": {},
   "outputs": [
    {
     "name": "stdout",
     "output_type": "stream",
     "text": [
      "2\n"
     ]
    }
   ],
   "source": [
    "print(tuple1.count(\"two\"))"
   ]
  },
  {
   "cell_type": "code",
   "execution_count": 25,
   "id": "65f8fe58",
   "metadata": {},
   "outputs": [
    {
     "name": "stdout",
     "output_type": "stream",
     "text": [
      "1\n"
     ]
    }
   ],
   "source": [
    "print(tuple1.count(\"Forty\"))"
   ]
  },
  {
   "cell_type": "markdown",
   "id": "c2bd9e68",
   "metadata": {},
   "source": [
    "## Minumum and Maximum - Tuple \n",
    "\n",
    "To perform this Minimum or Maximum tuple the elements should of same type i.e either \"Integer: or \"Float\""
   ]
  },
  {
   "cell_type": "code",
   "execution_count": 48,
   "id": "18a055f4",
   "metadata": {},
   "outputs": [
    {
     "data": {
      "text/plain": [
       "4"
      ]
     },
     "execution_count": 48,
     "metadata": {},
     "output_type": "execute_result"
    }
   ],
   "source": [
    "# To find the Minimum in the tuple.\n",
    "\n",
    "tup_num = (53,45,125,48,69,6,4,88,75)\n",
    "\n",
    "min(tup_num)"
   ]
  },
  {
   "cell_type": "code",
   "execution_count": 49,
   "id": "db979b30",
   "metadata": {},
   "outputs": [
    {
     "data": {
      "text/plain": [
       "125"
      ]
     },
     "execution_count": 49,
     "metadata": {},
     "output_type": "execute_result"
    }
   ],
   "source": [
    "# To find the Maximum in the tuple.\n",
    "\n",
    "tup_num = (53,45,125,48,69,6,4,88,75)\n",
    "\n",
    "max(tup_num)"
   ]
  },
  {
   "cell_type": "markdown",
   "id": "03f88d47",
   "metadata": {},
   "source": [
    "## Tuple - Member operator"
   ]
  },
  {
   "cell_type": "code",
   "execution_count": 26,
   "id": "002bd96e",
   "metadata": {},
   "outputs": [
    {
     "data": {
      "text/plain": [
       "True"
      ]
     },
     "execution_count": 26,
     "metadata": {},
     "output_type": "execute_result"
    }
   ],
   "source": [
    "new_tup = (\"Basketball\", \"Table Tennis\", \"Cricket\", \"Football\",\"Volleyball\")\n",
    "\n",
    "\"Cricket\" in new_tup"
   ]
  },
  {
   "cell_type": "code",
   "execution_count": 27,
   "id": "465c4879",
   "metadata": {},
   "outputs": [
    {
     "data": {
      "text/plain": [
       "True"
      ]
     },
     "execution_count": 27,
     "metadata": {},
     "output_type": "execute_result"
    }
   ],
   "source": [
    "\"Football\" in new_tup"
   ]
  },
  {
   "cell_type": "code",
   "execution_count": 28,
   "id": "df6c3005",
   "metadata": {},
   "outputs": [
    {
     "data": {
      "text/plain": [
       "False"
      ]
     },
     "execution_count": 28,
     "metadata": {},
     "output_type": "execute_result"
    }
   ],
   "source": [
    "\"Racing\" in new_tup"
   ]
  },
  {
   "cell_type": "markdown",
   "id": "55c02f7a",
   "metadata": {},
   "source": [
    "## Tuple membership using If conditon"
   ]
  },
  {
   "cell_type": "code",
   "execution_count": 29,
   "id": "251894d3",
   "metadata": {},
   "outputs": [
    {
     "name": "stdout",
     "output_type": "stream",
     "text": [
      "Element is present in the Tuple\n"
     ]
    }
   ],
   "source": [
    "\n",
    "newtp = (\"Basketball\", \"Table Tennis\", \"Cricket\", \"Football\",\"Volleyball\")\n",
    "\n",
    "if \"Basketball\" in newtp:\n",
    "    print(\"Element is present in the Tuple\")\n",
    "    \n",
    "else:\n",
    "    print(\"Element is not present in the Tuple\")"
   ]
  },
  {
   "cell_type": "code",
   "execution_count": 30,
   "id": "aea0cff8",
   "metadata": {},
   "outputs": [
    {
     "name": "stdout",
     "output_type": "stream",
     "text": [
      "Element is not present in the Tuple\n"
     ]
    }
   ],
   "source": [
    "newtp = (\"Basketball\", \"Table Tennis\", \"Cricket\", \"Football\",\"Volleyball\")\n",
    "\n",
    "if \"Racing\" in newtp:\n",
    "    print(\"Element is present in the Tuple\")\n",
    "    \n",
    "else:\n",
    "    print(\"Element is not present in the Tuple\")"
   ]
  },
  {
   "cell_type": "markdown",
   "id": "adf5173e",
   "metadata": {},
   "source": [
    "## Sort the Tuple"
   ]
  },
  {
   "cell_type": "markdown",
   "id": "d1de3fe1",
   "metadata": {},
   "source": [
    "## Sort() - Arrange the elements in Ascending order"
   ]
  },
  {
   "cell_type": "code",
   "execution_count": 36,
   "id": "b717d6ea",
   "metadata": {},
   "outputs": [
    {
     "data": {
      "text/plain": [
       "[4, 7, 13, 21, 23, 47, 52, 69]"
      ]
     },
     "execution_count": 36,
     "metadata": {},
     "output_type": "execute_result"
    }
   ],
   "source": [
    "#By default sort function will arrange the elements in ascending order.\n",
    "\n",
    "num_tup = (52,4,69,47,23,7,13,21)\n",
    "\n",
    "sorted(num_tup)\n"
   ]
  },
  {
   "cell_type": "code",
   "execution_count": 41,
   "id": "44c8ee62",
   "metadata": {},
   "outputs": [
    {
     "data": {
      "text/plain": [
       "[69, 52, 47, 23, 21, 13, 7, 4]"
      ]
     },
     "execution_count": 41,
     "metadata": {},
     "output_type": "execute_result"
    }
   ],
   "source": [
    "# Reverse sort - Arrange in Descending order.\n",
    "\n",
    "num_tup = (52,4,69,47,23,7,13,21)\n",
    "\n",
    "sorted(num_tup, reverse=True)"
   ]
  },
  {
   "cell_type": "markdown",
   "id": "73840248",
   "metadata": {},
   "source": [
    "## Example of sort in Nested Tuple"
   ]
  },
  {
   "cell_type": "code",
   "execution_count": 45,
   "id": "ff368727",
   "metadata": {},
   "outputs": [
    {
     "data": {
      "text/plain": [
       "[[25, 1], [12, 5], [41, 12], [6, 14], [74, 23]]"
      ]
     },
     "execution_count": 45,
     "metadata": {},
     "output_type": "execute_result"
    }
   ],
   "source": [
    "#Sort the nested tuple by sorting the every 2nd element in the nested tuple.\n",
    "\n",
    "new_tuple = ([12,5], [41,12],[6,14], [74,23],[25,1])\n",
    "\n",
    "new_tup= sorted(new_tuple, key = lambda x:x[1])\n",
    "\n",
    "new_tup"
   ]
  },
  {
   "cell_type": "code",
   "execution_count": 46,
   "id": "087f0c63",
   "metadata": {},
   "outputs": [
    {
     "data": {
      "text/plain": [
       "[[6, 14], [12, 5], [25, 1], [41, 12], [74, 23]]"
      ]
     },
     "execution_count": 46,
     "metadata": {},
     "output_type": "execute_result"
    }
   ],
   "source": [
    "\n",
    "#Sort the nested tuple by sorting the every 1st element in the nested tuple.\n",
    "\n",
    "new_tuple = ([12,5], [41,12],[6,14], [74,23],[25,1])\n",
    "\n",
    "new_tup= sorted(new_tuple, key = lambda x:x[0])\n",
    "\n",
    "new_tup"
   ]
  },
  {
   "cell_type": "markdown",
   "id": "5318e9fb",
   "metadata": {},
   "source": [
    "## Sorting different data types in Nested Tuples"
   ]
  },
  {
   "cell_type": "code",
   "execution_count": 10,
   "id": "20672602",
   "metadata": {},
   "outputs": [
    {
     "name": "stdout",
     "output_type": "stream",
     "text": [
      "[(401, 'Sudhir', 23.9), (408, 'Ram', 51.2), (410, 'Manohar', 25.4)]\n",
      "[(410, 'Manohar', 25.4), (408, 'Ram', 51.2), (401, 'Sudhir', 23.9)]\n",
      "[(410, 'Manohar', 25.4), (408, 'Ram', 51.2), (401, 'Sudhir', 23.9)]\n",
      "[(401, 'Sudhir', 23.9), (410, 'Manohar', 25.4), (408, 'Ram', 51.2)]\n"
     ]
    }
   ],
   "source": [
    "emp_details = ((410, \"Manohar\", 25.4), (401, \"Sudhir\", 23.9), (408, \"Ram\", 51.2))\n",
    "\n",
    "print(sorted(emp_details))\n",
    "print(sorted(emp_details, reverse = True))\n",
    "print(sorted(emp_details, key=lambda x:x[1]))\n",
    "print(sorted(emp_details, key=lambda x:x[2]))             "
   ]
  },
  {
   "cell_type": "markdown",
   "id": "47f8ffc2",
   "metadata": {},
   "source": [
    "## Loop through Tuple"
   ]
  },
  {
   "cell_type": "code",
   "execution_count": 42,
   "id": "8976fb4b",
   "metadata": {},
   "outputs": [
    {
     "name": "stdout",
     "output_type": "stream",
     "text": [
      "Eight\n",
      "Forty\n",
      "one\n",
      "two\n",
      "Seven\n",
      "Fourteen\n"
     ]
    }
   ],
   "source": [
    "tuple2 = (\"Eight\", \"Forty\",\"one\", \"two\", \"Seven\", \"Fourteen\")\n",
    "\n",
    "for i in tuple2:\n",
    "    print(i)"
   ]
  },
  {
   "cell_type": "markdown",
   "id": "d99be162",
   "metadata": {},
   "source": [
    "## Enumerate in Tuple"
   ]
  },
  {
   "cell_type": "code",
   "execution_count": 44,
   "id": "2635a345",
   "metadata": {},
   "outputs": [
    {
     "name": "stdout",
     "output_type": "stream",
     "text": [
      "(0, 'Eight')\n",
      "(1, 'Forty')\n",
      "(2, 'one')\n",
      "(3, 'two')\n",
      "(4, 'Seven')\n",
      "(5, 'Fourteen')\n"
     ]
    }
   ],
   "source": [
    "#Enumerate is used to show the index value of the elements.\n",
    "\n",
    "tuple2 = (\"Eight\", \"Forty\",\"one\", \"two\", \"Seven\", \"Fourteen\")\n",
    "\n",
    "for i in enumerate(tuple2):\n",
    "    print(i)"
   ]
  },
  {
   "cell_type": "code",
   "execution_count": null,
   "id": "3892ab8e",
   "metadata": {},
   "outputs": [],
   "source": []
  }
 ],
 "metadata": {
  "kernelspec": {
   "display_name": "Python 3 (ipykernel)",
   "language": "python",
   "name": "python3"
  },
  "language_info": {
   "codemirror_mode": {
    "name": "ipython",
    "version": 3
   },
   "file_extension": ".py",
   "mimetype": "text/x-python",
   "name": "python",
   "nbconvert_exporter": "python",
   "pygments_lexer": "ipython3",
   "version": "3.9.7"
  }
 },
 "nbformat": 4,
 "nbformat_minor": 5
}
