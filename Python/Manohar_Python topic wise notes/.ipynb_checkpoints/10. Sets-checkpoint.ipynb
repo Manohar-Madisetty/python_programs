{
 "cells": [
  {
   "cell_type": "markdown",
   "id": "bf077c37",
   "metadata": {},
   "source": [
    "## Definition of Set - \n",
    "\n",
    "A set is a group of elements that are not in any specific sequence. A Python set is comparable to this mathematical description, but with the additional requirements listed below.\n",
    "\n",
    "The set's elements cannot be duplicate - if an element is present more than 2 times, it it will print only once.\n",
    "\n",
    "The set's elements are immutable (cannot be changed), but the set as a whole is\n",
    "mutable.\n",
    "\n",
    "A python set has no indexes associated with its elements. As a result, no indexing or\n",
    "slicing operations are supported."
   ]
  },
  {
   "cell_type": "code",
   "execution_count": 1,
   "id": "dfd0af06",
   "metadata": {},
   "outputs": [
    {
     "data": {
      "text/plain": [
       "{1, 2, 5, 6, 7, 8}"
      ]
     },
     "execution_count": 1,
     "metadata": {},
     "output_type": "execute_result"
    }
   ],
   "source": [
    "#Print the duplicate values only once.\n",
    "\n",
    "myset = {1,5,6,2,5,1,5,6,7,8}\n",
    "\n",
    "myset"
   ]
  },
  {
   "cell_type": "markdown",
   "id": "61dda5eb",
   "metadata": {},
   "source": [
    "## LIST - TUPLE - SETS - DICTIONARIES"
   ]
  },
  {
   "cell_type": "markdown",
   "id": "64e1b8ed",
   "metadata": {},
   "source": [
    "## LIST"
   ]
  },
  {
   "cell_type": "code",
   "execution_count": null,
   "id": "ac5f9666",
   "metadata": {},
   "outputs": [],
   "source": [
    "# 1. Ordered, Index mix elements.\n",
    "# 2. can perform operations like - Add, append, dupliucate, change, remove.\n",
    "# 3. Mutable\n",
    "# 4. Denoted with - []"
   ]
  },
  {
   "cell_type": "markdown",
   "id": "6453abee",
   "metadata": {},
   "source": [
    "## TUPLE"
   ]
  },
  {
   "cell_type": "code",
   "execution_count": null,
   "id": "1e7dbffd",
   "metadata": {},
   "outputs": [],
   "source": [
    "# 1. Ordered, Index mix elements.\n",
    "# 2. cannot perform operations like - Add, append, dupliucate, change, remove.\n",
    "# 3. Immutable\n",
    "# 4. Denoted with - ()"
   ]
  },
  {
   "cell_type": "markdown",
   "id": "23e8317e",
   "metadata": {},
   "source": [
    "## Sets"
   ]
  },
  {
   "cell_type": "code",
   "execution_count": null,
   "id": "34d6b2b7",
   "metadata": {},
   "outputs": [],
   "source": [
    "# 1. Unordered, Index mix elements.\n",
    "# 2. No duplicate value is allowed\n",
    "# 3. Elements are Immutable\n",
    "# 4. Denoted with - {}\n",
    "# 5. Set itself is mutable - We can add or remove elements"
   ]
  },
  {
   "cell_type": "markdown",
   "id": "ca8bd148",
   "metadata": {},
   "source": [
    "## DICTIONARIES"
   ]
  },
  {
   "cell_type": "code",
   "execution_count": null,
   "id": "68f58a31",
   "metadata": {},
   "outputs": [],
   "source": [
    "# 1. Key and value {key:value}\n",
    "# 2. Key should be Unique\n",
    "# 3. Values can be duplicated. \n",
    "# 4. Denoted with {k:v}"
   ]
  },
  {
   "cell_type": "markdown",
   "id": "12233b89",
   "metadata": {},
   "source": [
    "## Length of Set"
   ]
  },
  {
   "cell_type": "code",
   "execution_count": 5,
   "id": "6fb2ab20",
   "metadata": {},
   "outputs": [
    {
     "name": "stdout",
     "output_type": "stream",
     "text": [
      "{1, 2, 5, 6, 7, 8}\n"
     ]
    },
    {
     "data": {
      "text/plain": [
       "6"
      ]
     },
     "execution_count": 5,
     "metadata": {},
     "output_type": "execute_result"
    }
   ],
   "source": [
    "#Only unique values are considered\n",
    "\n",
    "myset = {1,5,6,2,5,1,5,6,7,8}\n",
    "\n",
    "print(myset)\n",
    "\n",
    "len(myset)"
   ]
  },
  {
   "cell_type": "code",
   "execution_count": 8,
   "id": "886e90f7",
   "metadata": {},
   "outputs": [
    {
     "data": {
      "text/plain": [
       "{8.41, 10.2, 22.3, 41.5, 49.7, 52.3}"
      ]
     },
     "execution_count": 8,
     "metadata": {},
     "output_type": "execute_result"
    }
   ],
   "source": [
    "#Set of float numbers\n",
    "# it will print the output in ascending order by default.\n",
    "\n",
    "set1={10.2, 52.3, 08.41,41.5, 22.3, 49.7}\n",
    "set1\n"
   ]
  },
  {
   "cell_type": "code",
   "execution_count": 9,
   "id": "144bb9c0",
   "metadata": {},
   "outputs": [
    {
     "data": {
      "text/plain": [
       "{'Manohar', 'Manoj', 'Prem', 'Shiva', 'Sudhir'}"
      ]
     },
     "execution_count": 9,
     "metadata": {},
     "output_type": "execute_result"
    }
   ],
   "source": [
    "#Set of Strings\n",
    "\n",
    "set2 = {\"Manohar\", \"Sudhir\", \"Prem\", \"Shiva\", \"Manoj\"}\n",
    "set2"
   ]
  },
  {
   "cell_type": "code",
   "execution_count": 12,
   "id": "8a694247",
   "metadata": {},
   "outputs": [
    {
     "data": {
      "text/plain": [
       "{('Raju', 'Sham', 'Kiran'), 1, 123, 15, 2, 3, 45.6, 'ID', 'Names', 'Rank'}"
      ]
     },
     "execution_count": 12,
     "metadata": {},
     "output_type": "execute_result"
    }
   ],
   "source": [
    "#Set of mixed data type\n",
    "#In mixed datatype - It will print the tuples first-->then Integer --> then string\n",
    "\n",
    "set1 ={'ID',123,45.6, 'Rank',15 , 'Names', 2,1,3, ('Raju','Sham','Kiran')}\n",
    "\n",
    "set1\n"
   ]
  },
  {
   "cell_type": "code",
   "execution_count": 13,
   "id": "f880a3ef",
   "metadata": {},
   "outputs": [
    {
     "ename": "TypeError",
     "evalue": "unhashable type: 'list'",
     "output_type": "error",
     "traceback": [
      "\u001b[1;31m---------------------------------------------------------------------------\u001b[0m",
      "\u001b[1;31mTypeError\u001b[0m                                 Traceback (most recent call last)",
      "\u001b[1;32mC:\\Users\\SUDHIR~1\\AppData\\Local\\Temp/ipykernel_18988/111767883.py\u001b[0m in \u001b[0;36m<module>\u001b[1;34m\u001b[0m\n\u001b[0;32m      3\u001b[0m \u001b[1;31m#In mixed datatype - It will print the tuples first-->then Integer --> then string\u001b[0m\u001b[1;33m\u001b[0m\u001b[1;33m\u001b[0m\u001b[0m\n\u001b[0;32m      4\u001b[0m \u001b[1;33m\u001b[0m\u001b[0m\n\u001b[1;32m----> 5\u001b[1;33m \u001b[0mset1\u001b[0m \u001b[1;33m=\u001b[0m\u001b[1;33m{\u001b[0m\u001b[1;34m'ID'\u001b[0m\u001b[1;33m,\u001b[0m\u001b[1;36m123\u001b[0m\u001b[1;33m,\u001b[0m\u001b[1;36m45.6\u001b[0m\u001b[1;33m,\u001b[0m \u001b[1;34m'Rank'\u001b[0m\u001b[1;33m,\u001b[0m\u001b[1;36m15\u001b[0m \u001b[1;33m,\u001b[0m \u001b[1;34m'Names'\u001b[0m\u001b[1;33m,\u001b[0m \u001b[1;36m2\u001b[0m\u001b[1;33m,\u001b[0m\u001b[1;36m1\u001b[0m\u001b[1;33m,\u001b[0m\u001b[1;36m3\u001b[0m\u001b[1;33m,\u001b[0m \u001b[1;33m[\u001b[0m\u001b[1;34m'Raju'\u001b[0m\u001b[1;33m,\u001b[0m\u001b[1;34m'Sham'\u001b[0m\u001b[1;33m,\u001b[0m\u001b[1;34m'Kiran'\u001b[0m\u001b[1;33m]\u001b[0m\u001b[1;33m}\u001b[0m\u001b[1;33m\u001b[0m\u001b[1;33m\u001b[0m\u001b[0m\n\u001b[0m\u001b[0;32m      6\u001b[0m \u001b[1;33m\u001b[0m\u001b[0m\n\u001b[0;32m      7\u001b[0m \u001b[0mset1\u001b[0m\u001b[1;33m\u001b[0m\u001b[1;33m\u001b[0m\u001b[0m\n",
      "\u001b[1;31mTypeError\u001b[0m: unhashable type: 'list'"
     ]
    }
   ],
   "source": [
    "#Set of mixed data type\n",
    "# List elements cannot be printed in Sets\n",
    "#In mixed datatype - It will print the tuples first-->then Integer --> then string\n",
    "\n",
    "set1 ={'ID',123,45.6, 'Rank',15 , 'Names', 2,1,3, ['Raju','Sham','Kiran']}\n",
    "\n",
    "set1"
   ]
  },
  {
   "cell_type": "markdown",
   "id": "26c76b97",
   "metadata": {},
   "source": [
    "## Looping through Set"
   ]
  },
  {
   "cell_type": "code",
   "execution_count": 14,
   "id": "f6d958f4",
   "metadata": {},
   "outputs": [
    {
     "name": "stdout",
     "output_type": "stream",
     "text": [
      "Fourteen\n",
      "Forty\n",
      "two\n",
      "Seven\n",
      "one\n",
      "Eight\n"
     ]
    }
   ],
   "source": [
    "set1 = {\"Eight\", \"Forty\",\"one\", \"two\", \"Seven\", \"Fourteen\"}\n",
    "\n",
    "for i in set1:\n",
    "    print(i)"
   ]
  },
  {
   "cell_type": "markdown",
   "id": "04934f6b",
   "metadata": {},
   "source": [
    "## Enumerate in Set"
   ]
  },
  {
   "cell_type": "code",
   "execution_count": 16,
   "id": "6a14d320",
   "metadata": {},
   "outputs": [
    {
     "name": "stdout",
     "output_type": "stream",
     "text": [
      "(0, 'Fourteen')\n",
      "(1, 'Forty')\n",
      "(2, 'two')\n",
      "(3, 'Seven')\n",
      "(4, 'one')\n",
      "(5, 'Eight')\n"
     ]
    }
   ],
   "source": [
    "set1 = {\"Eight\", \"Forty\",\"one\", \"two\", \"Seven\", \"Fourteen\"}\n",
    "\n",
    "for i in enumerate(set1):\n",
    "    print(i)\n",
    "    \n",
    " #there is no order in printing output in Sets.   "
   ]
  },
  {
   "cell_type": "markdown",
   "id": "6280ccf1",
   "metadata": {},
   "source": [
    "## Set Membership operators"
   ]
  },
  {
   "cell_type": "code",
   "execution_count": 17,
   "id": "ebd1e333",
   "metadata": {},
   "outputs": [
    {
     "data": {
      "text/plain": [
       "True"
      ]
     },
     "execution_count": 17,
     "metadata": {},
     "output_type": "execute_result"
    }
   ],
   "source": [
    "set1 = {\"Eight\", \"Forty\",\"one\", \"two\", \"Seven\", \"Fourteen\"}\n",
    "\n",
    "\"Forty\" in set1"
   ]
  },
  {
   "cell_type": "code",
   "execution_count": 18,
   "id": "3641f1a7",
   "metadata": {},
   "outputs": [
    {
     "data": {
      "text/plain": [
       "False"
      ]
     },
     "execution_count": 18,
     "metadata": {},
     "output_type": "execute_result"
    }
   ],
   "source": [
    "set1 = {\"Eight\", \"Forty\",\"one\", \"two\", \"Seven\", \"Fourteen\"}\n",
    "\n",
    "\"Three\" in set1"
   ]
  },
  {
   "cell_type": "code",
   "execution_count": 19,
   "id": "2d77844c",
   "metadata": {},
   "outputs": [
    {
     "name": "stdout",
     "output_type": "stream",
     "text": [
      "The number is present in the set\n"
     ]
    }
   ],
   "source": [
    "# Using IF statement in Set Membership\n",
    "\n",
    "set1 = {\"Eight\", \"Forty\",\"one\", \"two\", \"Seven\", \"Fourteen\"}\n",
    "\n",
    "if \"one\" in set1:\n",
    "    print(\"The number is present in the set\")\n",
    "    \n",
    "else:\n",
    "    print(\"The number is NOT present in the set\")\n",
    "    "
   ]
  },
  {
   "cell_type": "code",
   "execution_count": 20,
   "id": "d4fd5d70",
   "metadata": {},
   "outputs": [
    {
     "name": "stdout",
     "output_type": "stream",
     "text": [
      "The number is NOT present in the set\n"
     ]
    }
   ],
   "source": [
    "# Using IF statement in Set Membership\n",
    "\n",
    "set1 = {\"Eight\", \"Forty\",\"one\", \"two\", \"Seven\", \"Fourteen\"}\n",
    "\n",
    "if \"Ten\" in set1:\n",
    "    print(\"The number is present in the set\")\n",
    "    \n",
    "else:\n",
    "    print(\"The number is NOT present in the set\")\n",
    "    "
   ]
  },
  {
   "cell_type": "markdown",
   "id": "d2a76d81",
   "metadata": {},
   "source": [
    "## Add Items"
   ]
  },
  {
   "cell_type": "code",
   "execution_count": 22,
   "id": "ba49ff74",
   "metadata": {},
   "outputs": [
    {
     "data": {
      "text/plain": [
       "{'Eight', 'Five', 'Forty', 'Fourteen', 'Seven', 'one', 'two'}"
      ]
     },
     "execution_count": 22,
     "metadata": {},
     "output_type": "execute_result"
    }
   ],
   "source": [
    "# To add single element in the set. then we use add()\n",
    "# Syntax - set.add(new element)\n",
    "\n",
    "\n",
    "set1 = {\"Eight\", \"Forty\",\"one\", \"two\", \"Seven\", \"Fourteen\"}\n",
    "\n",
    "set1.add(\"Five\")\n",
    "\n",
    "set1"
   ]
  },
  {
   "cell_type": "code",
   "execution_count": 25,
   "id": "a9f70ada",
   "metadata": {},
   "outputs": [
    {
     "data": {
      "text/plain": [
       "{'Eight', 'Forty', 'Fourteen', 'Seven', 'Sixty', 'Thirty', 'one', 'two'}"
      ]
     },
     "execution_count": 25,
     "metadata": {},
     "output_type": "execute_result"
    }
   ],
   "source": [
    "# To print multiple elements in the set, we use - update().\n",
    "# Syntax - set.update([multiple element])\n",
    "\n",
    "set2 = {\"Eight\", \"Forty\",\"one\", \"two\", \"Seven\", \"Fourteen\"}\n",
    "\n",
    "set2.update([\"Thirty\",\"Sixty\"])\n",
    "\n",
    "set2"
   ]
  },
  {
   "cell_type": "markdown",
   "id": "b4b91f9f",
   "metadata": {},
   "source": [
    "## Remove Item"
   ]
  },
  {
   "cell_type": "code",
   "execution_count": 30,
   "id": "c7614948",
   "metadata": {},
   "outputs": [
    {
     "data": {
      "text/plain": [
       "{'Eight', 'Forty', 'Fourteen', 'Seven', 'two'}"
      ]
     },
     "execution_count": 30,
     "metadata": {},
     "output_type": "execute_result"
    }
   ],
   "source": [
    "# To remove single element in the set. then we use remove()\n",
    "# Syntax - set.remove(single element)\n",
    "\n",
    "\n",
    "set1 = {\"Eight\", \"Forty\",\"one\", \"two\", \"Seven\", \"Fourteen\"}\n",
    "\n",
    "set1.remove(\"one\")\n",
    "\n",
    "set1"
   ]
  },
  {
   "cell_type": "markdown",
   "id": "b0c582ca",
   "metadata": {},
   "source": [
    "## Discard - removes the item from the set"
   ]
  },
  {
   "cell_type": "code",
   "execution_count": 54,
   "id": "fbd9854c",
   "metadata": {},
   "outputs": [
    {
     "data": {
      "text/plain": [
       "{'Forty', 'Fourteen', 'Seven', 'one', 'two'}"
      ]
     },
     "execution_count": 54,
     "metadata": {},
     "output_type": "execute_result"
    }
   ],
   "source": [
    "# To remove single element in the set. then we use discard()\n",
    "# Syntax - set.discard(single element)\n",
    "\n",
    "set2 = {\"Eight\", \"Forty\",\"one\", \"two\", \"Seven\", \"Fourteen\"}\n",
    "\n",
    "set2.discard(\"Eight\")\n",
    "\n",
    "set2"
   ]
  },
  {
   "cell_type": "markdown",
   "id": "2883f7ed",
   "metadata": {},
   "source": [
    "## Clear\n",
    "\n",
    "Deletes all the elements in the set."
   ]
  },
  {
   "cell_type": "code",
   "execution_count": 38,
   "id": "d8fbeed0",
   "metadata": {},
   "outputs": [
    {
     "name": "stdout",
     "output_type": "stream",
     "text": [
      "set()\n"
     ]
    }
   ],
   "source": [
    "set2 = {\"Eight\", \"Forty\",\"one\", \"two\", \"Seven\", \"Fourteen\"}\n",
    "\n",
    "set2.clear()\n",
    "\n",
    "print(set2)"
   ]
  },
  {
   "cell_type": "markdown",
   "id": "6b156f89",
   "metadata": {},
   "source": [
    "## Copy Set"
   ]
  },
  {
   "cell_type": "code",
   "execution_count": 42,
   "id": "b3430756",
   "metadata": {},
   "outputs": [
    {
     "name": "stdout",
     "output_type": "stream",
     "text": [
      "{'Fourteen', 'Forty', 'two', 'Seven', 'one', 'Eight'}\n"
     ]
    }
   ],
   "source": [
    "## Copying set by creating new reference as new_set.\n",
    "# In reference set, if we update/add and element to the set then the updated value is updated in reference set.\n",
    "\n",
    "set_1 = {\"Eight\", \"Forty\",\"one\", \"two\", \"Seven\", \"Fourteen\"}\n",
    "\n",
    "new_set = set_1\n",
    "\n",
    "print(new_set)"
   ]
  },
  {
   "cell_type": "code",
   "execution_count": 43,
   "id": "988c0d02",
   "metadata": {},
   "outputs": [
    {
     "name": "stdout",
     "output_type": "stream",
     "text": [
      "{'Fourteen', 'Forty', 'two', 'Seven', 'one', 'Eight'}\n"
     ]
    }
   ],
   "source": [
    "# Method 2\n",
    "\n",
    "# In copy(), if we update/add and element to the set then the updated value is not updated in copy set.\n",
    "\n",
    "set_a = {\"Eight\", \"Forty\",\"one\", \"two\", \"Seven\", \"Fourteen\"}\n",
    "\n",
    "new_set1 = set_a.copy() #creates the copy of set.\n",
    "\n",
    "print(new_set1)"
   ]
  },
  {
   "cell_type": "code",
   "execution_count": 44,
   "id": "4a457924",
   "metadata": {},
   "outputs": [
    {
     "data": {
      "text/plain": [
       "{'Eight', 'Forty', 'Fourteen', 'Seven', 'one', 'two'}"
      ]
     },
     "execution_count": 44,
     "metadata": {},
     "output_type": "execute_result"
    }
   ],
   "source": [
    "# Added a new element \"two\" in the set\n",
    "\n",
    "set_a = {\"Eight\", \"Forty\",\"one\", \"two\", \"Seven\", \"Fourteen\"}\n",
    "\n",
    "set_a.add(\"two\")\n",
    "\n",
    "set_a"
   ]
  },
  {
   "cell_type": "code",
   "execution_count": 46,
   "id": "dc034c88",
   "metadata": {},
   "outputs": [
    {
     "data": {
      "text/plain": [
       "{'Eight', 'Forty', 'Fourteen', 'Seven', 'one', 'two'}"
      ]
     },
     "execution_count": 46,
     "metadata": {},
     "output_type": "execute_result"
    }
   ],
   "source": [
    "# Copied the above set in \"newset\".\n",
    "\n",
    "newset = set_a.copy()\n",
    "\n",
    "newset\n"
   ]
  },
  {
   "cell_type": "code",
   "execution_count": 47,
   "id": "e2e8bede",
   "metadata": {},
   "outputs": [
    {
     "data": {
      "text/plain": [
       "{25, 'Eight', 'Forty', 'Fourteen', 'Seven', 'one', 'two'}"
      ]
     },
     "execution_count": 47,
     "metadata": {},
     "output_type": "execute_result"
    }
   ],
   "source": [
    "# Added new element 25 in \"set_a\"\n",
    "set_a.add(25)\n",
    "\n",
    "set_a"
   ]
  },
  {
   "cell_type": "code",
   "execution_count": 51,
   "id": "940858d4",
   "metadata": {},
   "outputs": [
    {
     "name": "stdout",
     "output_type": "stream",
     "text": [
      "{'Fourteen', 'Forty', 'two', 'Seven', 'one', 'Eight'}\n"
     ]
    }
   ],
   "source": [
    "# When printed \"newset\" which is a copy od set_a, then it will not print the updated element in copied set.\n",
    "# It did not print \"25\" in newset.\n",
    "\n",
    "print(newset)"
   ]
  },
  {
   "cell_type": "code",
   "execution_count": 53,
   "id": "cf2c38e7",
   "metadata": {},
   "outputs": [
    {
     "data": {
      "text/plain": [
       "{25, 'Eight', 'Forty', 'Fourteen', 'Seven', 'one', 'two'}"
      ]
     },
     "execution_count": 53,
     "metadata": {},
     "output_type": "execute_result"
    }
   ],
   "source": [
    "# When printing reference set newset1 then it is also printing the updated element 25 in the set.\n",
    "# This is the advantage of reference set.\n",
    "\n",
    "newset1 = set_a\n",
    "\n",
    "newset1"
   ]
  },
  {
   "cell_type": "markdown",
   "id": "c994ca26",
   "metadata": {},
   "source": [
    "## Union of Set"
   ]
  },
  {
   "cell_type": "code",
   "execution_count": 72,
   "id": "f7a3ff0a",
   "metadata": {},
   "outputs": [
    {
     "data": {
      "text/plain": [
       "{'Brezza', 'Creta', 'Etios', 'Skoda', 'Swift', 'Thar', 'Verna'}"
      ]
     },
     "execution_count": 72,
     "metadata": {},
     "output_type": "execute_result"
    }
   ],
   "source": [
    "# syntax - set1.union(set2) - most used and preffered method.\n",
    "\n",
    "cars1 = set([\"Swift\",\"Brezza\",\"Verna\",\"Etios\",\"Skoda\"])\n",
    "cars2 = set([\"Etios\",\"Creta\",\"Thar\",\"Swift\",\"Brezza\"])\n",
    "\n",
    "cars1.union(cars2)"
   ]
  },
  {
   "cell_type": "code",
   "execution_count": 76,
   "id": "70c5fc38",
   "metadata": {},
   "outputs": [
    {
     "name": "stdout",
     "output_type": "stream",
     "text": [
      "{'five', 'two', 'three', 'seven', 'one', 'nine', 'six', 'eight', 'four', 'ten', 'eleven'}\n"
     ]
    }
   ],
   "source": [
    "A= set([\"one\",\"two\",\"three\",\"four\"])\n",
    "B= set([\"five\",\"three\",\"six\",\"seven\"])\n",
    "C= set([\"eight\",\"nine\",\"ten\",\"eleven\"])\n",
    "\n",
    "print(A.union(B,C))"
   ]
  },
  {
   "cell_type": "code",
   "execution_count": 61,
   "id": "dd461cf7",
   "metadata": {},
   "outputs": [
    {
     "name": "stdout",
     "output_type": "stream",
     "text": [
      "{'Santra', 'Melons', 'Papaya', 'Grapes', 'Apple', 'Mango', 'Orange', 'Guvava', 'Banana', 'Kiwi'}\n"
     ]
    }
   ],
   "source": [
    "# Union function prints all the elements in both sets and removes duplicate.\n",
    "\n",
    "set_fruits1 = set ([\"Apple\",\"Banana\",\"Mango\",\"Kiwi\",\"Papaya\",\"Orange\"])\n",
    "set_fruits2 = set ([\"Guvava\",\"Orange\",\"Santra\",\"Grapes\",\"Banana\",\"Melons\"])\n",
    "\n",
    "new_set = set_fruits1|set_fruits2\n",
    "\n",
    "print(new_set)"
   ]
  },
  {
   "cell_type": "markdown",
   "id": "cda3e816",
   "metadata": {},
   "source": [
    "## Intersection of Set\n",
    "\n",
    "- merges the elements and prints the common elements of set."
   ]
  },
  {
   "cell_type": "code",
   "execution_count": 81,
   "id": "3a1b997a",
   "metadata": {},
   "outputs": [
    {
     "data": {
      "text/plain": [
       "{'Brezza', 'Etios', 'Swift'}"
      ]
     },
     "execution_count": 81,
     "metadata": {},
     "output_type": "execute_result"
    }
   ],
   "source": [
    "# Syntax- set1.intersection(set2) - most preferred method.\n",
    "\n",
    "cars1 = set([\"Swift\",\"Brezza\",\"Verna\",\"Etios\",\"Skoda\"])\n",
    "cars2 = set([\"Etios\",\"Creta\",\"Thar\",\"Swift\",\"Brezza\"])\n",
    "\n",
    "cars1.intersection(cars2)"
   ]
  },
  {
   "cell_type": "code",
   "execution_count": 65,
   "id": "6d1dad83",
   "metadata": {},
   "outputs": [
    {
     "data": {
      "text/plain": [
       "{'Brezza', 'Etios', 'Swift'}"
      ]
     },
     "execution_count": 65,
     "metadata": {},
     "output_type": "execute_result"
    }
   ],
   "source": [
    "#Method - 2\n",
    "cars1 = set([\"Swift\",\"Brezza\",\"Verna\",\"Etios\",\"Skoda\"])\n",
    "cars2 = set([\"Etios\",\"Creta\",\"Thar\",\"Swift\",\"Brezza\"])\n",
    "\n",
    "newcars = cars1 & cars2\n",
    "newcars"
   ]
  },
  {
   "cell_type": "code",
   "execution_count": 69,
   "id": "1aa669db",
   "metadata": {},
   "outputs": [
    {
     "data": {
      "text/plain": [
       "{1, 2, 4, 6}"
      ]
     },
     "execution_count": 69,
     "metadata": {},
     "output_type": "execute_result"
    }
   ],
   "source": [
    "# Prints the common elements in integers type\n",
    "a = set([1,2,4,5,6,7])\n",
    "b = set([4,6,9,3,1,2])\n",
    "\n",
    "numbers = a & b\n",
    "\n",
    "numbers"
   ]
  },
  {
   "cell_type": "markdown",
   "id": "d81d6022",
   "metadata": {},
   "source": [
    "## Difference of Sets\n",
    "\n",
    "- When you perform a difference operation on two sets, you get a new set that has only the items from the first set and none from the second."
   ]
  },
  {
   "cell_type": "code",
   "execution_count": 82,
   "id": "a1277673",
   "metadata": {},
   "outputs": [
    {
     "data": {
      "text/plain": [
       "{1, 2, 5, 7}"
      ]
     },
     "execution_count": 82,
     "metadata": {},
     "output_type": "execute_result"
    }
   ],
   "source": [
    "# It eliminates the common elements present in both sets and print only set1 elements.\n",
    "#Method 1 - Most preferred\n",
    "\n",
    "a = set([1,2,4,5,7])\n",
    "b = set([4,6,9,3,0])\n",
    "\n",
    "a.difference(b)\n"
   ]
  },
  {
   "cell_type": "code",
   "execution_count": 74,
   "id": "11714803",
   "metadata": {},
   "outputs": [
    {
     "data": {
      "text/plain": [
       "{1, 2, 5, 7}"
      ]
     },
     "execution_count": 74,
     "metadata": {},
     "output_type": "execute_result"
    }
   ],
   "source": [
    "# It eliminates the common elements present in both sets and print only set1 elements.\n",
    "# Method - 2\n",
    "\n",
    "a = set([1,2,4,5,7])\n",
    "b = set([4,6,9,3,0])\n",
    "\n",
    "numbers = a - b\n",
    "\n",
    "numbers"
   ]
  },
  {
   "cell_type": "code",
   "execution_count": 77,
   "id": "4886e5fc",
   "metadata": {},
   "outputs": [
    {
     "data": {
      "text/plain": [
       "{'four', 'one', 'two'}"
      ]
     },
     "execution_count": 77,
     "metadata": {},
     "output_type": "execute_result"
    }
   ],
   "source": [
    "A= set([\"one\",\"two\",\"three\",\"four\"])\n",
    "B= set([\"five\",\"three\",\"six\",\"seven\"])\n",
    "\n",
    "new = A-B\n",
    "new"
   ]
  },
  {
   "cell_type": "markdown",
   "id": "001d8c09",
   "metadata": {},
   "source": [
    "## Update the Set"
   ]
  },
  {
   "cell_type": "code",
   "execution_count": 78,
   "id": "e9d818c3",
   "metadata": {},
   "outputs": [
    {
     "name": "stdout",
     "output_type": "stream",
     "text": [
      "{1, 2, 3, 4, 5, 6, 7, 8, 9, 10, 11, 12, 14}\n"
     ]
    }
   ],
   "source": [
    "# Here A is updated with all the elements present in the B and C.\n",
    "A = {1,2,3,4,1,5}\n",
    "B = { 6,7,8}\n",
    "C = {9,10,11,12,14}\n",
    "\n",
    "A.update(B,C)\n",
    "\n",
    "print(A)"
   ]
  },
  {
   "cell_type": "code",
   "execution_count": 79,
   "id": "82bcf518",
   "metadata": {},
   "outputs": [
    {
     "name": "stdout",
     "output_type": "stream",
     "text": [
      "{'five', 'two', 'three', 'seven', 'one', 'six', 'four'}\n"
     ]
    }
   ],
   "source": [
    "# Here A is updated with all the elements present in the B.\n",
    "\n",
    "A = set([\"one\",\"two\",\"three\",\"four\"])\n",
    "B = set([\"five\",\"three\",\"six\",\"seven\"])\n",
    "\n",
    "A.update(B)\n",
    "print(A)"
   ]
  },
  {
   "cell_type": "code",
   "execution_count": null,
   "id": "77022268",
   "metadata": {},
   "outputs": [],
   "source": []
  }
 ],
 "metadata": {
  "kernelspec": {
   "display_name": "Python 3 (ipykernel)",
   "language": "python",
   "name": "python3"
  },
  "language_info": {
   "codemirror_mode": {
    "name": "ipython",
    "version": 3
   },
   "file_extension": ".py",
   "mimetype": "text/x-python",
   "name": "python",
   "nbconvert_exporter": "python",
   "pygments_lexer": "ipython3",
   "version": "3.9.7"
  }
 },
 "nbformat": 4,
 "nbformat_minor": 5
}
