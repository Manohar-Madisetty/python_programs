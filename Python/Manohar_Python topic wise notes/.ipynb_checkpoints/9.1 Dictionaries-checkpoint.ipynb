{
 "cells": [
  {
   "cell_type": "markdown",
   "id": "99c9d072",
   "metadata": {},
   "source": [
    "## Dictionary - It is Mutable\n",
    "KeY should be Unique and Values can be duplicate/different."
   ]
  },
  {
   "cell_type": "code",
   "execution_count": 8,
   "id": "9e66ec92",
   "metadata": {},
   "outputs": [
    {
     "name": "stdout",
     "output_type": "stream",
     "text": [
      "{'Name': 'Manu', 'Id': 114, 'Salary': 45000}\n"
     ]
    }
   ],
   "source": [
    "dict1 ={'Name': 'Manu', 'Id': 114, \"Salary\": 45000}\n",
    "print(dict1)"
   ]
  },
  {
   "cell_type": "code",
   "execution_count": 9,
   "id": "ae077671",
   "metadata": {},
   "outputs": [
    {
     "name": "stdout",
     "output_type": "stream",
     "text": [
      "{1: 'Manu', 2: 'Maths', 3: 'Salary'}\n"
     ]
    }
   ],
   "source": [
    "mydict ={1: 'Manu', 2 : 'Maths', 3 : 'Salary'}\n",
    "print(mydict)"
   ]
  },
  {
   "cell_type": "code",
   "execution_count": 11,
   "id": "2dc1d914",
   "metadata": {},
   "outputs": [
    {
     "name": "stdout",
     "output_type": "stream",
     "text": [
      "{'A': 'Manu', 2: 24, 3: 'Cool'}\n"
     ]
    }
   ],
   "source": [
    "#dictionary with mixed data type.\n",
    "\n",
    "mydict ={'A': 'Manu', 2 : 24,  3: 'Cool'}\n",
    "print(mydict)\n"
   ]
  },
  {
   "cell_type": "code",
   "execution_count": 105,
   "id": "19375885",
   "metadata": {},
   "outputs": [
    {
     "name": "stdout",
     "output_type": "stream",
     "text": [
      "{1: 24, 3: 'Cool'}\n"
     ]
    }
   ],
   "source": [
    "#When there two Same indentical Keys, then it will print the latest occurance Key bcz it overwrites.\n",
    "\n",
    "mydict1 ={1:253, 1: 'Manu', 1 : 24,  3: 'Cool'}\n",
    "print(mydict1)\n"
   ]
  },
  {
   "cell_type": "markdown",
   "id": "9c486bbd",
   "metadata": {},
   "source": [
    "## To print only Keys"
   ]
  },
  {
   "cell_type": "code",
   "execution_count": 13,
   "id": "695c96e6",
   "metadata": {},
   "outputs": [
    {
     "name": "stdout",
     "output_type": "stream",
     "text": [
      "dict_keys([1, 2, 3])\n"
     ]
    }
   ],
   "source": [
    "mydict ={1: 'Manu', 2 : 'Maths', 3 : 'Salary'}\n",
    "print(mydict.keys())"
   ]
  },
  {
   "cell_type": "markdown",
   "id": "a44f2028",
   "metadata": {},
   "source": [
    "## To print only Values"
   ]
  },
  {
   "cell_type": "code",
   "execution_count": 14,
   "id": "4a9efff9",
   "metadata": {},
   "outputs": [
    {
     "name": "stdout",
     "output_type": "stream",
     "text": [
      "dict_values(['Manu', 'Maths', 'Salary'])\n"
     ]
    }
   ],
   "source": [
    "mydict ={1: 'Manu', 2 : 'Maths', 3 : 'Salary'}\n",
    "print(mydict.values())"
   ]
  },
  {
   "cell_type": "markdown",
   "id": "df98f20e",
   "metadata": {},
   "source": [
    "## To print the pairs in Dictionary - we use \"Items()\""
   ]
  },
  {
   "cell_type": "code",
   "execution_count": 15,
   "id": "318c795f",
   "metadata": {},
   "outputs": [
    {
     "name": "stdout",
     "output_type": "stream",
     "text": [
      "dict_items([(1, 'Manu'), (2, 'Maths'), (3, 'Salary')])\n"
     ]
    }
   ],
   "source": [
    "mydict ={1: 'Manu', 2 : 'Maths', 3 : 'Salary'}\n",
    "print(mydict.items())"
   ]
  },
  {
   "cell_type": "markdown",
   "id": "a4002bb6",
   "metadata": {},
   "source": [
    "## Dictionaries with mixed Keys"
   ]
  },
  {
   "cell_type": "code",
   "execution_count": 16,
   "id": "bcd2b2c6",
   "metadata": {},
   "outputs": [
    {
     "name": "stdout",
     "output_type": "stream",
     "text": [
      "{'ID': 123, 'Rank': 5, 'Names': ['Raju', 'Sham', 'Kiran']}\n"
     ]
    }
   ],
   "source": [
    "mydict ={'ID': 123 , 'Rank' : 5 , 'Names' :['Raju','Sham','Kiran']}\n",
    "print(mydict)"
   ]
  },
  {
   "cell_type": "code",
   "execution_count": 19,
   "id": "5ea598c4",
   "metadata": {},
   "outputs": [
    {
     "name": "stdout",
     "output_type": "stream",
     "text": [
      "{'Num': 142, 'Org': 'Wipro', 'Names': ['Raju', 'Sham', 'Kiran'], 'Positin': ('BDE', 'Manager', 'Director')}\n"
     ]
    }
   ],
   "source": [
    "mydicta ={'Num': 142, 'Org':'Wipro', 'Names' :['Raju','Sham','Kiran'], 'Positin': ('BDE', 'Manager', 'Director')}\n",
    "print(mydicta)"
   ]
  },
  {
   "cell_type": "code",
   "execution_count": 20,
   "id": "50b74cd5",
   "metadata": {},
   "outputs": [
    {
     "data": {
      "text/plain": [
       "dict_keys(['Num', 'Org', 'Names', 'Positin'])"
      ]
     },
     "execution_count": 20,
     "metadata": {},
     "output_type": "execute_result"
    }
   ],
   "source": [
    "#print the keys of Above dictionary:\n",
    "\n",
    "mydicta.keys()"
   ]
  },
  {
   "cell_type": "code",
   "execution_count": 21,
   "id": "dacb4668",
   "metadata": {},
   "outputs": [
    {
     "data": {
      "text/plain": [
       "dict_values([142, 'Wipro', ['Raju', 'Sham', 'Kiran'], ('BDE', 'Manager', 'Director')])"
      ]
     },
     "execution_count": 21,
     "metadata": {},
     "output_type": "execute_result"
    }
   ],
   "source": [
    "#print the Values of Above dictionary:\n",
    "\n",
    "mydicta.values()"
   ]
  },
  {
   "cell_type": "code",
   "execution_count": 22,
   "id": "b83435f5",
   "metadata": {},
   "outputs": [
    {
     "data": {
      "text/plain": [
       "dict_items([('Num', 142), ('Org', 'Wipro'), ('Names', ['Raju', 'Sham', 'Kiran']), ('Positin', ('BDE', 'Manager', 'Director'))])"
      ]
     },
     "execution_count": 22,
     "metadata": {},
     "output_type": "execute_result"
    }
   ],
   "source": [
    "#print the Items of Above dictionary:\n",
    "\n",
    "mydicta.items()"
   ]
  },
  {
   "cell_type": "markdown",
   "id": "70145d46",
   "metadata": {},
   "source": [
    "## Create dictionaries from Keys"
   ]
  },
  {
   "cell_type": "code",
   "execution_count": 23,
   "id": "67e77aca",
   "metadata": {},
   "outputs": [
    {
     "name": "stdout",
     "output_type": "stream",
     "text": [
      "{'d': None, 'b': None, 'c': None, 'a': None}\n"
     ]
    }
   ],
   "source": [
    "dic_1 = {'a','b','c','d'}\n",
    "new_dict = dict.fromkeys(dic_1)\n",
    "print(new_dict)\n",
    "\n",
    "# Note: Dictionaries print they values with no order/sequence when we have null values."
   ]
  },
  {
   "cell_type": "markdown",
   "id": "9e2f0945",
   "metadata": {},
   "source": [
    "## Create dictionaries from sequence of Keys with same value to all the keys."
   ]
  },
  {
   "cell_type": "code",
   "execution_count": 26,
   "id": "a18fabd1",
   "metadata": {},
   "outputs": [
    {
     "name": "stdout",
     "output_type": "stream",
     "text": [
      "{'d': 15, 'b': 15, 'c': 15, 'a': 15}\n"
     ]
    }
   ],
   "source": [
    "dic_1 = {'a','b','c','d'}\n",
    "num_val = 15\n",
    "new_dict = dict.fromkeys(dic_1,num_val)\n",
    "print(new_dict)"
   ]
  },
  {
   "cell_type": "markdown",
   "id": "9d5c06cc",
   "metadata": {},
   "source": [
    "## Create dictionaries from sequence of Keys with value list."
   ]
  },
  {
   "cell_type": "code",
   "execution_count": 27,
   "id": "a9629c8f",
   "metadata": {},
   "outputs": [
    {
     "name": "stdout",
     "output_type": "stream",
     "text": [
      "{'d': [15, 16, 17], 'b': [15, 16, 17], 'c': [15, 16, 17], 'a': [15, 16, 17]}\n"
     ]
    }
   ],
   "source": [
    "# here, the list of Values are assigned to each \"Key\" in the dictionary.\n",
    "dic_1 = {'a','b','c','d'}\n",
    "num_val = [15,16,17]\n",
    "new_dict = dict.fromkeys(dic_1,num_val)\n",
    "print(new_dict)"
   ]
  },
  {
   "cell_type": "markdown",
   "id": "56c6fd9f",
   "metadata": {},
   "source": [
    "## Access the items in Dictionary"
   ]
  },
  {
   "cell_type": "code",
   "execution_count": 40,
   "id": "f687e60d",
   "metadata": {},
   "outputs": [
    {
     "name": "stdout",
     "output_type": "stream",
     "text": [
      "Employee ID:  142\n",
      "Name of the Employee:  Kiran\n",
      "Designation of the Employee:  Manager\n"
     ]
    }
   ],
   "source": [
    "mydicta ={'ID': 142, 'Org':'Wipro', 'Names' :'Kiran', 'Positin': 'Manager', }\n",
    "print(\"Employee ID: \", mydicta['ID'])\n",
    "print(\"Name of the Employee: \", mydicta['Names'])\n",
    "print (\"Designation of the Employee: \", mydicta['Positin'])"
   ]
  },
  {
   "cell_type": "code",
   "execution_count": 43,
   "id": "b3813ff8",
   "metadata": {},
   "outputs": [
    {
     "name": "stdout",
     "output_type": "stream",
     "text": [
      "Kiran\n"
     ]
    }
   ],
   "source": [
    "#Accessing using \"Key\" items. (This method is not much preferred)\n",
    "\n",
    "mydicta ={'ID': 142, 'Org':'Wipro', 'Names' :'Kiran', 'Positin': 'Manager', }\n",
    "print(mydicta['Names'])"
   ]
  },
  {
   "cell_type": "code",
   "execution_count": 45,
   "id": "c070a58f",
   "metadata": {},
   "outputs": [
    {
     "name": "stdout",
     "output_type": "stream",
     "text": [
      "142\n"
     ]
    }
   ],
   "source": [
    "#Accessing using get() method by using \"key\" items. --> Most used and preferred method in Python\n",
    "\n",
    "mydicta ={'ID': 142, 'Org':'Wipro', 'Names' :'Kiran', 'Positin': 'Manager', }\n",
    "print(mydicta.get('ID'))\n"
   ]
  },
  {
   "cell_type": "markdown",
   "id": "84544a5e",
   "metadata": {},
   "source": [
    "## To find the length of key items in Dictionary."
   ]
  },
  {
   "cell_type": "code",
   "execution_count": 100,
   "id": "35e30750",
   "metadata": {},
   "outputs": [
    {
     "name": "stdout",
     "output_type": "stream",
     "text": [
      "No. of key-value pairs= 3\n"
     ]
    }
   ],
   "source": [
    "dict1 = {'Name': 'Chandra', 'Id': 200, 'salary' : 9080.50}\n",
    "length =len(dict1)\n",
    "print(\"No. of key-value pairs=\",length)"
   ]
  },
  {
   "cell_type": "markdown",
   "id": "80c19f06",
   "metadata": {},
   "source": [
    "## To Modify/Update the Key value."
   ]
  },
  {
   "cell_type": "code",
   "execution_count": 74,
   "id": "46b2e7be",
   "metadata": {},
   "outputs": [
    {
     "name": "stdout",
     "output_type": "stream",
     "text": [
      "{'Name': 'Sudhir', 'Id': 200, 'salary': 5000.2}\n"
     ]
    }
   ],
   "source": [
    "dict1 = {'Name': 'Chandra', 'Id': 200, 'salary' : 9080.50}\n",
    "\n",
    "dict1['salary'] = 5000.20\n",
    "dict1['Name'] = 'Sudhir'\n",
    "dict1['Name']\n",
    "dict1['salary']\n",
    "print(dict1)\n",
    "\n",
    "# Modified 2 key values - Name and ID."
   ]
  },
  {
   "cell_type": "code",
   "execution_count": 79,
   "id": "b9504aff",
   "metadata": {},
   "outputs": [
    {
     "name": "stdout",
     "output_type": "stream",
     "text": [
      "{'Name': 'Manu', 'Id': 200, 'salary': 9080.5}\n"
     ]
    }
   ],
   "source": [
    "# Update - Method 2\n",
    "\n",
    "my_dict = {'Name': 'Chandra', 'Id': 200, 'salary' : 9080.50}\n",
    "\n",
    "dict1= {'Name':'Manu'}  #created another dictionary.\n",
    "\n",
    "my_dict.update(dict1)\n",
    "\n",
    "print(my_dict)"
   ]
  },
  {
   "cell_type": "markdown",
   "id": "b7718b16",
   "metadata": {},
   "source": [
    "## To Add the Key value  to Dictionary"
   ]
  },
  {
   "cell_type": "code",
   "execution_count": 75,
   "id": "8197feb9",
   "metadata": {},
   "outputs": [
    {
     "data": {
      "text/plain": [
       "{'Name': 'Chandra', 'Id': 200, 'salary': 9080.5, 'Age': 25}"
      ]
     },
     "execution_count": 75,
     "metadata": {},
     "output_type": "execute_result"
    }
   ],
   "source": [
    "# Preffered method to Add key value.\n",
    "\n",
    "dict2 = {'Name': 'Chandra', 'Id': 200, 'salary' : 9080.50}\n",
    "\n",
    "dict2['Age'] = 25\n",
    "\n",
    "dict2\n",
    "\n",
    "# Added new Key - \"Age\""
   ]
  },
  {
   "cell_type": "code",
   "execution_count": 81,
   "id": "90618643",
   "metadata": {},
   "outputs": [
    {
     "name": "stdout",
     "output_type": "stream",
     "text": [
      "{'Name': 'Chandra', 'Id': 200, 'salary': 9080.5, 'Gender': 'Male'}\n"
     ]
    }
   ],
   "source": [
    "# Update - Method 2 for adding new new key:value by using update()\n",
    "\n",
    "my_dict = {'Name': 'Chandra', 'Id': 200, 'salary' : 9080.50}\n",
    "\n",
    "dict1= {'Gender':'Male'}  #created another dictionary.\n",
    "\n",
    "my_dict.update(dict1)\n",
    "\n",
    "print(my_dict)"
   ]
  },
  {
   "cell_type": "markdown",
   "id": "d09e97ec",
   "metadata": {},
   "source": [
    "## To Remove the Key value  to Dictionary - "
   ]
  },
  {
   "cell_type": "markdown",
   "id": "1337a5c8",
   "metadata": {},
   "source": [
    "## Pop"
   ]
  },
  {
   "cell_type": "code",
   "execution_count": 98,
   "id": "d649cb7b",
   "metadata": {},
   "outputs": [
    {
     "name": "stdout",
     "output_type": "stream",
     "text": [
      "{'Id': 200, 'salary': 9080.5}\n"
     ]
    }
   ],
   "source": [
    "my_dict = {'Name': 'Chandra', 'Id': 200, 'salary' : 9080.50} \n",
    "\n",
    "my_dict.pop('Name')\n",
    "\n",
    "print(my_dict)\n",
    "\n",
    "# Most preferred method to delete items in dictionary."
   ]
  },
  {
   "cell_type": "markdown",
   "id": "3b4c0b01",
   "metadata": {},
   "source": [
    "## Delete - del()"
   ]
  },
  {
   "cell_type": "code",
   "execution_count": 88,
   "id": "0b556e17",
   "metadata": {},
   "outputs": [
    {
     "name": "stdout",
     "output_type": "stream",
     "text": [
      "{'Id': 200, 'salary': 9080.5}\n"
     ]
    }
   ],
   "source": [
    "#Del()\n",
    "\n",
    "my_dict = {'Name': 'Chandra', 'Id': 200, 'salary' : 9080.50}\n",
    "\n",
    "del(my_dict['Name'])\n",
    "\n",
    "print(my_dict)"
   ]
  },
  {
   "cell_type": "markdown",
   "id": "2c1b17c2",
   "metadata": {},
   "source": [
    "## Looping through Dictionary"
   ]
  },
  {
   "cell_type": "code",
   "execution_count": 90,
   "id": "9149d153",
   "metadata": {},
   "outputs": [
    {
     "name": "stdout",
     "output_type": "stream",
     "text": [
      "Name <---> Chandra\n",
      "Id <---> 200\n",
      "salary <---> 9080.5\n"
     ]
    }
   ],
   "source": [
    "# For loop to print \"Key & Value\" items.\n",
    "\n",
    "dict1 = {'Name': 'Chandra', 'Id': 200, 'salary' : 9080.50}\n",
    "\n",
    "for i in dict1:\n",
    "    print(i, \"<--->\", dict1[i])"
   ]
  },
  {
   "cell_type": "code",
   "execution_count": 91,
   "id": "7e5a41bb",
   "metadata": {},
   "outputs": [
    {
     "name": "stdout",
     "output_type": "stream",
     "text": [
      "Chandra\n",
      "200\n",
      "9080.5\n"
     ]
    }
   ],
   "source": [
    "# For loop to print only \"Value\" items.\n",
    "\n",
    "dict1 = {'Name': 'Chandra', 'Id': 200, 'salary' : 9080.50}\n",
    "\n",
    "for i in dict1:\n",
    "    print (dict1[i])\n",
    "    "
   ]
  },
  {
   "cell_type": "markdown",
   "id": "c6eddfcf",
   "metadata": {},
   "source": [
    "## Dictionary Membership -\n",
    "To check whether item is member of the dictionary or not. \n",
    "\n",
    "It gives output as \"True\" or \"False\"\n",
    "\n",
    "Member can test only by checking with \"Key\" Items but not \"Value\""
   ]
  },
  {
   "cell_type": "code",
   "execution_count": 97,
   "id": "40abe8e4",
   "metadata": {},
   "outputs": [
    {
     "data": {
      "text/plain": [
       "True"
      ]
     },
     "execution_count": 97,
     "metadata": {},
     "output_type": "execute_result"
    }
   ],
   "source": [
    "dict1 = {'Name': 'Chandra', 'Id': 200, 'salary' : 9080.50}\n",
    "\n",
    "\"Name\" in dict1   # test if \"Name is present in the dictionary\""
   ]
  },
  {
   "cell_type": "code",
   "execution_count": 95,
   "id": "016d2efc",
   "metadata": {},
   "outputs": [
    {
     "data": {
      "text/plain": [
       "False"
      ]
     },
     "execution_count": 95,
     "metadata": {},
     "output_type": "execute_result"
    }
   ],
   "source": [
    "\"Chandra\" in dict1  # \"value cant be used her for member operations\""
   ]
  },
  {
   "cell_type": "code",
   "execution_count": 96,
   "id": "bcb9e5a5",
   "metadata": {},
   "outputs": [
    {
     "data": {
      "text/plain": [
       "True"
      ]
     },
     "execution_count": 96,
     "metadata": {},
     "output_type": "execute_result"
    }
   ],
   "source": [
    "\"Id\" in dict1"
   ]
  },
  {
   "cell_type": "code",
   "execution_count": 103,
   "id": "299e7082",
   "metadata": {},
   "outputs": [
    {
     "data": {
      "text/plain": [
       "dict_keys(['Name', 'Id', 'salary'])"
      ]
     },
     "execution_count": 103,
     "metadata": {},
     "output_type": "execute_result"
    }
   ],
   "source": [
    "dict1 = {'Name': 'Chandra', 'Id': 200, 'salary' : 9080.50}\n",
    "\n",
    "dict1.keys()"
   ]
  },
  {
   "cell_type": "markdown",
   "id": "f6363ef9",
   "metadata": {},
   "source": [
    "## Example to print only \"Keys\", \"Values\", \"Items\""
   ]
  },
  {
   "cell_type": "code",
   "execution_count": 106,
   "id": "f4198a02",
   "metadata": {},
   "outputs": [
    {
     "name": "stdout",
     "output_type": "stream",
     "text": [
      "Keys in Dictionary:  dict_keys(['Name', 'Id', 'salary'])\n",
      "Values in Dictionary:  dict_values(['Chandra', 200, 9080.5])\n",
      "Items in Dictionary:  dict_items([('Name', 'Chandra'), ('Id', 200), ('salary', 9080.5)])\n"
     ]
    }
   ],
   "source": [
    "dict1 = {'Name': 'Chandra', 'Id': 200, 'salary' : 9080.50}\n",
    "\n",
    "print( \"Keys in Dictionary: \", dict1.keys())\n",
    "print( \"Values in Dictionary: \", dict1.values())\n",
    "print( \"Items in Dictionary: \", dict1.items())\n"
   ]
  },
  {
   "cell_type": "markdown",
   "id": "76bd045f",
   "metadata": {},
   "source": [
    "## Example to print sum of values by taking user input"
   ]
  },
  {
   "cell_type": "code",
   "execution_count": null,
   "id": "9e84d2bf",
   "metadata": {},
   "outputs": [],
   "source": [
    "\n",
    "new_dc = eval int(input(\"Enter the Values:\"))\n",
    "\n",
    "total = sum(new_dc.values())\n",
    "\n",
    "\n",
    "print(\"Total of input values = \", total)\n",
    "\n"
   ]
  },
  {
   "cell_type": "markdown",
   "id": "95a605ae",
   "metadata": {},
   "source": [
    "## Program to print a empty dictionary by taking user input"
   ]
  },
  {
   "cell_type": "code",
   "execution_count": 160,
   "id": "5a329edd",
   "metadata": {},
   "outputs": [
    {
     "name": "stdout",
     "output_type": "stream",
     "text": [
      "How many elements are there in the dictionary :  3\n",
      "Key element in the dictionay: Manu\n",
      "Value element in the dictionay: 23\n",
      "Key element in the dictionay: Age\n",
      "Value element in the dictionay: 25\n",
      "Key element in the dictionay: Job title\n",
      "Value element in the dictionay: 35\n",
      "The dictionary is :  {'Manu': 23, 'Age': 25, 'Job title': 35}\n"
     ]
    }
   ],
   "source": [
    "#Example 1\n",
    "\n",
    "x = {}\n",
    "print(\"How many elements are there in the dictionary : \", end=\" \")\n",
    "\n",
    "n = int(input())\n",
    "\n",
    "for i in range((n)):\n",
    "    print(\"Key element in the dictionay:\", end =\" \")\n",
    "    k = str(input())\n",
    "    \n",
    "    print(\"Value element in the dictionay:\", end = \" \")\n",
    "    v= int(input())\n",
    "    \n",
    "    x.update({k:v})\n",
    "          \n",
    "print(\"The dictionary is : \", x)"
   ]
  },
  {
   "cell_type": "code",
   "execution_count": 170,
   "id": "0759d2b4",
   "metadata": {},
   "outputs": [
    {
     "name": "stdout",
     "output_type": "stream",
     "text": [
      "Numers of item pairs you want: 3\n",
      "Employee Name: Sudhir\n",
      "Employee details: 117\n",
      "Employee Name: ramu\n",
      "Employee details: 112\n",
      "Employee Name: santosh\n",
      "Employee details: 115\n",
      "Dictionary items are:  {'Sudhir': 117, 'ramu': 112, 'santosh': 115}\n"
     ]
    }
   ],
   "source": [
    "#Example 2\n",
    "\n",
    "emp_dict = {}\n",
    "\n",
    "\n",
    "\n",
    "print(\"Numers of item pairs you want:\", end=\" \")\n",
    "user_input = int(input())\n",
    "\n",
    "for i in range(user_input):\n",
    "    \n",
    "    print(\"Employee Name:\", end=\" \")\n",
    "    x= str(input())\n",
    "    \n",
    "    print(\"Employee details:\", end=\" \")\n",
    "    y= int(input())\n",
    "        \n",
    "    emp_dict.update({x:y})\n",
    "    \n",
    "print(\"Dictionary items are: \", emp_dict)"
   ]
  },
  {
   "cell_type": "markdown",
   "id": "55289b73",
   "metadata": {},
   "source": [
    "## Program to print a empty dictionary by taking user input using - For loop & If statement"
   ]
  },
  {
   "cell_type": "code",
   "execution_count": 180,
   "id": "aac42909",
   "metadata": {},
   "outputs": [
    {
     "name": "stdout",
     "output_type": "stream",
     "text": [
      "Total numbers of player =  2\n",
      "Name of the player is :  sid\n",
      "Runs made by player :  0\n",
      "Name of the player is :  manu\n",
      "Runs made by player :  53\n",
      "\n",
      " Players in this macth are: \n",
      "sid\n",
      "manu\n",
      "Enter Player Name =  sid\n",
      "sid is duck out in the match\n"
     ]
    }
   ],
   "source": [
    "x = {}\n",
    "\n",
    "print(\"Total numbers of player = \", end =\" \")\n",
    "p = int(input())\n",
    "\n",
    "for i in range(p):\n",
    "    print(\"Name of the player is : \", end=\" \")\n",
    "    k=input()\n",
    "    \n",
    "    print(\"Runs made by player : \", end=\" \")\n",
    "    y=int(input())\n",
    "    \n",
    "    x.update({k:y})\n",
    "    \n",
    "print(\"\\n Players in this macth are: \")\n",
    "\n",
    "for pname in x:\n",
    "    print(pname)\n",
    "    \n",
    "print(\"Enter Player Name = \", end = \" \")\n",
    "name = input()\n",
    "\n",
    "runs = x.get(name)\n",
    "\n",
    "if runs == 0 :\n",
    "    print(f'{name} is duck out in the match')\n",
    "    \n",
    "else:\n",
    "    print(f' {name} made {runs} runs in the match')\n",
    "\n"
   ]
  },
  {
   "cell_type": "code",
   "execution_count": 193,
   "id": "021087ff",
   "metadata": {},
   "outputs": [
    {
     "name": "stdout",
     "output_type": "stream",
     "text": [
      "B\n",
      "u\n",
      "b\n",
      "b\n",
      "l\n",
      "e\n",
      "{'B': 1, 'u': 1, 'b': 2, 'l': 1, 'e': 1}\n"
     ]
    }
   ],
   "source": [
    "# To find occurance of each letter of the string in Dictionary\n",
    "\n",
    "dit = {}\n",
    "name = \"Bubble\"\n",
    "for i in name:\n",
    "    print(i)\n",
    "    \n",
    "    dit[i]= dit.get(i,0)+1\n",
    "    \n",
    "print(dit)\n"
   ]
  },
  {
   "cell_type": "code",
   "execution_count": null,
   "id": "a20bc4b2",
   "metadata": {},
   "outputs": [],
   "source": []
  },
  {
   "cell_type": "code",
   "execution_count": null,
   "id": "8fcb4629",
   "metadata": {},
   "outputs": [],
   "source": []
  }
 ],
 "metadata": {
  "kernelspec": {
   "display_name": "Python 3 (ipykernel)",
   "language": "python",
   "name": "python3"
  },
  "language_info": {
   "codemirror_mode": {
    "name": "ipython",
    "version": 3
   },
   "file_extension": ".py",
   "mimetype": "text/x-python",
   "name": "python",
   "nbconvert_exporter": "python",
   "pygments_lexer": "ipython3",
   "version": "3.9.7"
  }
 },
 "nbformat": 4,
 "nbformat_minor": 5
}
