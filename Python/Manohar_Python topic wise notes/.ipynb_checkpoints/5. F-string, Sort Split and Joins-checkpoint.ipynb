{
 "cells": [
  {
   "cell_type": "markdown",
   "id": "d890e72a",
   "metadata": {},
   "source": [
    "## Split"
   ]
  },
  {
   "cell_type": "code",
   "execution_count": 2,
   "id": "cf041156",
   "metadata": {},
   "outputs": [
    {
     "name": "stdout",
     "output_type": "stream",
     "text": [
      "['Apple', 'banana', 'grapes', 'berries']\n"
     ]
    }
   ],
   "source": [
    "mystr=\"Apple banana grapes berries\"\n",
    "test1=mystr.split()\n",
    "print(test1)"
   ]
  },
  {
   "cell_type": "markdown",
   "id": "41a7815d",
   "metadata": {},
   "source": [
    "## Join - Removes the spaces between each element in the string"
   ]
  },
  {
   "cell_type": "code",
   "execution_count": 7,
   "id": "56f2b2d2",
   "metadata": {},
   "outputs": [
    {
     "data": {
      "text/plain": [
       "'Applebananagrapesberries'"
      ]
     },
     "execution_count": 7,
     "metadata": {},
     "output_type": "execute_result"
    }
   ],
   "source": [
    "# Note: the string should be seperated by comas when there is multple string elements.\n",
    "\n",
    "new_str='Apple', 'banana', 'grapes', 'berries'\n",
    "test2=\"\".join(new_str)\n",
    "test2"
   ]
  },
  {
   "cell_type": "code",
   "execution_count": 6,
   "id": "16e5d0f8",
   "metadata": {},
   "outputs": [
    {
     "data": {
      "text/plain": [
       "'Apple-banana-grapes-berries'"
      ]
     },
     "execution_count": 6,
     "metadata": {},
     "output_type": "execute_result"
    }
   ],
   "source": [
    "# If we want to join the String with a specific keys then we can use ( ',' '-' '_' etc.. in double quotes \"\")\n",
    "# I have used \"-\" to seperate the string\n",
    "\n",
    "new_str='Apple', 'banana', 'grapes','berries'\n",
    "test2=\"-\".join(new_str)\n",
    "test2\n"
   ]
  },
  {
   "cell_type": "code",
   "execution_count": 18,
   "id": "cd5ce6e2",
   "metadata": {},
   "outputs": [
    {
     "data": {
      "text/plain": [
       "'elppA ananab separg seirreb'"
      ]
     },
     "execution_count": 18,
     "metadata": {},
     "output_type": "execute_result"
    }
   ],
   "source": [
    "# Print the below string in reverse order\n",
    "\n",
    "fruits=\"Apple banana grapes berries\"\n",
    "\n",
    "\" \".join([i[::-1]  for i in fruits.split()])         \n"
   ]
  },
  {
   "cell_type": "code",
   "execution_count": 16,
   "id": "e3505e66",
   "metadata": {},
   "outputs": [
    {
     "data": {
      "text/plain": [
       "'laddo kheer gulabjamun rasgulla'"
      ]
     },
     "execution_count": 16,
     "metadata": {},
     "output_type": "execute_result"
    }
   ],
   "source": [
    "# Print the below string (full sentence) in reverse order\n",
    "\n",
    "sweet=\"rasgulla gulabjamun kheer laddo\"\n",
    "\n",
    "\" \".join(sweet.split()[::-1])"
   ]
  },
  {
   "cell_type": "code",
   "execution_count": 11,
   "id": "6d6bba19",
   "metadata": {},
   "outputs": [
    {
     "name": "stdout",
     "output_type": "stream",
     "text": [
      "HELLO WORLD\n"
     ]
    }
   ],
   "source": [
    "# Change of string Case\n",
    "\n",
    "# Change to Upper Case\n",
    "\n",
    "str1=\"Hello World\"\n",
    "new1=str1.upper()\n",
    "print(new1)"
   ]
  },
  {
   "cell_type": "code",
   "execution_count": 12,
   "id": "f206cc6d",
   "metadata": {},
   "outputs": [
    {
     "name": "stdout",
     "output_type": "stream",
     "text": [
      "HAPPY FRIDAY\n"
     ]
    }
   ],
   "source": [
    "# Change to Lower Case\n",
    "\n",
    "str2=\"HAPPY FRIDAY\"\n",
    "new2=str2.upper()\n",
    "print(new2)"
   ]
  },
  {
   "cell_type": "code",
   "execution_count": 13,
   "id": "55f7440f",
   "metadata": {},
   "outputs": [
    {
     "name": "stdout",
     "output_type": "stream",
     "text": [
      "Happy Birthday\n"
     ]
    }
   ],
   "source": [
    "# Change to Title Case (Every 1st letter of the word is converted to Capital letter)\n",
    "\n",
    "str2=\"HAPPY FRIDAY\"\n",
    "new2=str2.upper()\n",
    "print(new2)"
   ]
  },
  {
   "cell_type": "code",
   "execution_count": 16,
   "id": "c60ae99d",
   "metadata": {},
   "outputs": [
    {
     "name": "stdout",
     "output_type": "stream",
     "text": [
      "HEPPY FRIDAY\n"
     ]
    }
   ],
   "source": [
    "# Replace the words in the string\n",
    "\n",
    "str3=\"HAPPY FRIDAY\"\n",
    "print(str3.replace('HA','HE'))"
   ]
  },
  {
   "cell_type": "code",
   "execution_count": 18,
   "id": "c67b7ea0",
   "metadata": {},
   "outputs": [
    {
     "name": "stdout",
     "output_type": "stream",
     "text": [
      "HAPPYFRIDAY\n"
     ]
    }
   ],
   "source": [
    "#Removes the sapces in the string\n",
    "\n",
    "str=\"HAPPY FRIDAY\"\n",
    "print(str.replace(' ',''))"
   ]
  },
  {
   "cell_type": "code",
   "execution_count": 23,
   "id": "a4a16cfb",
   "metadata": {},
   "outputs": [
    {
     "name": "stdout",
     "output_type": "stream",
     "text": [
      "2\n",
      "1\n"
     ]
    }
   ],
   "source": [
    "# Count string - This functions counts the string occurance time in the given string\n",
    "\n",
    "str5=\"One day I went with one of my two friends but those two guys did not come\"\n",
    "print(str5.count(\"two\"))\n",
    "print(str5.count(\"one\"))"
   ]
  },
  {
   "cell_type": "code",
   "execution_count": 28,
   "id": "c595720a",
   "metadata": {},
   "outputs": [
    {
     "name": "stdout",
     "output_type": "stream",
     "text": [
      "['G', 'o', 'o', 'd', ' ', 'D', 'a', 'y']\n"
     ]
    }
   ],
   "source": [
    "# Cast Operator (It conversts String into List) (Splits the every Alphabet with coma)\n",
    "\n",
    "news=\"Good Day\"\n",
    "new1=list(news)\n",
    "print(new1)"
   ]
  },
  {
   "cell_type": "code",
   "execution_count": null,
   "id": "b93dc761",
   "metadata": {},
   "outputs": [],
   "source": []
  },
  {
   "cell_type": "code",
   "execution_count": 40,
   "id": "0c4f0c70",
   "metadata": {},
   "outputs": [
    {
     "name": "stdout",
     "output_type": "stream",
     "text": [
      "True\n",
      "True\n"
     ]
    }
   ],
   "source": [
    "# Checking Starting and Ending of a String:\n",
    "    \n",
    "a=\"python is my favourite\"\n",
    "b=a.startswith('python')\n",
    "print(b)\n",
    "c=a.endswith('favourite')\n",
    "print(c)"
   ]
  },
  {
   "cell_type": "code",
   "execution_count": 49,
   "id": "ab7048ab",
   "metadata": {},
   "outputs": [
    {
     "name": "stdout",
     "output_type": "stream",
     "text": [
      "My name is Sudhir\n"
     ]
    }
   ],
   "source": [
    "# Replacing a String with another String:\n",
    "\n",
    "ABC='My name is Manohar'\n",
    "A1='Manohar'\n",
    "B1='Sudhir'\n",
    "New_Name=ABC.replace(A,B)\n",
    "print(New_Name)"
   ]
  },
  {
   "cell_type": "markdown",
   "id": "a64cc561",
   "metadata": {},
   "source": [
    "## F string"
   ]
  },
  {
   "cell_type": "code",
   "execution_count": 53,
   "id": "7f37b377",
   "metadata": {},
   "outputs": [
    {
     "name": "stdout",
     "output_type": "stream",
     "text": [
      "My name is Manohar and Age is 24\n",
      "My name is Manohar and Age is 24\n",
      "My name is Manohar and Age is 24\n"
     ]
    }
   ],
   "source": [
    "# 3 ways to format a string (most preffered is 1st and 3rd method)\n",
    "\n",
    "name=\"Manohar\"\n",
    "Age=24\n",
    "\n",
    "#1\n",
    "print(\"My name is {} and Age is {}\".format(name,Age))\n",
    "\n",
    "#2 Normal string\n",
    "print(\"My name is\",name, \"and Age is\",Age)\n",
    "\n",
    "#3 F-String\n",
    "print(f'My name is {name} and Age is {Age}')"
   ]
  },
  {
   "cell_type": "code",
   "execution_count": 89,
   "id": "8104bcb5",
   "metadata": {},
   "outputs": [
    {
     "data": {
      "text/plain": [
       "['a', 'a', 'h', 'm', 'n', 'o', 'r']"
      ]
     },
     "execution_count": 89,
     "metadata": {},
     "output_type": "execute_result"
    }
   ],
   "source": [
    "# Sort the string\n",
    "\n",
    "name1=\"manohar\"\n",
    "name2=sorted(name1)\n",
    "name2\n",
    "\n"
   ]
  },
  {
   "cell_type": "markdown",
   "id": "33578f9e",
   "metadata": {},
   "source": [
    "## Sort  and  Join"
   ]
  },
  {
   "cell_type": "code",
   "execution_count": 1,
   "id": "7f4d8fc0",
   "metadata": {},
   "outputs": [
    {
     "name": "stdout",
     "output_type": "stream",
     "text": [
      "['a', 'b', 'd', 'i', 'm', 'n', 'n', 'o', 't']\n",
      "abdimnnot\n"
     ]
    }
   ],
   "source": [
    "# If I want to join the string\n",
    "\n",
    "name=\"badminton\"\n",
    "newname1=sorted(name)\n",
    "print(newname1)\n",
    "\n",
    "newname2=\"\".join(sorted(name))\n",
    "print(newname2)"
   ]
  },
  {
   "cell_type": "code",
   "execution_count": 122,
   "id": "64112897",
   "metadata": {},
   "outputs": [
    {
     "name": "stdout",
     "output_type": "stream",
     "text": [
      "['god', 'guru', 'master', 'teacher']\n"
     ]
    }
   ],
   "source": [
    "# Sort a List\n",
    "\n",
    "list1=[\"master\",\"guru\",\"teacher\",\"god\"]\n",
    "list2=sorted(list1)\n",
    "print(list2)"
   ]
  },
  {
   "cell_type": "markdown",
   "id": "8bd17e3f",
   "metadata": {},
   "source": [
    "## Strip - Removes Spaces in the string at starting & ending"
   ]
  },
  {
   "cell_type": "code",
   "execution_count": 10,
   "id": "fe2f9fc0",
   "metadata": {},
   "outputs": [
    {
     "name": "stdout",
     "output_type": "stream",
     "text": [
      "*--Apple banana grapes berries--* *-\n"
     ]
    }
   ],
   "source": [
    "mystr=\" *--Apple banana grapes berries--* *- \"\n",
    "new=mystr.strip()\n",
    "\n",
    "print(new)\n",
    "\n"
   ]
  },
  {
   "cell_type": "code",
   "execution_count": 12,
   "id": "429fd1b4",
   "metadata": {},
   "outputs": [
    {
     "name": "stdout",
     "output_type": "stream",
     "text": [
      "Apple banana grapes berries--* *- \n"
     ]
    }
   ],
   "source": [
    "#left Shift - It removes the spaces at the beggining of the string\n",
    "\n",
    "mystr=\"     Apple banana grapes berries--* *- \"\n",
    "new=mystr.lstrip()\n",
    "\n",
    "print(new)\n"
   ]
  },
  {
   "cell_type": "code",
   "execution_count": 13,
   "id": "92cdd675",
   "metadata": {},
   "outputs": [
    {
     "name": "stdout",
     "output_type": "stream",
     "text": [
      "**Apple banana grapes berries**\n"
     ]
    }
   ],
   "source": [
    "#Right Shift - It removes the spaces at the beggining of the string\n",
    "\n",
    "mystr=\"**Apple banana grapes berries**       \"\n",
    "new=mystr.rstrip()\n",
    "\n",
    "print(new)"
   ]
  },
  {
   "cell_type": "code",
   "execution_count": null,
   "id": "ff628969",
   "metadata": {},
   "outputs": [],
   "source": []
  }
 ],
 "metadata": {
  "kernelspec": {
   "display_name": "Python 3 (ipykernel)",
   "language": "python",
   "name": "python3"
  },
  "language_info": {
   "codemirror_mode": {
    "name": "ipython",
    "version": 3
   },
   "file_extension": ".py",
   "mimetype": "text/x-python",
   "name": "python",
   "nbconvert_exporter": "python",
   "pygments_lexer": "ipython3",
   "version": "3.9.7"
  }
 },
 "nbformat": 4,
 "nbformat_minor": 5
}
