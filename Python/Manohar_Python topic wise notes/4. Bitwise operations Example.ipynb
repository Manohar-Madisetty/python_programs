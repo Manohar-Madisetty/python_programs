{
 "cells": [
  {
   "cell_type": "code",
   "execution_count": 3,
   "id": "c1eadac7",
   "metadata": {},
   "outputs": [
    {
     "data": {
      "text/plain": [
       "'3.9.7 (default, Sep 16 2021, 16:59:28) [MSC v.1916 64 bit (AMD64)]'"
      ]
     },
     "execution_count": 3,
     "metadata": {},
     "output_type": "execute_result"
    }
   ],
   "source": [
    "import sys\n",
    "sys.version\n",
    "\n"
   ]
  },
  {
   "cell_type": "code",
   "execution_count": 10,
   "id": "89fd7fa2",
   "metadata": {},
   "outputs": [
    {
     "name": "stdout",
     "output_type": "stream",
     "text": [
      "10\n",
      "Bitwise AND operation is: 4\n",
      "Bitwise OR operation is: 6\n",
      "Bitwise XOR operation is: 2\n",
      "Bitwise XOR operation is: -6\n"
     ]
    }
   ],
   "source": [
    "x=4\n",
    "y=6\n",
    "print(x+y)\n",
    "\n",
    "print('Bitwise AND operation is: {}'.format(x&y))\n",
    "print('Bitwise OR operation is: {}'.format(x|y))\n",
    "print('Bitwise XOR operation is: {}'.format(x^y))\n",
    "print('Bitwise XOR operation is: {}'.format(-y))"
   ]
  },
  {
   "cell_type": "code",
   "execution_count": null,
   "id": "2e4474a9",
   "metadata": {},
   "outputs": [],
   "source": []
  }
 ],
 "metadata": {
  "kernelspec": {
   "display_name": "Python 3 (ipykernel)",
   "language": "python",
   "name": "python3"
  },
  "language_info": {
   "codemirror_mode": {
    "name": "ipython",
    "version": 3
   },
   "file_extension": ".py",
   "mimetype": "text/x-python",
   "name": "python",
   "nbconvert_exporter": "python",
   "pygments_lexer": "ipython3",
   "version": "3.9.7"
  }
 },
 "nbformat": 4,
 "nbformat_minor": 5
}
