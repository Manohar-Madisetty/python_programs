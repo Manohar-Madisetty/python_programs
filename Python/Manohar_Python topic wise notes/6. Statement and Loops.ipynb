{
 "cells": [
  {
   "cell_type": "markdown",
   "id": "f5dd5aa7",
   "metadata": {},
   "source": [
    "## Statements    ##"
   ]
  },
  {
   "cell_type": "code",
   "execution_count": 8,
   "id": "5fdba9ac",
   "metadata": {},
   "outputs": [
    {
     "name": "stdout",
     "output_type": "stream",
     "text": [
      "y is greater than x\n"
     ]
    }
   ],
   "source": [
    "# If Statement\n",
    "\n",
    "x=12\n",
    "y=15\n",
    "\n",
    "if x>y:\n",
    "    print(\"x is greater than y\")\n",
    "    \n",
    "else:  \n",
    "    print(\"y is greater than x\")"
   ]
  },
  {
   "cell_type": "code",
   "execution_count": 15,
   "id": "7e0d8426",
   "metadata": {},
   "outputs": [
    {
     "name": "stdout",
     "output_type": "stream",
     "text": [
      "You need to wait till 25\n",
      "You are ready for marriage\n"
     ]
    }
   ],
   "source": [
    "# If statement using comparison operators\n",
    "\n",
    "age1=18\n",
    "age2=25\n",
    "age3=32\n",
    "\n",
    "# AND Operator\n",
    "\n",
    "if age3 > 25 and age3 <= 30:\n",
    "    print(\"You are ready for marriage\")\n",
    "    \n",
    "else:\n",
    "    print(\"You need to wait till 25\")\n",
    "    \n",
    "# OR Operator\n",
    "\n",
    "if age3 > 25 or age3 <= 30:\n",
    "        print(\"You are ready for marriage\")\n",
    "    \n",
    "else:\n",
    "    print(\"You need to wait till 25\")"
   ]
  },
  {
   "cell_type": "code",
   "execution_count": 40,
   "id": "23927d28",
   "metadata": {},
   "outputs": [
    {
     "name": "stdout",
     "output_type": "stream",
     "text": [
      "a is less than b\n"
     ]
    }
   ],
   "source": [
    "# Elif\n",
    "\n",
    "# In If Statement, if there are multiple statements in \"IF\" or \"ELIF\" part then it will return only the first statement \n",
    "# which is true even other statements are true  \n",
    "# even other statements are true   \n",
    "\n",
    "a=16\n",
    "b=18\n",
    "\n",
    "if a > b:\n",
    "     print(\"a is greater than b\")\n",
    "    \n",
    "elif a == b:\n",
    "    print(\"a is equal b\")\n",
    "    \n",
    "elif a <= b:\n",
    "    print(\"a is less than b\")   #Here the condition is satisfied and printed the statement\n",
    "    \n",
    "elif a < b:\n",
    "    print(\"a is not equal b\")  #Here aslo the condition is satisfied but didn't print the statement\n",
    "    \n",
    "elif a >= b:\n",
    "    print(\"a is geater than or equal b\")"
   ]
  },
  {
   "cell_type": "markdown",
   "id": "41cf6fd7",
   "metadata": {},
   "source": [
    "# Loops"
   ]
  },
  {
   "cell_type": "markdown",
   "id": "3189ec02",
   "metadata": {},
   "source": [
    "## While loop"
   ]
  },
  {
   "cell_type": "code",
   "execution_count": 2,
   "id": "98c8790c",
   "metadata": {},
   "outputs": [
    {
     "name": "stdout",
     "output_type": "stream",
     "text": [
      "2\n",
      "4\n",
      "6\n",
      "8\n",
      "10\n"
     ]
    }
   ],
   "source": [
    "# While loops execute the set of statements as long as the condition is true.\n",
    "\n",
    "x=2\n",
    "\n",
    "while x<=10:   #executing till x<=10\n",
    "    \n",
    "    print(x)\n",
    "    \n",
    "    x+=2        #x=x+2, \n"
   ]
  },
  {
   "cell_type": "code",
   "execution_count": 2,
   "id": "3d74b8f8",
   "metadata": {},
   "outputs": [
    {
     "name": "stdout",
     "output_type": "stream",
     "text": [
      "20\n",
      "22\n",
      "24\n",
      "26\n",
      "28\n",
      "30\n"
     ]
    }
   ],
   "source": [
    "# While loop with AND Condition\n",
    "#Eg-1\n",
    "\n",
    "x=20\n",
    "\n",
    "while x>=18 and x<=30:\n",
    "    \n",
    "    print(x)\n",
    "    \n",
    "    x+=2"
   ]
  },
  {
   "cell_type": "code",
   "execution_count": 1,
   "id": "24c1b7e8",
   "metadata": {},
   "outputs": [
    {
     "name": "stdout",
     "output_type": "stream",
     "text": [
      "100\n",
      "105\n",
      "110\n",
      "115\n"
     ]
    }
   ],
   "source": [
    "# While loop with AND Condition\n",
    "#Eg-2\n",
    "\n",
    "A=100\n",
    "\n",
    "while A>=100 and A<=118:\n",
    "    print(A)\n",
    "    \n",
    "    A+=5"
   ]
  },
  {
   "cell_type": "markdown",
   "id": "83543e5f",
   "metadata": {},
   "source": [
    "## For loop"
   ]
  },
  {
   "cell_type": "code",
   "execution_count": 27,
   "id": "276edeec",
   "metadata": {},
   "outputs": [
    {
     "name": "stdout",
     "output_type": "stream",
     "text": [
      "car\n",
      "Bike\n",
      "Bus\n",
      "Bullet\n",
      "77\n",
      "20.5\n",
      "True\n"
     ]
    }
   ],
   "source": [
    "#For Loop in List\n",
    "\n",
    "#it prints the different datatypes in the list.\n",
    "\n",
    "vehicles=[\"car\",\"Bike\",\"Bus\",\"Bullet\",77,20.5,True]\n",
    "\n",
    "for item in vehicles:\n",
    "    print(item)"
   ]
  },
  {
   "cell_type": "code",
   "execution_count": 6,
   "id": "bab26df1",
   "metadata": {},
   "outputs": [
    {
     "name": "stdout",
     "output_type": "stream",
     "text": [
      "B\n",
      "i\n",
      "r\n",
      "y\n",
      "a\n",
      "n\n",
      "i\n"
     ]
    }
   ],
   "source": [
    "#For Loop in String\n",
    "\n",
    "Food_name=\"Biryani\"\n",
    "\n",
    "for item in Food_name:\n",
    "    \n",
    "    print(item)\n"
   ]
  },
  {
   "cell_type": "code",
   "execution_count": 10,
   "id": "40da87d5",
   "metadata": {},
   "outputs": [
    {
     "name": "stdout",
     "output_type": "stream",
     "text": [
      "0\n",
      "1\n",
      "2\n",
      "3\n",
      "4\n",
      "5\n"
     ]
    }
   ],
   "source": [
    "#For Loop in Range Function\n",
    "#Eg-1\n",
    "for abc in range(6):\n",
    "    print(abc)"
   ]
  },
  {
   "cell_type": "code",
   "execution_count": 13,
   "id": "35570da6",
   "metadata": {},
   "outputs": [
    {
     "name": "stdout",
     "output_type": "stream",
     "text": [
      "8\n",
      "10\n",
      "12\n",
      "14\n",
      "16\n"
     ]
    }
   ],
   "source": [
    "#Eg-2\n",
    "#here range is from 8 to 18 but it is jumping to every 2nd element of the given range.\n",
    "\n",
    "for i in range(8,18,2):\n",
    "    print(i)"
   ]
  },
  {
   "cell_type": "code",
   "execution_count": 20,
   "id": "60d7e62e",
   "metadata": {},
   "outputs": [
    {
     "name": "stdout",
     "output_type": "stream",
     "text": [
      "C\n",
      "o\n",
      "u\n",
      "n\n",
      "t\n",
      "r\n",
      "y\n"
     ]
    }
   ],
   "source": [
    "#For Loop in Range Function in String\n",
    "#Method 1\n",
    "\n",
    "people=\"Country\"\n",
    "\n",
    "for i in range(len(people)):\n",
    "    print(people[i])"
   ]
  },
  {
   "cell_type": "code",
   "execution_count": 21,
   "id": "da8ab636",
   "metadata": {},
   "outputs": [
    {
     "name": "stdout",
     "output_type": "stream",
     "text": [
      "M\n",
      "a\n",
      "n\n",
      "u\n"
     ]
    }
   ],
   "source": [
    "#For Loop in Range Function in String\n",
    "#Method 2\n",
    "\n",
    "str=\"Manu\"\n",
    "n=len(str)\n",
    "\n",
    "for i in range(n):\n",
    "    print(str[i])"
   ]
  },
  {
   "cell_type": "code",
   "execution_count": 26,
   "id": "cdcb3ea1",
   "metadata": {},
   "outputs": [
    {
     "name": "stdout",
     "output_type": "stream",
     "text": [
      "18\n",
      "16\n",
      "14\n",
      "12\n",
      "10\n",
      "8\n",
      "6\n"
     ]
    }
   ],
   "source": [
    "#For Loop in Range Function to print numbers in reverse order.\n",
    "#in order to print the numbers in reverse order it is mandatory to give negative step number (-1 or -2 etc.)\n",
    "\n",
    "for i in range(18,5,-2):\n",
    "    print(i)"
   ]
  },
  {
   "cell_type": "code",
   "execution_count": 46,
   "id": "b387e135",
   "metadata": {},
   "outputs": [
    {
     "name": "stdout",
     "output_type": "stream",
     "text": [
      "10\n",
      "15\n",
      "23\n",
      "45\n",
      "89\n",
      "12\n",
      "Total_Marks = 194\n"
     ]
    }
   ],
   "source": [
    "#For Loop in List for sum of multiple numbers\n",
    "\n",
    "Total_Marks=[10,15,23,45,89,12]\n",
    "\n",
    "sum=0\n",
    "\n",
    "for item in Total_Marks:\n",
    "    print(item)\n",
    "    \n",
    "    sum+=item\n",
    "    \n",
    "print(\"Total_Marks =\",sum)"
   ]
  },
  {
   "cell_type": "code",
   "execution_count": 45,
   "id": "d4587611",
   "metadata": {},
   "outputs": [
    {
     "name": "stdout",
     "output_type": "stream",
     "text": [
      "12\n",
      "18\n",
      "23\n",
      "45\n",
      "29\n",
      "32\n",
      "Total sum = 159\n"
     ]
    }
   ],
   "source": [
    "# While loop the above example\n",
    "\n",
    "Marks=[12,18,23,45,29,32]\n",
    "\n",
    "sum=0\n",
    "i=0\n",
    "\n",
    "while i < len(Marks):\n",
    "    print(Marks[i])\n",
    "    sum+=Marks[i]\n",
    "    i+=1\n",
    "    \n",
    "print(\"Total sum =\", sum)"
   ]
  },
  {
   "cell_type": "code",
   "execution_count": 48,
   "id": "a1716bf8",
   "metadata": {},
   "outputs": [
    {
     "name": "stdout",
     "output_type": "stream",
     "text": [
      "2\n",
      "4\n",
      "6\n",
      "8\n",
      "10\n"
     ]
    }
   ],
   "source": [
    "i=2\n",
    "\n",
    "while i<=10:\n",
    "    print(i)\n",
    "    i+=2"
   ]
  },
  {
   "cell_type": "markdown",
   "id": "92b9db0a",
   "metadata": {},
   "source": [
    "## Nested Loop"
   ]
  },
  {
   "cell_type": "code",
   "execution_count": 60,
   "id": "6cd682cd",
   "metadata": {},
   "outputs": [
    {
     "name": "stdout",
     "output_type": "stream",
     "text": [
      "0 -->I\n",
      "0 J Loop\n",
      "0 CC\n",
      "1 CC\n",
      "1 J Loop\n",
      "0 CC\n",
      "1 CC\n",
      "2 J Loop\n",
      "0 CC\n",
      "1 CC\n",
      "1 -->I\n",
      "0 J Loop\n",
      "0 CC\n",
      "1 CC\n",
      "1 J Loop\n",
      "0 CC\n",
      "1 CC\n",
      "2 J Loop\n",
      "0 CC\n",
      "1 CC\n"
     ]
    }
   ],
   "source": [
    "# In Nested Loop, the inner loop is executed and then outer loop is executed\n",
    "\n",
    "for i in range(2):\n",
    "    print(i, \"-->I\")\n",
    "    \n",
    "    for j in range(3):\n",
    "        print(j, \"J Loop\")\n",
    "        \n",
    "        for p in range(2):\n",
    "            print(p, \"CC\")"
   ]
  },
  {
   "cell_type": "code",
   "execution_count": 66,
   "id": "1d6243e7",
   "metadata": {},
   "outputs": [
    {
     "name": "stdout",
     "output_type": "stream",
     "text": [
      "------\n",
      "Red\n",
      "------\n",
      "Tiger\n",
      "Lion\n",
      "Elephant\n",
      "------\n",
      "White\n",
      "------\n",
      "Tiger\n",
      "Lion\n",
      "Elephant\n",
      "------\n",
      "Blue\n",
      "------\n",
      "Tiger\n",
      "Lion\n",
      "Elephant\n"
     ]
    }
   ],
   "source": [
    "# Nested loop \n",
    "# Eg-2\n",
    "\n",
    "colors=[\"Red\",\"White\", \"Blue\"]\n",
    "animals=[\"Tiger\",\"Lion\",\"Elephant\"]\n",
    "\n",
    "for i in colors:\n",
    "    print(\"------\")\n",
    "    print(i)\n",
    "    \n",
    "    print(\"------\")\n",
    "    for j in animals:\n",
    "        \n",
    "        print(j)\n"
   ]
  },
  {
   "cell_type": "markdown",
   "id": "ffb3a9a4",
   "metadata": {},
   "source": [
    "## Break"
   ]
  },
  {
   "cell_type": "code",
   "execution_count": 32,
   "id": "c3c01729",
   "metadata": {},
   "outputs": [
    {
     "name": "stdout",
     "output_type": "stream",
     "text": [
      "Cricket\n"
     ]
    }
   ],
   "source": [
    "#in \"Break\" the condition stops the execution one step before the mentioned item in the list.\n",
    "\n",
    "\n",
    "Game=[\"Cricket\", \"Football\", \"Badminton\",\"catch\",\"Tennis\"]\n",
    "\n",
    "for x in Game:\n",
    "    \n",
    "    if x == \"Football\":\n",
    "        \n",
    "         break\n",
    "            \n",
    "    print(x)\n",
    "   "
   ]
  },
  {
   "cell_type": "code",
   "execution_count": 40,
   "id": "c6b1b419",
   "metadata": {},
   "outputs": [
    {
     "name": "stdout",
     "output_type": "stream",
     "text": [
      "0\n",
      "1\n",
      "2\n",
      "3\n",
      "4\n",
      "5\n",
      "6\n",
      "7\n"
     ]
    }
   ],
   "source": [
    "#use of Break statement in For loop Range\n",
    "# It will print the loop from 1 to 7 and stops executing there onwards\n",
    "\n",
    "for i in range(10):\n",
    "    if i==8:\n",
    "        break\n",
    "    print(i)\n",
    "    \n",
    "    "
   ]
  },
  {
   "cell_type": "code",
   "execution_count": 91,
   "id": "824fa957",
   "metadata": {},
   "outputs": [
    {
     "name": "stdout",
     "output_type": "stream",
     "text": [
      "m\n",
      "a\n",
      "r\n",
      "Stop\n"
     ]
    }
   ],
   "source": [
    "#use of Break statement in For loop in String\n",
    "\n",
    "for item in \"market\":\n",
    "    if item ==\"k\":\n",
    "        break\n",
    "    print(item)\n",
    "    \n",
    "print(\"Stop\")"
   ]
  },
  {
   "cell_type": "code",
   "execution_count": 124,
   "id": "ddeca937",
   "metadata": {},
   "outputs": [
    {
     "name": "stdout",
     "output_type": "stream",
     "text": [
      "2\n",
      "3\n",
      "4\n",
      "5\n",
      "6\n",
      "7\n"
     ]
    }
   ],
   "source": [
    "#use of Break statement in while loop\n",
    "i=1\n",
    "while i<10:\n",
    "    \n",
    "    i+= 1   \n",
    "    print(i)\n",
    "    \n",
    "    if i == 7:\n",
    "        break\n",
    "   "
   ]
  },
  {
   "cell_type": "markdown",
   "id": "12170827",
   "metadata": {},
   "source": [
    "## Continue Statement"
   ]
  },
  {
   "cell_type": "code",
   "execution_count": 139,
   "id": "b723f062",
   "metadata": {},
   "outputs": [
    {
     "name": "stdout",
     "output_type": "stream",
     "text": [
      "Punjab\n",
      "Andhra\n",
      "Orrisa\n",
      "MP\n"
     ]
    }
   ],
   "source": [
    "# In this statement, it is excluding the word which is Telangana and printing remaining elements in the list\n",
    "# Ex-1\n",
    "States=[\"Punjab\",\"Andhra\",\"Telangana\",\"Orrisa\", \"MP\"]\n",
    "\n",
    "for S in States:\n",
    "    \n",
    "     if S == \"Telangana\":\n",
    "     \n",
    "       continue\n",
    "    \n",
    "     print(S)\n",
    "    "
   ]
  },
  {
   "cell_type": "code",
   "execution_count": 152,
   "id": "0a851c51",
   "metadata": {},
   "outputs": [
    {
     "name": "stdout",
     "output_type": "stream",
     "text": [
      "X= 1\n",
      "X= 2\n",
      "X= 3\n",
      "X= 4\n",
      "X= 5\n",
      "X= 6\n",
      "Exit Loop\n"
     ]
    }
   ],
   "source": [
    "# Ex-2 Continue statement Using While loop\n",
    "\n",
    "x=0\n",
    "while x<12:\n",
    "    x+=1\n",
    "    if x > 6:\n",
    "        continue\n",
    "   \n",
    "    print(\"X=\",x)\n",
    "print(\"Exit Loop\")\n",
    "    "
   ]
  },
  {
   "cell_type": "code",
   "execution_count": null,
   "id": "1fa48808",
   "metadata": {},
   "outputs": [],
   "source": []
  }
 ],
 "metadata": {
  "kernelspec": {
   "display_name": "Python 3 (ipykernel)",
   "language": "python",
   "name": "python3"
  },
  "language_info": {
   "codemirror_mode": {
    "name": "ipython",
    "version": 3
   },
   "file_extension": ".py",
   "mimetype": "text/x-python",
   "name": "python",
   "nbconvert_exporter": "python",
   "pygments_lexer": "ipython3",
   "version": "3.9.7"
  }
 },
 "nbformat": 4,
 "nbformat_minor": 5
}
