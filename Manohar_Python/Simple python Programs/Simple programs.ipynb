{
 "cells": [
  {
   "cell_type": "code",
   "execution_count": 27,
   "id": "3c931ead",
   "metadata": {},
   "outputs": [
    {
     "name": "stdout",
     "output_type": "stream",
     "text": [
      "Enter first number: 65\n",
      "Enter second number: 52\n",
      "Enter third number: 85\n",
      "num3 is greater than num1 and num2\n"
     ]
    }
   ],
   "source": [
    "# Code using IF and Else and Elif Statements\n",
    "\n",
    "# Program to find the largest number by taking 3 numbers as input by user.\n",
    "\n",
    "num1= int(input(\"Enter first number: \"))\n",
    "num2=int(input(\"Enter second number: \"))\n",
    "num3= int(input(\"Enter third number: \"))\n",
    "        \n",
    "if num1>num2 and num1>num3:\n",
    "    print(\"num1 is greater than num2 and num3\" )\n",
    "elif num2>num3:\n",
    "    print(\"num2 is greater than num1 and num2\" )\n",
    "else:\n",
    "    print(\"num3 is greater than num1 and num2\")\n",
    "          "
   ]
  },
  {
   "cell_type": "code",
   "execution_count": 31,
   "id": "d7ea31c2",
   "metadata": {},
   "outputs": [
    {
     "name": "stdout",
     "output_type": "stream",
     "text": [
      "Enter first number: 10\n",
      "Enter second number: 6\n",
      " Enter the operation code you want to perform:\n",
      "                \n",
      "\t press 1 - For Additon\n",
      "                \n",
      "\t press 2 - For Subtraction\n",
      "                \n",
      "\t press 3 - For Multiplication\n",
      "                \n",
      "\t press 4 - For Divition\n",
      "                \n",
      "\t press 5 - For Floor Divition3\n",
      "60\n"
     ]
    }
   ],
   "source": [
    "# Design a calculator by taking two user input and also user operation (Addition, Subtraction, Multiplication etc..)\n",
    "\n",
    "num1= int(input(\"Enter first number: \"))\n",
    "num2= int(input(\"Enter second number: \"))\n",
    "\n",
    "operation= int(input(''' Enter the operation code you want to perform:\n",
    "                \\n\\t press 1 - For Additon\n",
    "                \\n\\t press 2 - For Subtraction\n",
    "                \\n\\t press 3 - For Multiplication\n",
    "                \\n\\t press 4 - For Divition\n",
    "                \\n\\t press 5 - For Floor Divition'''))\n",
    "\n",
    "if operation == 1:\n",
    "    print(num1+num2)\n",
    "    \n",
    "elif operation == 2:\n",
    "    if num1>num2:\n",
    "        print(num1-num2)\n",
    "    else:\n",
    "        print(num2-num1)\n",
    "        \n",
    "elif operation == 3:\n",
    "    print(num1*num2)\n",
    "\n",
    "elif operation == 4:\n",
    "    if num1>num2:\n",
    "        print(num1/num2)\n",
    "    else:\n",
    "        print(num2/num1)\n",
    "        \n",
    "elif operation == 5:\n",
    "    if num1>num2:\n",
    "        print(num1//num2)\n",
    "    else:\n",
    "        print(num2//num1)\n",
    "        \n",
    "else:\n",
    "    print(\"Operation you want to perform is invalid\")"
   ]
  },
  {
   "cell_type": "code",
   "execution_count": 37,
   "id": "42966feb",
   "metadata": {},
   "outputs": [
    {
     "name": "stdout",
     "output_type": "stream",
     "text": [
      "0\n",
      "1\n",
      "2\n",
      "3\n",
      "4\n",
      "5\n",
      "6\n",
      "7\n",
      "8\n",
      "9\n"
     ]
    }
   ],
   "source": [
    "for i in range(10):\n",
    "   \n",
    "    print(i)"
   ]
  },
  {
   "cell_type": "code",
   "execution_count": 43,
   "id": "dd98e83a",
   "metadata": {},
   "outputs": [
    {
     "name": "stdout",
     "output_type": "stream",
     "text": [
      "Enter the number of rows6\n",
      "* \n",
      "* * \n",
      "* * * \n",
      "* * * * \n",
      "* * * * * \n",
      "* * * * * * \n"
     ]
    }
   ],
   "source": [
    "# Pyramid star program by user input\n",
    "\n",
    "n = int(input(\"Enter the number of rows\"))  \n",
    " \n",
    "for i in range(0, n):  \n",
    "    \n",
    "        for j in range(0, i + 1):  \n",
    "             \n",
    "            print(\"* \", end=\"\")       \n",
    "  \n",
    "    \n",
    "        print()  "
   ]
  },
  {
   "cell_type": "code",
   "execution_count": 48,
   "id": "4bf63010",
   "metadata": {},
   "outputs": [
    {
     "name": "stdout",
     "output_type": "stream",
     "text": [
      " 2   3   5   7   11   13   17   19   23   29   31   37   41   43   47  "
     ]
    }
   ],
   "source": [
    "#program to print prime numbers 1-50.\n",
    "\n",
    "for Number in range (1, 50):\n",
    "    start = 0\n",
    "    for i in range(2, (Number//2 + 1)):\n",
    "        if(Number % i == 0):\n",
    "            start = start + 1\n",
    "            break\n",
    "\n",
    "    if (start == 0 and Number != 1):\n",
    "        print(\" %d\" %Number, end = '  ')"
   ]
  },
  {
   "cell_type": "code",
   "execution_count": 1,
   "id": "4915556b",
   "metadata": {},
   "outputs": [
    {
     "data": {
      "text/plain": [
       "'C:\\\\Users\\\\Sudhir Mady\\\\Manohar_Python\\\\Simple python Programs'"
      ]
     },
     "execution_count": 1,
     "metadata": {},
     "output_type": "execute_result"
    }
   ],
   "source": [
    "import os\n",
    "os.getcwd()"
   ]
  },
  {
   "cell_type": "code",
   "execution_count": null,
   "id": "f019791d",
   "metadata": {},
   "outputs": [],
   "source": []
  }
 ],
 "metadata": {
  "kernelspec": {
   "display_name": "Python 3 (ipykernel)",
   "language": "python",
   "name": "python3"
  },
  "language_info": {
   "codemirror_mode": {
    "name": "ipython",
    "version": 3
   },
   "file_extension": ".py",
   "mimetype": "text/x-python",
   "name": "python",
   "nbconvert_exporter": "python",
   "pygments_lexer": "ipython3",
   "version": "3.9.7"
  }
 },
 "nbformat": 4,
 "nbformat_minor": 5
}
