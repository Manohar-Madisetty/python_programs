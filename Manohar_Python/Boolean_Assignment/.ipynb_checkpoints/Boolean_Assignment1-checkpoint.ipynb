{
 "cells": [
  {
   "cell_type": "code",
   "execution_count": 1,
   "id": "59ace369",
   "metadata": {},
   "outputs": [
    {
     "name": "stdout",
     "output_type": "stream",
     "text": [
      "<class 'bool'>\n",
      "<class 'bool'>\n",
      "140730654808200\n",
      "140730654808200\n"
     ]
    }
   ],
   "source": [
    "# Declare a boolean value and store it in a variable.\n",
    "a=True\n",
    "b=False\n",
    "print(type(a))\n",
    "print(type(b))\n",
    "print(id(b))\n",
    "print(id(b))\n",
    "\n",
    "      "
   ]
  },
  {
   "cell_type": "code",
   "execution_count": 14,
   "id": "58bf8af1",
   "metadata": {},
   "outputs": [
    {
     "name": "stdout",
     "output_type": "stream",
     "text": [
      "18\n",
      "14\n",
      "32\n",
      "8.0\n",
      "0\n",
      "8\n",
      "256\n"
     ]
    }
   ],
   "source": [
    "# Arithmetic Operations on boolean data\n",
    "x1=16\n",
    "x2=2\n",
    "# sum of both values\n",
    "print(x1+x2)\n",
    "\n",
    "# difference between both values\n",
    "print(x1-x2)\n",
    "\n",
    "# product of both\n",
    "print(x1*x2)\n",
    "\n",
    "# dividing first value with second value\n",
    "print(x1/x2)\n",
    "\n",
    "# remainder after dividing first value with second value\n",
    "print(x1%x2)\n",
    "\n",
    "# quotient after dividing first value with second value\n",
    "print(x1//x2)\n",
    "\n",
    "# result of first value to the power of second value.\n",
    "print(x1**x2)"
   ]
  },
  {
   "cell_type": "code",
   "execution_count": 15,
   "id": "7de26e21",
   "metadata": {},
   "outputs": [
    {
     "name": "stdout",
     "output_type": "stream",
     "text": [
      "False\n",
      "True\n",
      "False\n",
      "True\n"
     ]
    }
   ],
   "source": [
    "# Comparison Operators on boolean values\n",
    "a1=7\n",
    "a2=12\n",
    "\n",
    "# Greater than, '>'\n",
    "print(a1>a2)\n",
    "\n",
    "# less than, '<'\n",
    "print(a1<a2)\n",
    "\n",
    "# Greater than or equal to\n",
    "print(a1>=a2)\n",
    "\n",
    "# Less than or equal to\n",
    "print(a1<=a2)"
   ]
  },
  {
   "cell_type": "code",
   "execution_count": 16,
   "id": "0024b1b6",
   "metadata": {},
   "outputs": [
    {
     "name": "stdout",
     "output_type": "stream",
     "text": [
      "False\n",
      "True\n"
     ]
    }
   ],
   "source": [
    "# Equality Operator\n",
    "\n",
    "ab=25\n",
    "cd=23\n",
    "\n",
    "print(ab==cd)\n",
    "\n",
    "print(ab!=cd)"
   ]
  },
  {
   "cell_type": "code",
   "execution_count": 18,
   "id": "aae1dcd5",
   "metadata": {},
   "outputs": [
    {
     "name": "stdout",
     "output_type": "stream",
     "text": [
      "True\n",
      "False\n",
      "False\n",
      "False\n",
      "True\n",
      "True\n",
      "True\n",
      "False\n",
      "False\n",
      "True\n"
     ]
    }
   ],
   "source": [
    "# Logical operators\n",
    "\n",
    "print(True and True)\n",
    "print(False and True)\n",
    "print(True and False)\n",
    "print(False and False)\n",
    "print(True or True)\n",
    "print(False or True)\n",
    "print(True or False)\n",
    "print(False or False)\n",
    "print(not True)\n",
    "print(not False)"
   ]
  },
  {
   "cell_type": "code",
   "execution_count": 22,
   "id": "89246020",
   "metadata": {},
   "outputs": [
    {
     "name": "stdout",
     "output_type": "stream",
     "text": [
      "True\n",
      "False\n"
     ]
    }
   ],
   "source": [
    "a = True\n",
    "b = True\n",
    "print(a is b)\n",
    "print(a is not b)"
   ]
  },
  {
   "cell_type": "code",
   "execution_count": 23,
   "id": "b8ed06f3",
   "metadata": {},
   "outputs": [
    {
     "name": "stdout",
     "output_type": "stream",
     "text": [
      "True\n",
      "False\n"
     ]
    }
   ],
   "source": [
    "a = False\n",
    "b = False\n",
    "print(a is b)\n",
    "print(a is not b)"
   ]
  },
  {
   "cell_type": "code",
   "execution_count": 26,
   "id": "b6f8cf0c",
   "metadata": {},
   "outputs": [
    {
     "name": "stdout",
     "output_type": "stream",
     "text": [
      "True\n",
      "True\n",
      "True\n",
      "True\n",
      "True\n"
     ]
    }
   ],
   "source": [
    "print(True in [10,10.20,10+20j,'Python', True])\n",
    "print(False in (10,10.20,10+20j,'Python', False))\n",
    "print(True in {1,2,3, True})\n",
    "print(True in {True:100, False:200, True:300})\n",
    "print(False in {True:100, False:200, True:300})"
   ]
  },
  {
   "cell_type": "code",
   "execution_count": null,
   "id": "59669053",
   "metadata": {},
   "outputs": [],
   "source": []
  }
 ],
 "metadata": {
  "kernelspec": {
   "display_name": "Python 3 (ipykernel)",
   "language": "python",
   "name": "python3"
  },
  "language_info": {
   "codemirror_mode": {
    "name": "ipython",
    "version": 3
   },
   "file_extension": ".py",
   "mimetype": "text/x-python",
   "name": "python",
   "nbconvert_exporter": "python",
   "pygments_lexer": "ipython3",
   "version": "3.9.7"
  }
 },
 "nbformat": 4,
 "nbformat_minor": 5
}
